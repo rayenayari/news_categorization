{
 "cells": [
  {
   "cell_type": "markdown",
   "metadata": {
    "colab_type": "text",
    "id": "view-in-github"
   },
   "source": [
    "<a href=\"https://colab.research.google.com/github/rayenayari/news_categorization/blob/main/notebook.ipynb\" target=\"_parent\"><img src=\"https://colab.research.google.com/assets/colab-badge.svg\" alt=\"Open In Colab\"/></a>"
   ]
  },
  {
   "cell_type": "code",
   "execution_count": null,
   "metadata": {
    "scrolled": false
   },
   "outputs": [],
   "source": []
  },
  {
   "cell_type": "code",
   "execution_count": 1,
   "metadata": {
    "colab": {
     "base_uri": "https://localhost:8080/"
    },
    "id": "mFQjLUebDbJR",
    "outputId": "18db9943-d3e7-49d2-98a2-b76325cc78b0"
   },
   "outputs": [
    {
     "name": "stdout",
     "output_type": "stream",
     "text": [
      "['.git', '.DS_Store', 'News_Category_Dataset_v2.json', 'README.md', 'bert', 'notebook.ipynb', 'out', 'install_conda.sh', '.ipynb_checkpoints', 'rnn']\n"
     ]
    }
   ],
   "source": [
    "# This Python 3 environment comes with many helpful analytics libraries installed\n",
    "# It is defined by the kaggle/python Docker image: https://github.com/kaggle/docker-python\n",
    "# For example, here's several helpful packages to load\n",
    "\n",
    "import numpy as np # linear algebra\n",
    "import pandas as pd # data processing, CSV file I/O (e.g. pd.read_csv)\n",
    "import nltk \n",
    "# Input data files are available in the read-only \"../input/\" directory\n",
    "# For example, running this (by clicking run or pressing Shift+Enter) will list all files under the input directory\n",
    "import sklearn\n",
    "import os\n",
    "from os import listdir\n",
    "print(listdir('./'))\n",
    "#from google.colab import drive\n",
    "#drive.mount('/content/gdrive')\n",
    "\n"
   ]
  },
  {
   "cell_type": "markdown",
   "metadata": {
    "id": "fjNJhW27DbJU"
   },
   "source": [
    "The dataset is initially formatted as a Json list. We need to transform it to a pandas Dataframe"
   ]
  },
  {
   "cell_type": "code",
   "execution_count": 2,
   "metadata": {
    "colab": {
     "base_uri": "https://localhost:8080/",
     "height": 170
    },
    "id": "dROEvpgyDbJV",
    "outputId": "86755dfd-9159-4c49-983c-1535cf466a81"
   },
   "outputs": [
    {
     "data": {
      "text/html": [
       "<div>\n",
       "<style scoped>\n",
       "    .dataframe tbody tr th:only-of-type {\n",
       "        vertical-align: middle;\n",
       "    }\n",
       "\n",
       "    .dataframe tbody tr th {\n",
       "        vertical-align: top;\n",
       "    }\n",
       "\n",
       "    .dataframe thead th {\n",
       "        text-align: right;\n",
       "    }\n",
       "</style>\n",
       "<table border=\"1\" class=\"dataframe\">\n",
       "  <thead>\n",
       "    <tr style=\"text-align: right;\">\n",
       "      <th></th>\n",
       "      <th>category</th>\n",
       "      <th>headline</th>\n",
       "      <th>authors</th>\n",
       "      <th>link</th>\n",
       "      <th>short_description</th>\n",
       "      <th>date</th>\n",
       "    </tr>\n",
       "  </thead>\n",
       "  <tbody>\n",
       "    <tr>\n",
       "      <th>0</th>\n",
       "      <td>CRIME</td>\n",
       "      <td>There Were 2 Mass Shootings In Texas Last Week...</td>\n",
       "      <td>Melissa Jeltsen</td>\n",
       "      <td>https://www.huffingtonpost.com/entry/texas-ama...</td>\n",
       "      <td>She left her husband. He killed their children...</td>\n",
       "      <td>2018-05-26</td>\n",
       "    </tr>\n",
       "    <tr>\n",
       "      <th>1</th>\n",
       "      <td>ENTERTAINMENT</td>\n",
       "      <td>Will Smith Joins Diplo And Nicky Jam For The 2...</td>\n",
       "      <td>Andy McDonald</td>\n",
       "      <td>https://www.huffingtonpost.com/entry/will-smit...</td>\n",
       "      <td>Of course it has a song.</td>\n",
       "      <td>2018-05-26</td>\n",
       "    </tr>\n",
       "    <tr>\n",
       "      <th>2</th>\n",
       "      <td>ENTERTAINMENT</td>\n",
       "      <td>Hugh Grant Marries For The First Time At Age 57</td>\n",
       "      <td>Ron Dicker</td>\n",
       "      <td>https://www.huffingtonpost.com/entry/hugh-gran...</td>\n",
       "      <td>The actor and his longtime girlfriend Anna Ebe...</td>\n",
       "      <td>2018-05-26</td>\n",
       "    </tr>\n",
       "    <tr>\n",
       "      <th>3</th>\n",
       "      <td>ENTERTAINMENT</td>\n",
       "      <td>Jim Carrey Blasts 'Castrato' Adam Schiff And D...</td>\n",
       "      <td>Ron Dicker</td>\n",
       "      <td>https://www.huffingtonpost.com/entry/jim-carre...</td>\n",
       "      <td>The actor gives Dems an ass-kicking for not fi...</td>\n",
       "      <td>2018-05-26</td>\n",
       "    </tr>\n",
       "  </tbody>\n",
       "</table>\n",
       "</div>"
      ],
      "text/plain": [
       "        category                                           headline  \\\n",
       "0          CRIME  There Were 2 Mass Shootings In Texas Last Week...   \n",
       "1  ENTERTAINMENT  Will Smith Joins Diplo And Nicky Jam For The 2...   \n",
       "2  ENTERTAINMENT    Hugh Grant Marries For The First Time At Age 57   \n",
       "3  ENTERTAINMENT  Jim Carrey Blasts 'Castrato' Adam Schiff And D...   \n",
       "\n",
       "           authors                                               link  \\\n",
       "0  Melissa Jeltsen  https://www.huffingtonpost.com/entry/texas-ama...   \n",
       "1    Andy McDonald  https://www.huffingtonpost.com/entry/will-smit...   \n",
       "2       Ron Dicker  https://www.huffingtonpost.com/entry/hugh-gran...   \n",
       "3       Ron Dicker  https://www.huffingtonpost.com/entry/jim-carre...   \n",
       "\n",
       "                                   short_description       date  \n",
       "0  She left her husband. He killed their children... 2018-05-26  \n",
       "1                           Of course it has a song. 2018-05-26  \n",
       "2  The actor and his longtime girlfriend Anna Ebe... 2018-05-26  \n",
       "3  The actor gives Dems an ass-kicking for not fi... 2018-05-26  "
      ]
     },
     "execution_count": 2,
     "metadata": {},
     "output_type": "execute_result"
    }
   ],
   "source": [
    "import matplotlib.pyplot as plt\n",
    "#import keras\n",
    "plt.rcParams['figure.figsize'] = (16,10)\n",
    "df = pd.read_json('./News_Category_Dataset_v2.json', lines=True)\n",
    "df.head(4)\n"
   ]
  },
  {
   "cell_type": "markdown",
   "metadata": {
    "id": "ZvtondRuDbJW"
   },
   "source": [
    "Let's see the columns:"
   ]
  },
  {
   "cell_type": "code",
   "execution_count": 3,
   "metadata": {
    "colab": {
     "base_uri": "https://localhost:8080/"
    },
    "id": "uwdk7ug1DbJW",
    "outputId": "c35217d5-9e9b-4875-b46b-19462f0d8eb1"
   },
   "outputs": [
    {
     "name": "stdout",
     "output_type": "stream",
     "text": [
      "Total number of columns 6\n"
     ]
    }
   ],
   "source": [
    "columns=df.columns\n",
    "print(\"Total number of columns {}\".format(len(columns)))"
   ]
  },
  {
   "cell_type": "markdown",
   "metadata": {
    "id": "egujhKGwDbJX"
   },
   "source": [
    "For efficiency purposes, we will only use the category and the headline columns. "
   ]
  },
  {
   "cell_type": "code",
   "execution_count": 4,
   "metadata": {
    "colab": {
     "base_uri": "https://localhost:8080/",
     "height": 170
    },
    "id": "NAh7xkCQDbJX",
    "outputId": "3057f2ff-0d09-4a79-a8a9-1165abb50fef"
   },
   "outputs": [
    {
     "data": {
      "text/html": [
       "<div>\n",
       "<style scoped>\n",
       "    .dataframe tbody tr th:only-of-type {\n",
       "        vertical-align: middle;\n",
       "    }\n",
       "\n",
       "    .dataframe tbody tr th {\n",
       "        vertical-align: top;\n",
       "    }\n",
       "\n",
       "    .dataframe thead th {\n",
       "        text-align: right;\n",
       "    }\n",
       "</style>\n",
       "<table border=\"1\" class=\"dataframe\">\n",
       "  <thead>\n",
       "    <tr style=\"text-align: right;\">\n",
       "      <th></th>\n",
       "      <th>category</th>\n",
       "      <th>headline</th>\n",
       "    </tr>\n",
       "  </thead>\n",
       "  <tbody>\n",
       "    <tr>\n",
       "      <th>0</th>\n",
       "      <td>CRIME</td>\n",
       "      <td>There Were 2 Mass Shootings In Texas Last Week...</td>\n",
       "    </tr>\n",
       "    <tr>\n",
       "      <th>1</th>\n",
       "      <td>ENTERTAINMENT</td>\n",
       "      <td>Will Smith Joins Diplo And Nicky Jam For The 2...</td>\n",
       "    </tr>\n",
       "    <tr>\n",
       "      <th>2</th>\n",
       "      <td>ENTERTAINMENT</td>\n",
       "      <td>Hugh Grant Marries For The First Time At Age 5...</td>\n",
       "    </tr>\n",
       "    <tr>\n",
       "      <th>3</th>\n",
       "      <td>ENTERTAINMENT</td>\n",
       "      <td>Jim Carrey Blasts 'Castrato' Adam Schiff And D...</td>\n",
       "    </tr>\n",
       "  </tbody>\n",
       "</table>\n",
       "</div>"
      ],
      "text/plain": [
       "        category                                           headline\n",
       "0          CRIME  There Were 2 Mass Shootings In Texas Last Week...\n",
       "1  ENTERTAINMENT  Will Smith Joins Diplo And Nicky Jam For The 2...\n",
       "2  ENTERTAINMENT  Hugh Grant Marries For The First Time At Age 5...\n",
       "3  ENTERTAINMENT  Jim Carrey Blasts 'Castrato' Adam Schiff And D..."
      ]
     },
     "execution_count": 4,
     "metadata": {},
     "output_type": "execute_result"
    }
   ],
   "source": [
    "df[\"headline\"]+=\" \"+df.short_description\n",
    "df=df[[\"category\",\"headline\"]]\n",
    "\n",
    "df.head(4)"
   ]
  },
  {
   "cell_type": "markdown",
   "metadata": {
    "id": "uai38v6cDbJY"
   },
   "source": [
    "We need to merge the worldpost and world post.\n",
    "We merge similar categories to get a more uniform distribution.\n",
    "For example, business and money become business and Finance"
   ]
  },
  {
   "cell_type": "code",
   "execution_count": 5,
   "metadata": {
    "id": "07C9PfR-DbJY"
   },
   "outputs": [],
   "source": [
    "df=df.copy()\n",
    "#df.category = df.category.map(lambda x: \"WORLDPOST\" if x == \"THE WORLDPOST\" else x )\n",
    "df['category']=df['category'].replace({\"HEALTHY LIVING\": \"WELLNESS\",\n",
    "\"QUEER VOICES\": \"GROUPS VOICES\",\n",
    "\"BUSINESS\": \"BUSINESS & FINANCES\",\n",
    "\"PARENTS\": \"PARENTING\",\n",
    "\"BLACK VOICES\": \"GROUPS VOICES\",\n",
    "\"THE WORLDPOST\": \"WORLD NEWS\",\n",
    "\"STYLE\": \"STYLE & BEAUTY\",\n",
    "\"GREEN\": \"ENVIRONMENT\",\n",
    "\"TASTE\": \"FOOD & DRINK\",\n",
    "\"WORLDPOST\": \"WORLD NEWS\",\n",
    "\"SCIENCE\": \"SCIENCE & TECH\",\n",
    "\"TECH\": \"SCIENCE & TECH\",\n",
    "\"MONEY\": \"BUSINESS & FINANCES\",\n",
    "\"ARTS\": \"ARTS & CULTURE\",\n",
    "\"COLLEGE\": \"EDUCATION\",\n",
    "\"LATINO VOICES\": \"GROUPS VOICES\",\n",
    "\"CULTURE & ARTS\": \"ARTS & CULTURE\",\n",
    "\"FIFTY\": \"MISCELLANEOUS\",\n",
    "\"GOOD NEWS\": \"MISCELLANEOUS\"})"
   ]
  },
  {
   "cell_type": "code",
   "execution_count": 6,
   "metadata": {
    "colab": {
     "base_uri": "https://localhost:8080/"
    },
    "id": "yTaLO6R1DbJZ",
    "outputId": "95edac32-bcee-4795-d799-2afb331f2d38"
   },
   "outputs": [
    {
     "name": "stdout",
     "output_type": "stream",
     "text": [
      "Total number of categories: 26\n"
     ]
    }
   ],
   "source": [
    "categories=df.groupby(\"category\")\n",
    "print(\"Total number of categories: {}\".format(categories.ngroups))"
   ]
  },
  {
   "cell_type": "markdown",
   "metadata": {
    "id": "YR_sZ05EDbJZ"
   },
   "source": [
    "We rename the columns: category-> y and headline-> text"
   ]
  },
  {
   "cell_type": "code",
   "execution_count": 7,
   "metadata": {
    "colab": {
     "base_uri": "https://localhost:8080/",
     "height": 108
    },
    "id": "SXOlxI7UDbJa",
    "outputId": "f3f38a17-c502-4ef1-96e5-8af65a4993ac"
   },
   "outputs": [
    {
     "data": {
      "text/html": [
       "<div>\n",
       "<style scoped>\n",
       "    .dataframe tbody tr th:only-of-type {\n",
       "        vertical-align: middle;\n",
       "    }\n",
       "\n",
       "    .dataframe tbody tr th {\n",
       "        vertical-align: top;\n",
       "    }\n",
       "\n",
       "    .dataframe thead th {\n",
       "        text-align: right;\n",
       "    }\n",
       "</style>\n",
       "<table border=\"1\" class=\"dataframe\">\n",
       "  <thead>\n",
       "    <tr style=\"text-align: right;\">\n",
       "      <th></th>\n",
       "      <th>y</th>\n",
       "      <th>text</th>\n",
       "    </tr>\n",
       "  </thead>\n",
       "  <tbody>\n",
       "    <tr>\n",
       "      <th>46444</th>\n",
       "      <td>POLITICS</td>\n",
       "      <td>Rahm Emanuel Denies Laquan McDonald Cover-Up I...</td>\n",
       "    </tr>\n",
       "    <tr>\n",
       "      <th>168412</th>\n",
       "      <td>TRAVEL</td>\n",
       "      <td>Flying To Hawaii? 19 Stunning Images You May S...</td>\n",
       "    </tr>\n",
       "  </tbody>\n",
       "</table>\n",
       "</div>"
      ],
      "text/plain": [
       "               y                                               text\n",
       "46444   POLITICS  Rahm Emanuel Denies Laquan McDonald Cover-Up I...\n",
       "168412    TRAVEL  Flying To Hawaii? 19 Stunning Images You May S..."
      ]
     },
     "execution_count": 7,
     "metadata": {},
     "output_type": "execute_result"
    }
   ],
   "source": [
    "df=df.rename(columns={\"headline\":\"text\",\"category\":'y'})\n",
    "from sklearn.utils import shuffle\n",
    "df = shuffle(df)\n",
    "df.reset_index(inplace=True, drop=True) \n",
    "#we print 2 rows\n",
    "df.sample(2)\n"
   ]
  },
  {
   "cell_type": "markdown",
   "metadata": {
    "id": "HC4rd1WODbJa"
   },
   "source": [
    "We need to convert category to id"
   ]
  },
  {
   "cell_type": "code",
   "execution_count": 8,
   "metadata": {
    "colab": {
     "base_uri": "https://localhost:8080/"
    },
    "id": "0-loHWCiDbJb",
    "outputId": "da299b46-ae28-4f26-c621-def79a248f94"
   },
   "outputs": [
    {
     "name": "stdout",
     "output_type": "stream",
     "text": [
      "['POLITICS', 'WELLNESS', 'ENTERTAINMENT', 'PARENTING', 'GROUPS VOICES', 'STYLE & BEAUTY', 'TRAVEL', 'WORLD NEWS', 'FOOD & DRINK', 'BUSINESS & FINANCES', 'COMEDY', 'SPORTS', 'SCIENCE & TECH', 'HOME & LIVING', 'ENVIRONMENT', 'ARTS & CULTURE', 'WEDDINGS', 'WOMEN', 'IMPACT', 'DIVORCE', 'CRIME', 'MEDIA', 'MISCELLANEOUS', 'WEIRD NEWS', 'RELIGION', 'EDUCATION']\n"
     ]
    },
    {
     "data": {
      "text/plain": [
       "{'POLITICS': 0,\n",
       " 'WELLNESS': 1,\n",
       " 'ENTERTAINMENT': 2,\n",
       " 'PARENTING': 3,\n",
       " 'GROUPS VOICES': 4,\n",
       " 'STYLE & BEAUTY': 5,\n",
       " 'TRAVEL': 6,\n",
       " 'WORLD NEWS': 7,\n",
       " 'FOOD & DRINK': 8,\n",
       " 'BUSINESS & FINANCES': 9,\n",
       " 'COMEDY': 10,\n",
       " 'SPORTS': 11,\n",
       " 'SCIENCE & TECH': 12,\n",
       " 'HOME & LIVING': 13,\n",
       " 'ENVIRONMENT': 14,\n",
       " 'ARTS & CULTURE': 15,\n",
       " 'WEDDINGS': 16,\n",
       " 'WOMEN': 17,\n",
       " 'IMPACT': 18,\n",
       " 'DIVORCE': 19,\n",
       " 'CRIME': 20,\n",
       " 'MEDIA': 21,\n",
       " 'MISCELLANEOUS': 22,\n",
       " 'WEIRD NEWS': 23,\n",
       " 'RELIGION': 24,\n",
       " 'EDUCATION': 25}"
      ]
     },
     "execution_count": 8,
     "metadata": {},
     "output_type": "execute_result"
    }
   ],
   "source": [
    "# category to id\n",
    "categories = [\"POLITICS\",\"WELLNESS\",\"ENTERTAINMENT\",\"PARENTING\",\"GROUPS VOICES\",'STYLE & BEAUTY','TRAVEL','WORLD NEWS','FOOD & DRINK','BUSINESS & FINANCES','COMEDY',\n",
    "           'SPORTS','SCIENCE & TECH','HOME & LIVING','ENVIRONMENT','ARTS & CULTURE','WEDDINGS','WOMEN','IMPACT','DIVORCE','CRIME','MEDIA','MISCELLANEOUS','WEIRD NEWS','RELIGION','EDUCATION']\n",
    "print(categories)\n",
    "category_int = {}\n",
    "int_category = {}\n",
    "for i, k in enumerate(categories):\n",
    "    category_int.update({k:i})\n",
    "    int_category.update({i:k})\n",
    "\n",
    "df['c2id'] = df['y'].apply(lambda x: category_int[x])\n",
    "category_int\n"
   ]
  },
  {
   "cell_type": "markdown",
   "metadata": {
    "id": "OeFPTC_3DbJb"
   },
   "source": [
    "We see the composition of the dataset. This would be helpful to draw conclusions about the accuracy of our model(s).\n",
    "Clearly, we expect a better accuracy for politics categorization."
   ]
  },
  {
   "cell_type": "code",
   "execution_count": 9,
   "metadata": {
    "colab": {
     "base_uri": "https://localhost:8080/",
     "height": 356
    },
    "id": "kDmB6_MKDbJc",
    "outputId": "0fd90ed8-13b7-4d5b-e3fc-c2e1fc22cf7f"
   },
   "outputs": [
    {
     "data": {
      "image/png": "[encoded data removed]",
      "text/plain": [
       "<Figure size 648x360 with 1 Axes>"
      ]
     },
     "metadata": {
      "needs_background": "light"
     },
     "output_type": "display_data"
    }
   ],
   "source": [
    "fig, ax = plt.subplots(figsize=(9,5))\n",
    "fig.suptitle(\"Categories distribution\", fontsize=12)\n",
    "df[\"y\"].reset_index().groupby(\"y\").count().sort_values(by= \n",
    "       \"index\").plot(kind=\"barh\", legend=False, \n",
    "        ax=ax).grid(axis='x')\n",
    "plt.show()"
   ]
  },
  {
   "cell_type": "markdown",
   "metadata": {
    "id": "bLePvO4zIznr"
   },
   "source": [
    "### Preprocessing the data:"
   ]
  },
  {
   "cell_type": "markdown",
   "metadata": {
    "id": "mXiwxbF5DbJc"
   },
   "source": [
    "We need to clean the data:\n",
    "- We merge categories that are very close\n",
    "- We remove stop words and we apply lemmatization (used from towardsdatascience)"
   ]
  },
  {
   "cell_type": "code",
   "execution_count": 10,
   "metadata": {
    "colab": {
     "base_uri": "https://localhost:8080/",
     "height": 67
    },
    "id": "5WricZchDbJd",
    "outputId": "c2ba7da9-a55e-4e96-c822-e8f75b71e4e3"
   },
   "outputs": [
    {
     "name": "stderr",
     "output_type": "stream",
     "text": [
      "[nltk_data] Downloading package wordnet to /home/rayari/nltk_data...\n",
      "[nltk_data]   Package wordnet is already up-to-date!\n"
     ]
    },
    {
     "data": {
      "text/plain": [
       "'an'"
      ]
     },
     "execution_count": 10,
     "metadata": {},
     "output_type": "execute_result"
    }
   ],
   "source": [
    "'''\n",
    "Preprocess a string.\n",
    ":parameter\n",
    "    :param text: string - name of column containing text\n",
    "    :param lst_stopwords: list - list of stopwords to remove\n",
    "    :param flg_stemm: bool - whether stemming is to be applied\n",
    "    :param flg_lemm: bool - whether lemmitisation is to be applied\n",
    ":return\n",
    "    cleaned text\n",
    "'''\n",
    "import re\n",
    "nltk.download('wordnet')\n",
    "def utils_preprocess_text(text, flg_stemm=False, flg_lemm=True, lst_stopwords=None):\n",
    "    ## clean (convert to lowercase and remove punctuations and   characters and then strip)\n",
    "    text = re.sub(r'[^\\w\\s]', '', str(text).lower().strip())\n",
    "            \n",
    "    ## Tokenize (convert from string to list)\n",
    "    lst_text = text.split()\n",
    "    ## remove Stopwords\n",
    "    if lst_stopwords is not None:\n",
    "        lst_text = [word for word in lst_text if word not in \n",
    "                    lst_stopwords]\n",
    "                \n",
    "    ## Stemming (remove -ing, -ly, ...)\n",
    "    if flg_stemm == True:\n",
    "        ps = nltk.stem.porter.PorterStemmer()\n",
    "        lst_text = [ps.stem(word) for word in lst_text]\n",
    "                \n",
    "    ## Lemmatisation (convert the word into root word)\n",
    "    if flg_lemm == True:\n",
    "        lem = nltk.stem.wordnet.WordNetLemmatizer()\n",
    "        lst_text = [lem.lemmatize(word) for word in lst_text]\n",
    "            \n",
    "    ## back to string from list\n",
    "    text = \" \".join(lst_text)\n",
    "    return text\n",
    "utils_preprocess_text(\"ray an\", flg_stemm=False, flg_lemm=True, lst_stopwords=[\"ray\"])"
   ]
  },
  {
   "cell_type": "markdown",
   "metadata": {
    "id": "amsfwBSKDbJd"
   },
   "source": [
    "Corpus stop words:"
   ]
  },
  {
   "cell_type": "code",
   "execution_count": 11,
   "metadata": {
    "colab": {
     "base_uri": "https://localhost:8080/"
    },
    "id": "pGrHb4UYDbJe",
    "outputId": "527d8dc3-a114-4ca7-8e44-5e5624f6185b"
   },
   "outputs": [
    {
     "name": "stderr",
     "output_type": "stream",
     "text": [
      "[nltk_data] Downloading package stopwords to /home/rayari/nltk_data...\n",
      "[nltk_data]   Package stopwords is already up-to-date!\n"
     ]
    },
    {
     "data": {
      "text/plain": [
       "['i', 'me', 'my', 'myself', 'we', 'our', 'ours', 'ourselves', 'you', \"you're\"]"
      ]
     },
     "execution_count": 11,
     "metadata": {},
     "output_type": "execute_result"
    }
   ],
   "source": [
    "nltk.download('stopwords')\n",
    "list_stopwords=nltk.corpus.stopwords.words(\"english\")\n",
    "list_stopwords[:10]"
   ]
  },
  {
   "cell_type": "markdown",
   "metadata": {
    "id": "V2XoRX-4DbJe"
   },
   "source": [
    "We clean the dataset using the function written above:"
   ]
  },
  {
   "cell_type": "code",
   "execution_count": 12,
   "metadata": {
    "id": "Evpqz8kLDbJe"
   },
   "outputs": [],
   "source": [
    "df[\"clean_text\"] = df[\"text\"].apply(lambda x: \n",
    "          utils_preprocess_text(x, flg_stemm=False, flg_lemm=True, \n",
    "          lst_stopwords=list_stopwords))"
   ]
  },
  {
   "cell_type": "markdown",
   "metadata": {
    "id": "CHPS1EStDbJf"
   },
   "source": [
    "We compare text with clean text:"
   ]
  },
  {
   "cell_type": "code",
   "execution_count": 13,
   "metadata": {
    "colab": {
     "base_uri": "https://localhost:8080/"
    },
    "id": "RRRA6CwVDbJf",
    "outputId": "1e14aaf3-92e5-4fb9-9982-139ebd42d6c0"
   },
   "outputs": [
    {
     "name": "stdout",
     "output_type": "stream",
     "text": [
      "Text before cleaning: Seasonal Allergies Stealing Your Sleep? How To Find Relief Since, by many accounts, this allergy season is bound to be a bad one, that's advice worth heeding. In a recent study published\n",
      "\n",
      "Text after cleaning: seasonal allergy stealing sleep find relief since many account allergy season bound bad one thats advice worth heeding recent study published\n",
      "\n"
     ]
    }
   ],
   "source": [
    "print(\"Text before cleaning: {}\\n\".format(df[\"text\"][1]))\n",
    "print(\"Text after cleaning: {}\\n\".format(df[\"clean_text\"][1]))"
   ]
  },
  {
   "cell_type": "markdown",
   "metadata": {
    "id": "8vDZBQFPDbJg"
   },
   "source": [
    "We delete empty and short data:"
   ]
  },
  {
   "cell_type": "code",
   "execution_count": 14,
   "metadata": {
    "colab": {
     "base_uri": "https://localhost:8080/",
     "height": 108
    },
    "id": "9oa0KYLiDbJg",
    "outputId": "a6afa74c-947f-45c8-fc85-178376aca82c"
   },
   "outputs": [
    {
     "data": {
      "text/html": [
       "<div>\n",
       "<style scoped>\n",
       "    .dataframe tbody tr th:only-of-type {\n",
       "        vertical-align: middle;\n",
       "    }\n",
       "\n",
       "    .dataframe tbody tr th {\n",
       "        vertical-align: top;\n",
       "    }\n",
       "\n",
       "    .dataframe thead th {\n",
       "        text-align: right;\n",
       "    }\n",
       "</style>\n",
       "<table border=\"1\" class=\"dataframe\">\n",
       "  <thead>\n",
       "    <tr style=\"text-align: right;\">\n",
       "      <th></th>\n",
       "      <th>y</th>\n",
       "      <th>text</th>\n",
       "      <th>c2id</th>\n",
       "      <th>clean_text</th>\n",
       "      <th>word_length</th>\n",
       "    </tr>\n",
       "  </thead>\n",
       "  <tbody>\n",
       "    <tr>\n",
       "      <th>193605</th>\n",
       "      <td>POLITICS</td>\n",
       "      <td>Donald Trump, Meet Frederick Douglass The pres...</td>\n",
       "      <td>0</td>\n",
       "      <td>donald trump meet frederick douglas president ...</td>\n",
       "      <td>16</td>\n",
       "    </tr>\n",
       "    <tr>\n",
       "      <th>183541</th>\n",
       "      <td>BUSINESS &amp; FINANCES</td>\n",
       "      <td>This $1,000 Pill Shows Why Fixing Health Costs...</td>\n",
       "      <td>9</td>\n",
       "      <td>1000 pill show fixing health cost hard</td>\n",
       "      <td>7</td>\n",
       "    </tr>\n",
       "  </tbody>\n",
       "</table>\n",
       "</div>"
      ],
      "text/plain": [
       "                          y  \\\n",
       "193605             POLITICS   \n",
       "183541  BUSINESS & FINANCES   \n",
       "\n",
       "                                                     text  c2id  \\\n",
       "193605  Donald Trump, Meet Frederick Douglass The pres...     0   \n",
       "183541  This $1,000 Pill Shows Why Fixing Health Costs...     9   \n",
       "\n",
       "                                               clean_text  word_length  \n",
       "193605  donald trump meet frederick douglas president ...           16  \n",
       "183541             1000 pill show fixing health cost hard            7  "
      ]
     },
     "execution_count": 14,
     "metadata": {},
     "output_type": "execute_result"
    }
   ],
   "source": [
    "df[\"word_length\"]=df.clean_text.apply(lambda x: len(x.split()))\n",
    "df=df[df.word_length>=5]\n",
    "df.head(4)\n",
    "\n",
    "df.sample(2)"
   ]
  },
  {
   "cell_type": "markdown",
   "metadata": {
    "id": "Ho_GMmemDbJg"
   },
   "source": [
    "Now, we divide the data into train/dev/test split according to 80/10/10"
   ]
  },
  {
   "cell_type": "code",
   "execution_count": 15,
   "metadata": {
    "id": "G6xmqVUlDbJg"
   },
   "outputs": [],
   "source": [
    "from sklearn.model_selection import train_test_split\n",
    "X = df['clean_text']\n",
    "y = df['c2id']\n",
    "X_train, X_rem, y_train, y_rem = train_test_split(X,y, train_size=0.8)\n",
    "X_valid, X_test, y_valid, y_test = train_test_split(X_rem,y_rem, test_size=0.5)"
   ]
  },
  {
   "cell_type": "code",
   "execution_count": 16,
   "metadata": {
    "colab": {
     "base_uri": "https://localhost:8080/"
    },
    "id": "bUqU_fyuDbJh",
    "outputId": "9ce3c8d5-8b40-4647-c793-8586c26a1ddb"
   },
   "outputs": [
    {
     "name": "stdout",
     "output_type": "stream",
     "text": [
      "(157952,)\n",
      "(157952,)\n",
      "(19744,)\n",
      "(19744,)\n",
      "(19745,)\n",
      "(19745,)\n"
     ]
    },
    {
     "data": {
      "text/plain": [
       "(None, None)"
      ]
     },
     "execution_count": 16,
     "metadata": {},
     "output_type": "execute_result"
    }
   ],
   "source": [
    "print(X_train.shape), print(y_train.shape)\n",
    "print(X_valid.shape), print(y_valid.shape)\n",
    "print(X_test.shape), print(y_test.shape)"
   ]
  },
  {
   "cell_type": "code",
   "execution_count": null,
   "metadata": {
    "id": "hnYDsOZeDbJh"
   },
   "outputs": [],
   "source": []
  },
  {
   "cell_type": "markdown",
   "metadata": {
    "id": "mhZ2Gyh9DbJh"
   },
   "source": [
    "All the neural networks require to have inputs that have the same shape and size. However, when we pre-process and use the texts as inputs for our model e.g. LSTM, not all the sentences have the same length. In other words, naturally, some of the sentences are longer or shorter. We need to have the inputs with the same size, this is where the padding is necessary."
   ]
  },
  {
   "cell_type": "code",
   "execution_count": 17,
   "metadata": {
    "id": "e4loh82GDbJh"
   },
   "outputs": [
    {
     "name": "stderr",
     "output_type": "stream",
     "text": [
      "2021-11-19 18:03:41.254345: I tensorflow/stream_executor/platform/default/dso_loader.cc:49] Successfully opened dynamic library libcudart.so.10.1\n"
     ]
    }
   ],
   "source": [
    "from tensorflow.keras.preprocessing.text import Tokenizer\n",
    "from tensorflow.keras.preprocessing.sequence import pad_sequences\n",
    "vocab_size = 12000 # arbitrarily chosen\n",
    "embed_size = 32 # arbitrarily chosen\n",
    "\n",
    "# Create and Fit tokenizer\n",
    "tok = Tokenizer(num_words=vocab_size)\n",
    "tok.fit_on_texts(X_train)\n",
    "\n",
    "# Tokenize data\n",
    "X_train_rnn = tok.texts_to_sequences(X_train)\n",
    "X_test_rnn = tok.texts_to_sequences(X_test)\n",
    "\n",
    "# Pad data\n",
    "maxlen = 50\n",
    "X_train_rnn = pad_sequences(X_train_rnn, maxlen=maxlen)\n",
    "X_test_rnn = pad_sequences(X_test_rnn, maxlen=maxlen)"
   ]
  },
  {
   "cell_type": "markdown",
   "metadata": {
    "id": "jyKZQ5p-DbJi"
   },
   "source": [
    "### RNN MODEL SUMMARY\n"
   ]
  },
  {
   "cell_type": "code",
   "execution_count": 73,
   "metadata": {
    "colab": {
     "base_uri": "https://localhost:8080/"
    },
    "id": "Y_MZcoNXDbJi",
    "outputId": "44bf5034-0fe3-44ab-d455-7be824e3dccf"
   },
   "outputs": [
    {
     "name": "stdout",
     "output_type": "stream",
     "text": [
      "Model: \"RNN_MODEL_WITHOUT_TUNING\"\n",
      "_________________________________________________________________\n",
      "Layer (type)                 Output Shape              Param #   \n",
      "=================================================================\n",
      "embedding_13 (Embedding)     (None, 50, 32)            384000    \n",
      "_________________________________________________________________\n",
      "bidirectional_24 (Bidirectio (None, 50, 256)           164864    \n",
      "_________________________________________________________________\n",
      "bidirectional_25 (Bidirectio (None, 50, 128)           164352    \n",
      "_________________________________________________________________\n",
      "global_max_pooling1d_12 (Glo (None, 128)               0         \n",
      "_________________________________________________________________\n",
      "dropout_24 (Dropout)         (None, 128)               0         \n",
      "_________________________________________________________________\n",
      "dense_24 (Dense)             (None, 64)                8256      \n",
      "_________________________________________________________________\n",
      "dropout_25 (Dropout)         (None, 64)                0         \n",
      "_________________________________________________________________\n",
      "dense_25 (Dense)             (None, 26)                1690      \n",
      "=================================================================\n",
      "Total params: 723,162\n",
      "Trainable params: 723,162\n",
      "Non-trainable params: 0\n",
      "_________________________________________________________________\n"
     ]
    }
   ],
   "source": [
    "from tensorflow.keras.models import Model, Sequential\n",
    "from tensorflow.keras.layers import Embedding, LSTM, Dense, Dropout, GlobalMaxPooling1D, Bidirectional\n",
    "model_before_tuning = Sequential(name=\"RNN_MODEL_WITHOUT_TUNING\")\n",
    "model_before_tuning.add(Embedding(vocab_size, embed_size, input_length=maxlen))\n",
    "model_before_tuning.add(Bidirectional(LSTM(128, return_sequences=True))) \n",
    "model_before_tuning.add(Bidirectional(LSTM(64, return_sequences=True)))\n",
    "model_before_tuning.add(GlobalMaxPooling1D()) #Pooling Layer decreases sensitivity to features, thereby creating more generalised data for better test results.\n",
    "model_before_tuning.add(Dropout(0.25)) #Dropout layer nullifies certain random input values to generate a more general dataset and prevent the problem of overfitting.\n",
    "model_before_tuning.add(Dense(64))\n",
    "model_before_tuning.add(Dropout(0.25))\n",
    "model_before_tuning.add(Dense(26, activation='softmax')) #softmax is used as the activation function for multi-class classification problems where class membership is required on more than two class labels.\n",
    "model_before_tuning.summary()"
   ]
  },
  {
   "cell_type": "code",
   "execution_count": 74,
   "metadata": {
    "id": "i1V-B6_RDbJj"
   },
   "outputs": [],
   "source": [
    "#Deep Learning\n",
    "import tensorflow as tf\n",
    "from tensorflow.keras.models import Model, Sequential\n",
    "from tensorflow.keras.layers import Embedding, LSTM, Dense, Dropout, GlobalMaxPooling1D, Bidirectional, Input\n",
    "from tensorflow.keras.preprocessing.text import Tokenizer\n",
    "from tensorflow.keras.optimizers import Adam\n",
    "from tensorflow.keras.preprocessing.sequence import pad_sequences\n",
    "from tensorflow.keras.callbacks import ModelCheckpoint, EarlyStopping\n",
    "from tensorflow.keras.utils import plot_model\n",
    "checkpoint_filepath_no_tuning = './rnn/checkpoint_no_tuning'\n",
    "model_before_tuning_checkpoint_callback = tf.keras.callbacks.ModelCheckpoint(\n",
    "    filepath=checkpoint_filepath_no_tuning,\n",
    "    save_weights_only=True,\n",
    "    monitor='val_accuracy',\n",
    "    mode='max',\n",
    "    save_best_only=True)\n"
   ]
  },
  {
   "cell_type": "code",
   "execution_count": 75,
   "metadata": {
    "id": "ImkNKud9DbJj"
   },
   "outputs": [
    {
     "name": "stdout",
     "output_type": "stream",
     "text": [
      "Epoch 1/20\n",
      "617/617 [==============================] - 20s 27ms/step - loss: 2.4966 - accuracy: 0.3098 - val_loss: 1.4908 - val_accuracy: 0.5910\n",
      "Epoch 2/20\n",
      "617/617 [==============================] - 15s 24ms/step - loss: 1.4299 - accuracy: 0.6104 - val_loss: 1.2932 - val_accuracy: 0.6459\n",
      "Epoch 3/20\n",
      "617/617 [==============================] - 15s 24ms/step - loss: 1.1860 - accuracy: 0.6760 - val_loss: 1.2309 - val_accuracy: 0.6585\n",
      "Epoch 4/20\n",
      "617/617 [==============================] - 15s 24ms/step - loss: 1.0673 - accuracy: 0.7049 - val_loss: 1.2090 - val_accuracy: 0.6651\n",
      "Epoch 5/20\n",
      "617/617 [==============================] - 15s 24ms/step - loss: 0.9808 - accuracy: 0.7262 - val_loss: 1.2247 - val_accuracy: 0.6678\n",
      "Epoch 6/20\n",
      "617/617 [==============================] - 15s 24ms/step - loss: 0.9071 - accuracy: 0.7442 - val_loss: 1.2285 - val_accuracy: 0.6663\n",
      "Epoch 7/20\n",
      "617/617 [==============================] - 15s 24ms/step - loss: 0.8454 - accuracy: 0.7618 - val_loss: 1.2328 - val_accuracy: 0.6652\n",
      "Epoch 8/20\n",
      "617/617 [==============================] - 15s 24ms/step - loss: 0.7818 - accuracy: 0.7764 - val_loss: 1.2724 - val_accuracy: 0.6668\n",
      "Epoch 9/20\n",
      "617/617 [==============================] - 15s 24ms/step - loss: 0.7329 - accuracy: 0.7902 - val_loss: 1.3223 - val_accuracy: 0.6585\n",
      "Epoch 10/20\n",
      "617/617 [==============================] - 15s 24ms/step - loss: 0.6721 - accuracy: 0.8075 - val_loss: 1.4067 - val_accuracy: 0.6553\n",
      "Epoch 11/20\n",
      "617/617 [==============================] - 15s 24ms/step - loss: 0.6313 - accuracy: 0.8166 - val_loss: 1.4017 - val_accuracy: 0.6523\n",
      "Epoch 12/20\n",
      "617/617 [==============================] - 15s 24ms/step - loss: 0.5889 - accuracy: 0.8289 - val_loss: 1.5104 - val_accuracy: 0.6488\n",
      "Epoch 13/20\n",
      "617/617 [==============================] - 15s 24ms/step - loss: 0.5423 - accuracy: 0.8427 - val_loss: 1.5316 - val_accuracy: 0.6451\n",
      "Epoch 14/20\n",
      "617/617 [==============================] - 15s 24ms/step - loss: 0.5092 - accuracy: 0.8512 - val_loss: 1.6736 - val_accuracy: 0.6406\n",
      "Epoch 15/20\n",
      "617/617 [==============================] - 15s 24ms/step - loss: 0.4777 - accuracy: 0.8601 - val_loss: 1.7435 - val_accuracy: 0.6412\n",
      "Epoch 16/20\n",
      "617/617 [==============================] - 15s 24ms/step - loss: 0.4429 - accuracy: 0.8700 - val_loss: 1.8156 - val_accuracy: 0.6365\n",
      "Epoch 17/20\n",
      "617/617 [==============================] - 15s 24ms/step - loss: 0.4115 - accuracy: 0.8800 - val_loss: 1.9035 - val_accuracy: 0.6352\n",
      "Epoch 18/20\n",
      "617/617 [==============================] - 15s 24ms/step - loss: 0.3822 - accuracy: 0.8872 - val_loss: 1.9626 - val_accuracy: 0.6362\n",
      "Epoch 19/20\n",
      "617/617 [==============================] - 15s 24ms/step - loss: 0.3561 - accuracy: 0.8945 - val_loss: 2.0164 - val_accuracy: 0.6266\n",
      "Epoch 20/20\n",
      "617/617 [==============================] - 15s 24ms/step - loss: 0.3342 - accuracy: 0.9014 - val_loss: 2.1429 - val_accuracy: 0.6238\n"
     ]
    }
   ],
   "source": [
    "#Compile and Fit Model\n",
    "from sklearn.model_selection import GridSearchCV\n",
    "model_before_tuning.compile(loss='sparse_categorical_crossentropy', #Sparse Categorical Crossentropy Loss because data is not one-hot encoded\n",
    "              optimizer='adam', \n",
    "              metrics=['accuracy']) \n",
    "\n",
    "history_before_tuning=model_before_tuning.fit(X_train_rnn, \n",
    "          y_train, \n",
    "          batch_size=256, \n",
    "          validation_data=(X_test_rnn, y_test), \n",
    "          epochs=20,callbacks=[model_before_tuning_checkpoint_callback])"
   ]
  },
  {
   "cell_type": "markdown",
   "metadata": {},
   "source": [
    "Let's see the results:"
   ]
  },
  {
   "cell_type": "code",
   "execution_count": 45,
   "metadata": {
    "colab": {
     "base_uri": "https://localhost:8080/",
     "height": 1000
    },
    "id": "w1uItrEtFQb0",
    "outputId": "aba23572-f451-4b3d-93a7-01466a9d7b41"
   },
   "outputs": [
    {
     "data": {
      "image/png": "[encoded data removed]",
      "text/plain": [
       "<Figure size 1152x720 with 1 Axes>"
      ]
     },
     "metadata": {
      "needs_background": "light"
     },
     "output_type": "display_data"
    },
    {
     "data": {
      "image/png": "[encoded data removed]",
      "text/plain": [
       "<Figure size 1152x720 with 1 Axes>"
      ]
     },
     "metadata": {
      "needs_background": "light"
     },
     "output_type": "display_data"
    }
   ],
   "source": [
    "plt.plot(history_before_tuning.history['accuracy'])\n",
    "plt.plot(history_before_tuning.history['val_accuracy'])\n",
    "plt.title('model accuracy')\n",
    "plt.ylabel('accuracy')\n",
    "plt.xlabel('epoch')\n",
    "plt.legend(['train', 'test'], loc='upper left')\n",
    "plt.show()\n",
    "# summarize history for loss\n",
    "plt.plot(history_before_tuning.history['loss'])\n",
    "plt.plot(history_before_tuning.history['val_loss'])\n",
    "plt.title('model loss')\n",
    "plt.ylabel('loss')\n",
    "plt.xlabel('epoch')\n",
    "plt.legend(['train', 'test'], loc='upper left')\n",
    "plt.show()"
   ]
  },
  {
   "cell_type": "markdown",
   "metadata": {
    "id": "oFubYSchDbJk"
   },
   "source": [
    "Let's do some predictions"
   ]
  },
  {
   "cell_type": "code",
   "execution_count": 50,
   "metadata": {
    "colab": {
     "base_uri": "https://localhost:8080/"
    },
    "id": "2-UeGciDDbJk",
    "outputId": "285fbee0-b36c-4ce4-8bab-84ada2586be7",
    "scrolled": true
   },
   "outputs": [
    {
     "name": "stdout",
     "output_type": "stream",
     "text": [
      "[ 0  1 14  6  8]\n",
      "[0, 1, 1, 6, 8]\n",
      "WELLNESS\n"
     ]
    }
   ],
   "source": [
    "model_before_tuning.load_weights(checkpoint_filepath_no_tuning)\n",
    "pred = model_before_tuning.predict(X_test_rnn) \n",
    "pred = np.argmax(pred, axis = 1) \n",
    "print(pred[:5]) \n",
    "print(y_test.to_list()[:5])\n",
    "\n",
    "#mapping the encoded output to actual categories\n",
    "predicted_category = [int_category[x] for x in pred]\n",
    "true_category = [int_category[x] for x in y_test]\n",
    "print(predicted_category[1])"
   ]
  },
  {
   "cell_type": "markdown",
   "metadata": {
    "id": "yJx6emReDbJk"
   },
   "source": [
    "We build a PD containing the predictions:\n",
    "We need to reconvert X_test back from sequence to text"
   ]
  },
  {
   "cell_type": "code",
   "execution_count": 51,
   "metadata": {
    "colab": {
     "base_uri": "https://localhost:8080/",
     "height": 204
    },
    "id": "XdQg35A8DbJk",
    "outputId": "5f8e0205-d658-4351-e0bd-4cee3b7ffbd9",
    "scrolled": true
   },
   "outputs": [
    {
     "data": {
      "text/html": [
       "<div>\n",
       "<style scoped>\n",
       "    .dataframe tbody tr th:only-of-type {\n",
       "        vertical-align: middle;\n",
       "    }\n",
       "\n",
       "    .dataframe tbody tr th {\n",
       "        vertical-align: top;\n",
       "    }\n",
       "\n",
       "    .dataframe thead th {\n",
       "        text-align: right;\n",
       "    }\n",
       "</style>\n",
       "<table border=\"1\" class=\"dataframe\">\n",
       "  <thead>\n",
       "    <tr style=\"text-align: right;\">\n",
       "      <th></th>\n",
       "      <th>description</th>\n",
       "      <th>true_category</th>\n",
       "      <th>predicted_category</th>\n",
       "    </tr>\n",
       "  </thead>\n",
       "  <tbody>\n",
       "    <tr>\n",
       "      <th>0</th>\n",
       "      <td>aclu giving away free pocket constitution elec...</td>\n",
       "      <td>POLITICS</td>\n",
       "      <td>POLITICS</td>\n",
       "    </tr>\n",
       "    <tr>\n",
       "      <th>1</th>\n",
       "      <td>colorectal cancer screening save life 50000 am...</td>\n",
       "      <td>WELLNESS</td>\n",
       "      <td>WELLNESS</td>\n",
       "    </tr>\n",
       "    <tr>\n",
       "      <th>2</th>\n",
       "      <td>glass plastic placed empty glass confused next...</td>\n",
       "      <td>WELLNESS</td>\n",
       "      <td>ENVIRONMENT</td>\n",
       "    </tr>\n",
       "    <tr>\n",
       "      <th>3</th>\n",
       "      <td>10 great ocean view around world photo regardl...</td>\n",
       "      <td>TRAVEL</td>\n",
       "      <td>TRAVEL</td>\n",
       "    </tr>\n",
       "    <tr>\n",
       "      <th>4</th>\n",
       "      <td>thanksgiving dinner best turkey hash recipe re...</td>\n",
       "      <td>FOOD &amp; DRINK</td>\n",
       "      <td>FOOD &amp; DRINK</td>\n",
       "    </tr>\n",
       "  </tbody>\n",
       "</table>\n",
       "</div>"
      ],
      "text/plain": [
       "                                         description true_category  \\\n",
       "0  aclu giving away free pocket constitution elec...      POLITICS   \n",
       "1  colorectal cancer screening save life 50000 am...      WELLNESS   \n",
       "2  glass plastic placed empty glass confused next...      WELLNESS   \n",
       "3  10 great ocean view around world photo regardl...        TRAVEL   \n",
       "4  thanksgiving dinner best turkey hash recipe re...  FOOD & DRINK   \n",
       "\n",
       "  predicted_category  \n",
       "0           POLITICS  \n",
       "1           WELLNESS  \n",
       "2        ENVIRONMENT  \n",
       "3             TRAVEL  \n",
       "4       FOOD & DRINK  "
      ]
     },
     "execution_count": 51,
     "metadata": {},
     "output_type": "execute_result"
    }
   ],
   "source": [
    "result_df_rnn = pd.DataFrame({'description':tok.sequences_to_texts(X_test_rnn),'true_category':true_category, 'predicted_category':predicted_category})\n",
    "result_df_rnn.head()"
   ]
  },
  {
   "cell_type": "code",
   "execution_count": 52,
   "metadata": {
    "colab": {
     "base_uri": "https://localhost:8080/"
    },
    "id": "LJIqPowLDbJl",
    "outputId": "91fd3296-2848-49ee-847e-86e948cdf1da",
    "scrolled": true
   },
   "outputs": [
    {
     "name": "stdout",
     "output_type": "stream",
     "text": [
      "Accuracy is 0.6659407444922765\n"
     ]
    }
   ],
   "source": [
    "print(f\"Accuracy is {sklearn.metrics.accuracy_score(result_df_rnn['true_category'], result_df_rnn['predicted_category'])}\")"
   ]
  },
  {
   "cell_type": "markdown",
   "metadata": {
    "id": "E3D_Ieo5DbJl"
   },
   "source": [
    "We visualize the confusion matrix:"
   ]
  },
  {
   "cell_type": "code",
   "execution_count": 54,
   "metadata": {
    "id": "rd0G83hmDbJl",
    "outputId": "c009c505-dd16-4d76-e5d0-3a8aaa451265"
   },
   "outputs": [
    {
     "data": {
      "text/plain": [
       "<AxesSubplot:>"
      ]
     },
     "execution_count": 54,
     "metadata": {},
     "output_type": "execute_result"
    },
    {
     "data": {
      "image/png": "[encoded data removed]",
      "text/plain": [
       "<Figure size 1440x1440 with 2 Axes>"
      ]
     },
     "metadata": {
      "needs_background": "light"
     },
     "output_type": "display_data"
    }
   ],
   "source": [
    "from sklearn.metrics import confusion_matrix\n",
    "import seaborn as sns\n",
    "confusion_mat = confusion_matrix(y_true = true_category, y_pred = predicted_category, labels=list(category_int))\n",
    "df_cm = pd.DataFrame(confusion_mat, index = list(category_int),columns = list(category_int))\n",
    "plt.rcParams['figure.figsize'] = (20,20)\n",
    "sns.heatmap(df_cm)"
   ]
  },
  {
   "cell_type": "markdown",
   "metadata": {
    "id": "hHWwMeG3daRR"
   },
   "source": [
    "#### Hypertuning the Learning rate:"
   ]
  },
  {
   "cell_type": "code",
   "execution_count": null,
   "metadata": {},
   "outputs": [],
   "source": [
    "#import os\n",
    "#os.environ[\"CUDA_VISIBLE_DEVICES\"] = \"1\"\n",
    "#!CUDA_VISIBLE_DEVICES=1 python notebook.ipynb\n",
    "from tensorflow.python.client import device_lib\n",
    "device_lib.list_local_devices()"
   ]
  },
  {
   "cell_type": "code",
   "execution_count": 32,
   "metadata": {},
   "outputs": [
    {
     "name": "stdout",
     "output_type": "stream",
     "text": [
      "Num GPUs Available:  4\n"
     ]
    }
   ],
   "source": [
    "import tensorflow as tf\n",
    "print(\"Num GPUs Available: \", len(tf.config.experimental.list_physical_devices('GPU')))\n",
    "!export XLA_FLAGS=--xla_gpu_cuda_data_dir=/usr/local/cuda\n",
    "!export TF_XLA_FLAGS=\"--tf_xla_auto_jit=2\"\n",
    "tf.test.is_built_with_cuda()\n",
    "import os\n",
    "os.environ['TF_FORCE_GPU_ALLOW_GROWTH'] = 'true'\n",
    "os.environ['TF_XLA_FLAGS'] = '--tf_xla_enable_xla_devices'"
   ]
  },
  {
   "cell_type": "code",
   "execution_count": 33,
   "metadata": {
    "colab": {
     "background_save": true,
     "base_uri": "https://localhost:8080/"
    },
    "id": "oTSD962HcnI6",
    "outputId": "929c9a70-11bc-4d1f-db5f-c06c15bf1eaa",
    "scrolled": false
   },
   "outputs": [
    {
     "name": "stderr",
     "output_type": "stream",
     "text": [
      "2021-11-19 18:30:49.178953: I tensorflow/stream_executor/platform/default/dso_loader.cc:49] Successfully opened dynamic library libcudart.so.10.1\n",
      "2021-11-19 18:30:49.182531: I tensorflow/stream_executor/platform/default/dso_loader.cc:49] Successfully opened dynamic library libcudart.so.10.1\n",
      "2021-11-19 18:30:50.305151: I tensorflow/stream_executor/platform/default/dso_loader.cc:49] Successfully opened dynamic library libcuda.so.1\n",
      "2021-11-19 18:30:50.332299: I tensorflow/core/common_runtime/gpu/gpu_device.cc:1720] Found device 0 with properties: \n",
      "pciBusID: 0000:04:00.0 name: TITAN X (Pascal) computeCapability: 6.1\n",
      "coreClock: 1.531GHz coreCount: 28 deviceMemorySize: 11.91GiB deviceMemoryBandwidth: 447.48GiB/s\n",
      "2021-11-19 18:30:50.340998: I tensorflow/core/common_runtime/gpu/gpu_device.cc:1720] Found device 1 with properties: \n",
      "pciBusID: 0000:05:00.0 name: TITAN X (Pascal) computeCapability: 6.1\n",
      "coreClock: 1.531GHz coreCount: 28 deviceMemorySize: 11.91GiB deviceMemoryBandwidth: 447.48GiB/s\n",
      "2021-11-19 18:30:50.342709: I tensorflow/core/common_runtime/gpu/gpu_device.cc:1720] Found device 2 with properties: \n",
      "pciBusID: 0000:83:00.0 name: TITAN X (Pascal) computeCapability: 6.1\n",
      "coreClock: 1.531GHz coreCount: 28 deviceMemorySize: 11.91GiB deviceMemoryBandwidth: 447.48GiB/s\n",
      "2021-11-19 18:30:50.344339: I tensorflow/core/common_runtime/gpu/gpu_device.cc:1720] Found device 3 with properties: \n",
      "pciBusID: 0000:84:00.0 name: TITAN X (Pascal) computeCapability: 6.1\n",
      "coreClock: 1.531GHz coreCount: 28 deviceMemorySize: 11.91GiB deviceMemoryBandwidth: 447.48GiB/s\n",
      "2021-11-19 18:30:50.344363: I tensorflow/stream_executor/platform/default/dso_loader.cc:49] Successfully opened dynamic library libcudart.so.10.1\n",
      "2021-11-19 18:30:50.345786: I tensorflow/stream_executor/platform/default/dso_loader.cc:49] Successfully opened dynamic library libcublas.so.10\n",
      "2021-11-19 18:30:50.345838: I tensorflow/stream_executor/platform/default/dso_loader.cc:49] Successfully opened dynamic library libcublasLt.so.10\n",
      "2021-11-19 18:30:50.347264: I tensorflow/stream_executor/platform/default/dso_loader.cc:49] Successfully opened dynamic library libcufft.so.10\n",
      "2021-11-19 18:30:50.347549: I tensorflow/stream_executor/platform/default/dso_loader.cc:49] Successfully opened dynamic library libcurand.so.10\n",
      "2021-11-19 18:30:50.349202: I tensorflow/stream_executor/platform/default/dso_loader.cc:49] Successfully opened dynamic library libcusolver.so.10\n",
      "2021-11-19 18:30:50.350244: I tensorflow/stream_executor/platform/default/dso_loader.cc:49] Successfully opened dynamic library libcusparse.so.10\n",
      "2021-11-19 18:30:50.353797: I tensorflow/stream_executor/platform/default/dso_loader.cc:49] Successfully opened dynamic library libcudnn.so.7\n",
      "2021-11-19 18:30:50.364012: I tensorflow/stream_executor/platform/default/dso_loader.cc:49] Successfully opened dynamic library libcuda.so.1\n",
      "2021-11-19 18:30:50.387427: I tensorflow/core/common_runtime/gpu/gpu_device.cc:1862] Adding visible gpu devices: 0, 1, 2, 3\n",
      "2021-11-19 18:30:50.387692: I tensorflow/core/platform/cpu_feature_guard.cc:142] This TensorFlow binary is optimized with oneAPI Deep Neural Network Library (oneDNN) to use the following CPU instructions in performance-critical operations:  SSE4.1 SSE4.2 AVX AVX2 FMA\n",
      "To enable them in other operations, rebuild TensorFlow with the appropriate compiler flags.\n",
      "2021-11-19 18:30:50.413884: I tensorflow/core/platform/profile_utils/cpu_utils.cc:112] CPU Frequency: 2499930000 Hz\n",
      "2021-11-19 18:30:50.417299: I tensorflow/compiler/xla/service/service.cc:168] XLA service 0x558f0f55f3a0 initialized for platform Host (this does not guarantee that XLA will be used). Devices:\n",
      "2021-11-19 18:30:50.417328: I tensorflow/compiler/xla/service/service.cc:176]   StreamExecutor device (0): Host, Default Version\n",
      "2021-11-19 18:30:50.430606: I tensorflow/core/common_runtime/gpu/gpu_device.cc:1720] Found device 0 with properties: \n",
      "pciBusID: 0000:04:00.0 name: TITAN X (Pascal) computeCapability: 6.1\n",
      "coreClock: 1.531GHz coreCount: 28 deviceMemorySize: 11.91GiB deviceMemoryBandwidth: 447.48GiB/s\n",
      "2021-11-19 18:30:50.446305: I tensorflow/core/common_runtime/gpu/gpu_device.cc:1720] Found device 1 with properties: \n",
      "pciBusID: 0000:05:00.0 name: TITAN X (Pascal) computeCapability: 6.1\n",
      "coreClock: 1.531GHz coreCount: 28 deviceMemorySize: 11.91GiB deviceMemoryBandwidth: 447.48GiB/s\n",
      "2021-11-19 18:30:50.466051: I tensorflow/core/common_runtime/gpu/gpu_device.cc:1720] Found device 2 with properties: \n",
      "pciBusID: 0000:83:00.0 name: TITAN X (Pascal) computeCapability: 6.1\n",
      "coreClock: 1.531GHz coreCount: 28 deviceMemorySize: 11.91GiB deviceMemoryBandwidth: 447.48GiB/s\n",
      "2021-11-19 18:30:50.470556: I tensorflow/core/common_runtime/gpu/gpu_device.cc:1720] Found device 3 with properties: \n",
      "pciBusID: 0000:84:00.0 name: TITAN X (Pascal) computeCapability: 6.1\n",
      "coreClock: 1.531GHz coreCount: 28 deviceMemorySize: 11.91GiB deviceMemoryBandwidth: 447.48GiB/s\n",
      "2021-11-19 18:30:50.470634: I tensorflow/stream_executor/platform/default/dso_loader.cc:49] Successfully opened dynamic library libcudart.so.10.1\n",
      "2021-11-19 18:30:50.473341: I tensorflow/stream_executor/platform/default/dso_loader.cc:49] Successfully opened dynamic library libcublas.so.10\n",
      "2021-11-19 18:30:50.473416: I tensorflow/stream_executor/platform/default/dso_loader.cc:49] Successfully opened dynamic library libcublasLt.so.10\n",
      "2021-11-19 18:30:50.475929: I tensorflow/stream_executor/platform/default/dso_loader.cc:49] Successfully opened dynamic library libcufft.so.10\n",
      "2021-11-19 18:30:50.476406: I tensorflow/stream_executor/platform/default/dso_loader.cc:49] Successfully opened dynamic library libcurand.so.10\n",
      "2021-11-19 18:30:50.478767: I tensorflow/stream_executor/platform/default/dso_loader.cc:49] Successfully opened dynamic library libcusolver.so.10\n",
      "2021-11-19 18:30:50.479782: I tensorflow/stream_executor/platform/default/dso_loader.cc:49] Successfully opened dynamic library libcusparse.so.10\n",
      "2021-11-19 18:30:50.483552: I tensorflow/stream_executor/platform/default/dso_loader.cc:49] Successfully opened dynamic library libcudnn.so.7\n",
      "2021-11-19 18:30:50.508552: I tensorflow/core/common_runtime/gpu/gpu_device.cc:1862] Adding visible gpu devices: 0, 1, 2, 3\n",
      "2021-11-19 18:30:50.508902: I tensorflow/core/platform/cpu_feature_guard.cc:142] This TensorFlow binary is optimized with oneAPI Deep Neural Network Library (oneDNN) to use the following CPU instructions in performance-critical operations:  SSE4.1 SSE4.2 AVX AVX2 FMA\n",
      "To enable them in other operations, rebuild TensorFlow with the appropriate compiler flags.\n",
      "2021-11-19 18:30:50.519584: I tensorflow/core/platform/profile_utils/cpu_utils.cc:112] CPU Frequency: 2499930000 Hz\n",
      "2021-11-19 18:30:50.522687: I tensorflow/compiler/xla/service/service.cc:168] XLA service 0x5564fb7bf3a0 initialized for platform Host (this does not guarantee that XLA will be used). Devices:\n",
      "2021-11-19 18:30:50.522707: I tensorflow/compiler/xla/service/service.cc:176]   StreamExecutor device (0): Host, Default Version\n",
      "2021-11-19 18:30:51.244085: I tensorflow/core/common_runtime/gpu/gpu_device.cc:1720] Found device 0 with properties: \n",
      "pciBusID: 0000:04:00.0 name: TITAN X (Pascal) computeCapability: 6.1\n",
      "coreClock: 1.531GHz coreCount: 28 deviceMemorySize: 11.91GiB deviceMemoryBandwidth: 447.48GiB/s\n",
      "2021-11-19 18:30:51.246146: I tensorflow/core/common_runtime/gpu/gpu_device.cc:1720] Found device 1 with properties: \n",
      "pciBusID: 0000:05:00.0 name: TITAN X (Pascal) computeCapability: 6.1\n",
      "coreClock: 1.531GHz coreCount: 28 deviceMemorySize: 11.91GiB deviceMemoryBandwidth: 447.48GiB/s\n",
      "2021-11-19 18:30:51.247570: I tensorflow/core/common_runtime/gpu/gpu_device.cc:1720] Found device 0 with properties: \n",
      "pciBusID: 0000:04:00.0 name: TITAN X (Pascal) computeCapability: 6.1\n",
      "coreClock: 1.531GHz coreCount: 28 deviceMemorySize: 11.91GiB deviceMemoryBandwidth: 447.48GiB/s\n",
      "2021-11-19 18:30:51.249053: I tensorflow/core/common_runtime/gpu/gpu_device.cc:1720] Found device 2 with properties: \n",
      "pciBusID: 0000:83:00.0 name: TITAN X (Pascal) computeCapability: 6.1\n",
      "coreClock: 1.531GHz coreCount: 28 deviceMemorySize: 11.91GiB deviceMemoryBandwidth: 447.48GiB/s\n",
      "2021-11-19 18:30:51.250412: I tensorflow/core/common_runtime/gpu/gpu_device.cc:1720] Found device 1 with properties: \n",
      "pciBusID: 0000:05:00.0 name: TITAN X (Pascal) computeCapability: 6.1\n",
      "coreClock: 1.531GHz coreCount: 28 deviceMemorySize: 11.91GiB deviceMemoryBandwidth: 447.48GiB/s\n",
      "2021-11-19 18:30:51.251863: I tensorflow/core/common_runtime/gpu/gpu_device.cc:1720] Found device 3 with properties: \n",
      "pciBusID: 0000:84:00.0 name: TITAN X (Pascal) computeCapability: 6.1\n",
      "coreClock: 1.531GHz coreCount: 28 deviceMemorySize: 11.91GiB deviceMemoryBandwidth: 447.48GiB/s\n",
      "2021-11-19 18:30:51.251941: I tensorflow/stream_executor/platform/default/dso_loader.cc:49] Successfully opened dynamic library libcudart.so.10.1\n",
      "2021-11-19 18:30:51.251983: I tensorflow/stream_executor/platform/default/dso_loader.cc:49] Successfully opened dynamic library libcublas.so.10\n",
      "2021-11-19 18:30:51.252010: I tensorflow/stream_executor/platform/default/dso_loader.cc:49] Successfully opened dynamic library libcublasLt.so.10\n",
      "2021-11-19 18:30:51.252031: I tensorflow/stream_executor/platform/default/dso_loader.cc:49] Successfully opened dynamic library libcufft.so.10\n",
      "2021-11-19 18:30:51.252052: I tensorflow/stream_executor/platform/default/dso_loader.cc:49] Successfully opened dynamic library libcurand.so.10\n",
      "2021-11-19 18:30:51.252072: I tensorflow/stream_executor/platform/default/dso_loader.cc:49] Successfully opened dynamic library libcusolver.so.10\n",
      "2021-11-19 18:30:51.252092: I tensorflow/stream_executor/platform/default/dso_loader.cc:49] Successfully opened dynamic library libcusparse.so.10\n",
      "2021-11-19 18:30:51.252120: I tensorflow/stream_executor/platform/default/dso_loader.cc:49] Successfully opened dynamic library libcudnn.so.7\n",
      "2021-11-19 18:30:51.253257: I tensorflow/core/common_runtime/gpu/gpu_device.cc:1720] Found device 2 with properties: \n",
      "pciBusID: 0000:83:00.0 name: TITAN X (Pascal) computeCapability: 6.1\n",
      "coreClock: 1.531GHz coreCount: 28 deviceMemorySize: 11.91GiB deviceMemoryBandwidth: 447.48GiB/s\n",
      "2021-11-19 18:30:51.255968: I tensorflow/core/common_runtime/gpu/gpu_device.cc:1720] Found device 3 with properties: \n",
      "pciBusID: 0000:84:00.0 name: TITAN X (Pascal) computeCapability: 6.1\n",
      "coreClock: 1.531GHz coreCount: 28 deviceMemorySize: 11.91GiB deviceMemoryBandwidth: 447.48GiB/s\n",
      "2021-11-19 18:30:51.256026: I tensorflow/stream_executor/platform/default/dso_loader.cc:49] Successfully opened dynamic library libcudart.so.10.1\n",
      "2021-11-19 18:30:51.256075: I tensorflow/stream_executor/platform/default/dso_loader.cc:49] Successfully opened dynamic library libcublas.so.10\n",
      "2021-11-19 18:30:51.256096: I tensorflow/stream_executor/platform/default/dso_loader.cc:49] Successfully opened dynamic library libcublasLt.so.10\n",
      "2021-11-19 18:30:51.256114: I tensorflow/stream_executor/platform/default/dso_loader.cc:49] Successfully opened dynamic library libcufft.so.10\n",
      "2021-11-19 18:30:51.256133: I tensorflow/stream_executor/platform/default/dso_loader.cc:49] Successfully opened dynamic library libcurand.so.10\n",
      "2021-11-19 18:30:51.256154: I tensorflow/stream_executor/platform/default/dso_loader.cc:49] Successfully opened dynamic library libcusolver.so.10\n",
      "2021-11-19 18:30:51.256174: I tensorflow/stream_executor/platform/default/dso_loader.cc:49] Successfully opened dynamic library libcusparse.so.10\n",
      "2021-11-19 18:30:51.256195: I tensorflow/stream_executor/platform/default/dso_loader.cc:49] Successfully opened dynamic library libcudnn.so.7\n",
      "2021-11-19 18:30:51.277861: I tensorflow/core/common_runtime/gpu/gpu_device.cc:1862] Adding visible gpu devices: 0, 1, 2, 3\n",
      "2021-11-19 18:30:51.277918: I tensorflow/stream_executor/platform/default/dso_loader.cc:49] Successfully opened dynamic library libcudart.so.10.1\n",
      "2021-11-19 18:30:51.285383: I tensorflow/core/common_runtime/gpu/gpu_device.cc:1862] Adding visible gpu devices: 0, 1, 2, 3\n",
      "2021-11-19 18:30:51.285442: I tensorflow/stream_executor/platform/default/dso_loader.cc:49] Successfully opened dynamic library libcudart.so.10.1\n",
      "2021-11-19 18:30:53.810435: I tensorflow/core/common_runtime/gpu/gpu_device.cc:1261] Device interconnect StreamExecutor with strength 1 edge matrix:\n",
      "2021-11-19 18:30:53.810479: I tensorflow/core/common_runtime/gpu/gpu_device.cc:1267]      0 1 2 3 \n",
      "2021-11-19 18:30:53.810486: I tensorflow/core/common_runtime/gpu/gpu_device.cc:1280] 0:   N Y N N \n",
      "2021-11-19 18:30:53.810490: I tensorflow/core/common_runtime/gpu/gpu_device.cc:1280] 1:   Y N N N \n",
      "2021-11-19 18:30:53.810494: I tensorflow/core/common_runtime/gpu/gpu_device.cc:1280] 2:   N N N Y \n",
      "2021-11-19 18:30:53.810497: I tensorflow/core/common_runtime/gpu/gpu_device.cc:1280] 3:   N N Y N \n",
      "2021-11-19 18:30:53.819194: W tensorflow/core/common_runtime/gpu/gpu_bfc_allocator.cc:39] Overriding allow_growth setting because the TF_FORCE_GPU_ALLOW_GROWTH environment variable is set. Original config value was 0.\n",
      "2021-11-19 18:30:53.819246: I tensorflow/core/common_runtime/gpu/gpu_device.cc:1406] Created TensorFlow device (/job:localhost/replica:0/task:0/device:GPU:0 with 10451 MB memory) -> physical GPU (device: 0, name: TITAN X (Pascal), pci bus id: 0000:04:00.0, compute capability: 6.1)\n",
      "2021-11-19 18:30:53.822198: W tensorflow/core/common_runtime/gpu/gpu_bfc_allocator.cc:39] Overriding allow_growth setting because the TF_FORCE_GPU_ALLOW_GROWTH environment variable is set. Original config value was 0.\n",
      "2021-11-19 18:30:53.822222: I tensorflow/core/common_runtime/gpu/gpu_device.cc:1406] Created TensorFlow device (/job:localhost/replica:0/task:0/device:GPU:1 with 10750 MB memory) -> physical GPU (device: 1, name: TITAN X (Pascal), pci bus id: 0000:05:00.0, compute capability: 6.1)\n",
      "2021-11-19 18:30:53.825422: W tensorflow/core/common_runtime/gpu/gpu_bfc_allocator.cc:39] Overriding allow_growth setting because the TF_FORCE_GPU_ALLOW_GROWTH environment variable is set. Original config value was 0.\n",
      "2021-11-19 18:30:53.825444: I tensorflow/core/common_runtime/gpu/gpu_device.cc:1406] Created TensorFlow device (/job:localhost/replica:0/task:0/device:GPU:2 with 10750 MB memory) -> physical GPU (device: 2, name: TITAN X (Pascal), pci bus id: 0000:83:00.0, compute capability: 6.1)\n",
      "2021-11-19 18:30:53.828249: W tensorflow/core/common_runtime/gpu/gpu_bfc_allocator.cc:39] Overriding allow_growth setting because the TF_FORCE_GPU_ALLOW_GROWTH environment variable is set. Original config value was 0.\n",
      "2021-11-19 18:30:53.828271: I tensorflow/core/common_runtime/gpu/gpu_device.cc:1406] Created TensorFlow device (/job:localhost/replica:0/task:0/device:GPU:3 with 10754 MB memory) -> physical GPU (device: 3, name: TITAN X (Pascal), pci bus id: 0000:84:00.0, compute capability: 6.1)\n",
      "2021-11-19 18:30:53.832299: I tensorflow/compiler/xla/service/service.cc:168] XLA service 0x5565710ada40 initialized for platform CUDA (this does not guarantee that XLA will be used). Devices:\n",
      "2021-11-19 18:30:53.832315: I tensorflow/compiler/xla/service/service.cc:176]   StreamExecutor device (0): TITAN X (Pascal), Compute Capability 6.1\n",
      "2021-11-19 18:30:53.832330: I tensorflow/compiler/xla/service/service.cc:176]   StreamExecutor device (1): TITAN X (Pascal), Compute Capability 6.1\n",
      "2021-11-19 18:30:53.832335: I tensorflow/compiler/xla/service/service.cc:176]   StreamExecutor device (2): TITAN X (Pascal), Compute Capability 6.1\n",
      "2021-11-19 18:30:53.832339: I tensorflow/compiler/xla/service/service.cc:176]   StreamExecutor device (3): TITAN X (Pascal), Compute Capability 6.1\n",
      "2021-11-19 18:30:53.836192: I tensorflow/core/common_runtime/gpu/gpu_device.cc:1261] Device interconnect StreamExecutor with strength 1 edge matrix:\n",
      "2021-11-19 18:30:53.836256: I tensorflow/core/common_runtime/gpu/gpu_device.cc:1267]      0 1 2 3 \n",
      "2021-11-19 18:30:53.836264: I tensorflow/core/common_runtime/gpu/gpu_device.cc:1280] 0:   N Y N N \n",
      "2021-11-19 18:30:53.836269: I tensorflow/core/common_runtime/gpu/gpu_device.cc:1280] 1:   Y N N N \n",
      "2021-11-19 18:30:53.836273: I tensorflow/core/common_runtime/gpu/gpu_device.cc:1280] 2:   N N N Y \n",
      "2021-11-19 18:30:53.836278: I tensorflow/core/common_runtime/gpu/gpu_device.cc:1280] 3:   N N Y N \n",
      "2021-11-19 18:30:53.849096: W tensorflow/core/common_runtime/gpu/gpu_bfc_allocator.cc:39] Overriding allow_growth setting because the TF_FORCE_GPU_ALLOW_GROWTH environment variable is set. Original config value was 0.\n",
      "2021-11-19 18:30:53.849142: I tensorflow/core/common_runtime/gpu/gpu_device.cc:1406] Created TensorFlow device (/job:localhost/replica:0/task:0/device:GPU:0 with 10450 MB memory) -> physical GPU (device: 0, name: TITAN X (Pascal), pci bus id: 0000:04:00.0, compute capability: 6.1)\n",
      "2021-11-19 18:30:53.852533: W tensorflow/core/common_runtime/gpu/gpu_bfc_allocator.cc:39] Overriding allow_growth setting because the TF_FORCE_GPU_ALLOW_GROWTH environment variable is set. Original config value was 0.\n",
      "2021-11-19 18:30:53.852557: I tensorflow/core/common_runtime/gpu/gpu_device.cc:1406] Created TensorFlow device (/job:localhost/replica:0/task:0/device:GPU:1 with 10749 MB memory) -> physical GPU (device: 1, name: TITAN X (Pascal), pci bus id: 0000:05:00.0, compute capability: 6.1)\n",
      "2021-11-19 18:30:53.855489: W tensorflow/core/common_runtime/gpu/gpu_bfc_allocator.cc:39] Overriding allow_growth setting because the TF_FORCE_GPU_ALLOW_GROWTH environment variable is set. Original config value was 0.\n",
      "2021-11-19 18:30:53.855512: I tensorflow/core/common_runtime/gpu/gpu_device.cc:1406] Created TensorFlow device (/job:localhost/replica:0/task:0/device:GPU:2 with 10749 MB memory) -> physical GPU (device: 2, name: TITAN X (Pascal), pci bus id: 0000:83:00.0, compute capability: 6.1)\n",
      "2021-11-19 18:30:53.859052: W tensorflow/core/common_runtime/gpu/gpu_bfc_allocator.cc:39] Overriding allow_growth setting because the TF_FORCE_GPU_ALLOW_GROWTH environment variable is set. Original config value was 0.\n",
      "2021-11-19 18:30:53.859075: I tensorflow/core/common_runtime/gpu/gpu_device.cc:1406] Created TensorFlow device (/job:localhost/replica:0/task:0/device:GPU:3 with 10749 MB memory) -> physical GPU (device: 3, name: TITAN X (Pascal), pci bus id: 0000:84:00.0, compute capability: 6.1)\n",
      "2021-11-19 18:30:53.862933: I tensorflow/compiler/xla/service/service.cc:168] XLA service 0x558f84d5d830 initialized for platform CUDA (this does not guarantee that XLA will be used). Devices:\n",
      "2021-11-19 18:30:53.862950: I tensorflow/compiler/xla/service/service.cc:176]   StreamExecutor device (0): TITAN X (Pascal), Compute Capability 6.1\n",
      "2021-11-19 18:30:53.862956: I tensorflow/compiler/xla/service/service.cc:176]   StreamExecutor device (1): TITAN X (Pascal), Compute Capability 6.1\n",
      "2021-11-19 18:30:53.862961: I tensorflow/compiler/xla/service/service.cc:176]   StreamExecutor device (2): TITAN X (Pascal), Compute Capability 6.1\n",
      "2021-11-19 18:30:53.862965: I tensorflow/compiler/xla/service/service.cc:176]   StreamExecutor device (3): TITAN X (Pascal), Compute Capability 6.1\n",
      "2021-11-19 18:30:54.652580: I tensorflow/compiler/mlir/mlir_graph_optimization_pass.cc:116] None of the MLIR optimization passes are enabled (registered 2)\n",
      "2021-11-19 18:30:54.676642: I tensorflow/compiler/mlir/mlir_graph_optimization_pass.cc:116] None of the MLIR optimization passes are enabled (registered 2)\n",
      "2021-11-19 18:30:58.631769: I tensorflow/stream_executor/platform/default/dso_loader.cc:49] Successfully opened dynamic library libcublas.so.10\n",
      "2021-11-19 18:30:58.652780: I tensorflow/stream_executor/platform/default/dso_loader.cc:49] Successfully opened dynamic library libcublas.so.10\n",
      "2021-11-19 18:30:58.910868: I tensorflow/stream_executor/platform/default/dso_loader.cc:49] Successfully opened dynamic library libcudnn.so.7\n",
      "2021-11-19 18:30:58.929040: I tensorflow/stream_executor/platform/default/dso_loader.cc:49] Successfully opened dynamic library libcudnn.so.7\n"
     ]
    },
    {
     "name": "stdout",
     "output_type": "stream",
     "text": [
      "Best: 0.667393 using {'learn_rate': 0.008}\n",
      "0.469307 (0.014818) with: {'learn_rate': 0.0003}\n",
      "0.590907 (0.009270) with: {'learn_rate': 0.0007}\n",
      "0.623582 (0.009570) with: {'learn_rate': 0.001}\n",
      "0.667304 (0.003194) with: {'learn_rate': 0.005}\n",
      "0.667393 (0.002990) with: {'learn_rate': 0.008}\n",
      "0.148305 (0.020207) with: {'learn_rate': 0.12}\n"
     ]
    }
   ],
   "source": [
    "import keras\n",
    "from keras.models import Sequential\n",
    "from keras.layers import Embedding\n",
    "from keras.wrappers.scikit_learn import KerasClassifier\n",
    "from sklearn.model_selection import GridSearchCV\n",
    "\n",
    "def create_model(learn_rate=0.01):\n",
    "\t# create model\n",
    "  model = Sequential()\n",
    "  model.add(Embedding(vocab_size, embed_size, input_length=maxlen))\n",
    "  model.add(Bidirectional(LSTM(128, return_sequences=True))) \n",
    "  model.add(Bidirectional(LSTM(64, return_sequences=True)))\n",
    "  model.add(GlobalMaxPooling1D()) #Pooling Layer decreases sensitivity to features, thereby creating more generalised data for better test results.\n",
    "  model.add(Dropout(0.25)) #Dropout layer nullifies certain random input values to generate a more general dataset and prevent the problem of overfitting.\n",
    "  model.add(Dense(64))\n",
    "  model.add(Dropout(0.25))\n",
    "  model.add(Dense(26, activation='softmax'))  \n",
    "\t# Compile model\n",
    "  optimizer = tf.keras.optimizers.Adam(learning_rate=learn_rate)\n",
    "  model.compile(loss='sparse_categorical_crossentropy', #Sparse Categorical Crossentropy Loss because data is not one-hot encoded\n",
    "              optimizer=optimizer, \n",
    "              metrics=['accuracy']) \n",
    "  return model\n",
    "  # create model\n",
    "model = KerasClassifier(build_fn=create_model, epochs=2, batch_size=256, verbose=0)\n",
    "# define the grid search parameters\n",
    "learn_rate = [3e-4,7e-4 ,0.001, 0.005, 0.008, 0.12]\n",
    "\n",
    "param_grid = dict(learn_rate=learn_rate)\n",
    "grid = GridSearchCV(estimator=model, param_grid=param_grid, n_jobs=2)\n",
    "grid_result = grid.fit(X_train_rnn, y_train)\n",
    "# summarize results\n",
    "print(\"Best: %f using %s\" % (grid_result.best_score_, grid_result.best_params_))\n",
    "means = grid_result.cv_results_['mean_test_score']\n",
    "stds = grid_result.cv_results_['std_test_score']\n",
    "params = grid_result.cv_results_['params']\n",
    "for mean, stdev, param in zip(means, stds, params):\n",
    "    print(\"%f (%f) with: %r\" % (mean, stdev, param))\n"
   ]
  },
  {
   "cell_type": "markdown",
   "metadata": {},
   "source": [
    "Let's try to narrow the interval between 0.001 and 0.009:"
   ]
  },
  {
   "cell_type": "code",
   "execution_count": 34,
   "metadata": {
    "scrolled": false
   },
   "outputs": [
    {
     "name": "stderr",
     "output_type": "stream",
     "text": [
      "2021-11-19 18:46:57.588001: I tensorflow/stream_executor/platform/default/dso_loader.cc:49] Successfully opened dynamic library libcudart.so.10.1\n",
      "2021-11-19 18:46:57.588001: I tensorflow/stream_executor/platform/default/dso_loader.cc:49] Successfully opened dynamic library libcudart.so.10.1\n",
      "2021-11-19 18:46:58.727104: I tensorflow/stream_executor/platform/default/dso_loader.cc:49] Successfully opened dynamic library libcuda.so.1\n",
      "2021-11-19 18:46:58.777576: I tensorflow/core/common_runtime/gpu/gpu_device.cc:1720] Found device 0 with properties: \n",
      "pciBusID: 0000:04:00.0 name: TITAN X (Pascal) computeCapability: 6.1\n",
      "coreClock: 1.531GHz coreCount: 28 deviceMemorySize: 11.91GiB deviceMemoryBandwidth: 447.48GiB/s\n",
      "2021-11-19 18:46:58.780094: I tensorflow/core/common_runtime/gpu/gpu_device.cc:1720] Found device 1 with properties: \n",
      "pciBusID: 0000:05:00.0 name: TITAN X (Pascal) computeCapability: 6.1\n",
      "coreClock: 1.531GHz coreCount: 28 deviceMemorySize: 11.91GiB deviceMemoryBandwidth: 447.48GiB/s\n",
      "2021-11-19 18:46:58.782609: I tensorflow/core/common_runtime/gpu/gpu_device.cc:1720] Found device 2 with properties: \n",
      "pciBusID: 0000:83:00.0 name: TITAN X (Pascal) computeCapability: 6.1\n",
      "coreClock: 1.531GHz coreCount: 28 deviceMemorySize: 11.91GiB deviceMemoryBandwidth: 447.48GiB/s\n",
      "2021-11-19 18:46:58.785118: I tensorflow/core/common_runtime/gpu/gpu_device.cc:1720] Found device 3 with properties: \n",
      "pciBusID: 0000:84:00.0 name: TITAN X (Pascal) computeCapability: 6.1\n",
      "coreClock: 1.531GHz coreCount: 28 deviceMemorySize: 11.91GiB deviceMemoryBandwidth: 447.48GiB/s\n",
      "2021-11-19 18:46:58.785142: I tensorflow/stream_executor/platform/default/dso_loader.cc:49] Successfully opened dynamic library libcudart.so.10.1\n",
      "2021-11-19 18:46:58.786515: I tensorflow/stream_executor/platform/default/dso_loader.cc:49] Successfully opened dynamic library libcublas.so.10\n",
      "2021-11-19 18:46:58.786555: I tensorflow/stream_executor/platform/default/dso_loader.cc:49] Successfully opened dynamic library libcublasLt.so.10\n",
      "2021-11-19 18:46:58.787935: I tensorflow/stream_executor/platform/default/dso_loader.cc:49] Successfully opened dynamic library libcufft.so.10\n",
      "2021-11-19 18:46:58.788214: I tensorflow/stream_executor/platform/default/dso_loader.cc:49] Successfully opened dynamic library libcurand.so.10\n",
      "2021-11-19 18:46:58.789850: I tensorflow/stream_executor/platform/default/dso_loader.cc:49] Successfully opened dynamic library libcusolver.so.10\n",
      "2021-11-19 18:46:58.790856: I tensorflow/stream_executor/platform/default/dso_loader.cc:49] Successfully opened dynamic library libcusparse.so.10\n",
      "2021-11-19 18:46:58.794374: I tensorflow/stream_executor/platform/default/dso_loader.cc:49] Successfully opened dynamic library libcudnn.so.7\n",
      "2021-11-19 18:46:58.798204: I tensorflow/stream_executor/platform/default/dso_loader.cc:49] Successfully opened dynamic library libcuda.so.1\n",
      "2021-11-19 18:46:58.828209: I tensorflow/core/common_runtime/gpu/gpu_device.cc:1862] Adding visible gpu devices: 0, 1, 2, 3\n",
      "2021-11-19 18:46:58.828637: I tensorflow/core/platform/cpu_feature_guard.cc:142] This TensorFlow binary is optimized with oneAPI Deep Neural Network Library (oneDNN) to use the following CPU instructions in performance-critical operations:  SSE4.1 SSE4.2 AVX AVX2 FMA\n",
      "To enable them in other operations, rebuild TensorFlow with the appropriate compiler flags.\n",
      "2021-11-19 18:46:58.857891: I tensorflow/core/platform/profile_utils/cpu_utils.cc:112] CPU Frequency: 2499930000 Hz\n",
      "2021-11-19 18:46:58.862039: I tensorflow/compiler/xla/service/service.cc:168] XLA service 0x558de821e3a0 initialized for platform Host (this does not guarantee that XLA will be used). Devices:\n",
      "2021-11-19 18:46:58.862079: I tensorflow/compiler/xla/service/service.cc:176]   StreamExecutor device (0): Host, Default Version\n",
      "2021-11-19 18:46:58.876967: I tensorflow/core/common_runtime/gpu/gpu_device.cc:1720] Found device 0 with properties: \n",
      "pciBusID: 0000:04:00.0 name: TITAN X (Pascal) computeCapability: 6.1\n",
      "coreClock: 1.531GHz coreCount: 28 deviceMemorySize: 11.91GiB deviceMemoryBandwidth: 447.48GiB/s\n",
      "2021-11-19 18:46:58.894200: I tensorflow/core/common_runtime/gpu/gpu_device.cc:1720] Found device 1 with properties: \n",
      "pciBusID: 0000:05:00.0 name: TITAN X (Pascal) computeCapability: 6.1\n",
      "coreClock: 1.531GHz coreCount: 28 deviceMemorySize: 11.91GiB deviceMemoryBandwidth: 447.48GiB/s\n",
      "2021-11-19 18:46:58.917320: I tensorflow/core/common_runtime/gpu/gpu_device.cc:1720] Found device 2 with properties: \n",
      "pciBusID: 0000:83:00.0 name: TITAN X (Pascal) computeCapability: 6.1\n",
      "coreClock: 1.531GHz coreCount: 28 deviceMemorySize: 11.91GiB deviceMemoryBandwidth: 447.48GiB/s\n",
      "2021-11-19 18:46:58.923000: I tensorflow/core/common_runtime/gpu/gpu_device.cc:1720] Found device 3 with properties: \n",
      "pciBusID: 0000:84:00.0 name: TITAN X (Pascal) computeCapability: 6.1\n",
      "coreClock: 1.531GHz coreCount: 28 deviceMemorySize: 11.91GiB deviceMemoryBandwidth: 447.48GiB/s\n",
      "2021-11-19 18:46:58.923078: I tensorflow/stream_executor/platform/default/dso_loader.cc:49] Successfully opened dynamic library libcudart.so.10.1\n",
      "2021-11-19 18:46:58.925890: I tensorflow/stream_executor/platform/default/dso_loader.cc:49] Successfully opened dynamic library libcublas.so.10\n",
      "2021-11-19 18:46:58.925966: I tensorflow/stream_executor/platform/default/dso_loader.cc:49] Successfully opened dynamic library libcublasLt.so.10\n",
      "2021-11-19 18:46:58.927714: I tensorflow/stream_executor/platform/default/dso_loader.cc:49] Successfully opened dynamic library libcufft.so.10\n",
      "2021-11-19 18:46:58.928033: I tensorflow/stream_executor/platform/default/dso_loader.cc:49] Successfully opened dynamic library libcurand.so.10\n",
      "2021-11-19 18:46:58.929976: I tensorflow/stream_executor/platform/default/dso_loader.cc:49] Successfully opened dynamic library libcusolver.so.10\n",
      "2021-11-19 18:46:58.931006: I tensorflow/stream_executor/platform/default/dso_loader.cc:49] Successfully opened dynamic library libcusparse.so.10\n",
      "2021-11-19 18:46:58.934960: I tensorflow/stream_executor/platform/default/dso_loader.cc:49] Successfully opened dynamic library libcudnn.so.7\n",
      "2021-11-19 18:46:58.975605: I tensorflow/core/common_runtime/gpu/gpu_device.cc:1862] Adding visible gpu devices: 0, 1, 2, 3\n",
      "2021-11-19 18:46:58.976041: I tensorflow/core/platform/cpu_feature_guard.cc:142] This TensorFlow binary is optimized with oneAPI Deep Neural Network Library (oneDNN) to use the following CPU instructions in performance-critical operations:  SSE4.1 SSE4.2 AVX AVX2 FMA\n",
      "To enable them in other operations, rebuild TensorFlow with the appropriate compiler flags.\n",
      "2021-11-19 18:46:58.987619: I tensorflow/core/platform/profile_utils/cpu_utils.cc:112] CPU Frequency: 2499930000 Hz\n",
      "2021-11-19 18:46:58.990582: I tensorflow/compiler/xla/service/service.cc:168] XLA service 0x56273787a3a0 initialized for platform Host (this does not guarantee that XLA will be used). Devices:\n",
      "2021-11-19 18:46:58.990602: I tensorflow/compiler/xla/service/service.cc:176]   StreamExecutor device (0): Host, Default Version\n",
      "2021-11-19 18:46:59.688839: I tensorflow/core/common_runtime/gpu/gpu_device.cc:1720] Found device 0 with properties: \n",
      "pciBusID: 0000:04:00.0 name: TITAN X (Pascal) computeCapability: 6.1\n",
      "coreClock: 1.531GHz coreCount: 28 deviceMemorySize: 11.91GiB deviceMemoryBandwidth: 447.48GiB/s\n",
      "2021-11-19 18:46:59.691120: I tensorflow/core/common_runtime/gpu/gpu_device.cc:1720] Found device 1 with properties: \n",
      "pciBusID: 0000:05:00.0 name: TITAN X (Pascal) computeCapability: 6.1\n",
      "coreClock: 1.531GHz coreCount: 28 deviceMemorySize: 11.91GiB deviceMemoryBandwidth: 447.48GiB/s\n",
      "2021-11-19 18:46:59.693013: I tensorflow/core/common_runtime/gpu/gpu_device.cc:1720] Found device 2 with properties: \n",
      "pciBusID: 0000:83:00.0 name: TITAN X (Pascal) computeCapability: 6.1\n",
      "coreClock: 1.531GHz coreCount: 28 deviceMemorySize: 11.91GiB deviceMemoryBandwidth: 447.48GiB/s\n",
      "2021-11-19 18:46:59.697715: I tensorflow/core/common_runtime/gpu/gpu_device.cc:1720] Found device 3 with properties: \n",
      "pciBusID: 0000:84:00.0 name: TITAN X (Pascal) computeCapability: 6.1\n",
      "coreClock: 1.531GHz coreCount: 28 deviceMemorySize: 11.91GiB deviceMemoryBandwidth: 447.48GiB/s\n",
      "2021-11-19 18:46:59.697776: I tensorflow/stream_executor/platform/default/dso_loader.cc:49] Successfully opened dynamic library libcudart.so.10.1\n",
      "2021-11-19 18:46:59.697809: I tensorflow/stream_executor/platform/default/dso_loader.cc:49] Successfully opened dynamic library libcublas.so.10\n",
      "2021-11-19 18:46:59.697840: I tensorflow/stream_executor/platform/default/dso_loader.cc:49] Successfully opened dynamic library libcublasLt.so.10\n",
      "2021-11-19 18:46:59.697858: I tensorflow/stream_executor/platform/default/dso_loader.cc:49] Successfully opened dynamic library libcufft.so.10\n",
      "2021-11-19 18:46:59.697876: I tensorflow/stream_executor/platform/default/dso_loader.cc:49] Successfully opened dynamic library libcurand.so.10\n",
      "2021-11-19 18:46:59.697901: I tensorflow/stream_executor/platform/default/dso_loader.cc:49] Successfully opened dynamic library libcusolver.so.10\n",
      "2021-11-19 18:46:59.697927: I tensorflow/stream_executor/platform/default/dso_loader.cc:49] Successfully opened dynamic library libcusparse.so.10\n",
      "2021-11-19 18:46:59.697954: I tensorflow/stream_executor/platform/default/dso_loader.cc:49] Successfully opened dynamic library libcudnn.so.7\n",
      "2021-11-19 18:46:59.711877: I tensorflow/core/common_runtime/gpu/gpu_device.cc:1862] Adding visible gpu devices: 0, 1, 2, 3\n",
      "2021-11-19 18:46:59.711945: I tensorflow/stream_executor/platform/default/dso_loader.cc:49] Successfully opened dynamic library libcudart.so.10.1\n",
      "2021-11-19 18:46:59.734861: I tensorflow/core/common_runtime/gpu/gpu_device.cc:1720] Found device 0 with properties: \n",
      "pciBusID: 0000:04:00.0 name: TITAN X (Pascal) computeCapability: 6.1\n",
      "coreClock: 1.531GHz coreCount: 28 deviceMemorySize: 11.91GiB deviceMemoryBandwidth: 447.48GiB/s\n",
      "2021-11-19 18:46:59.736664: I tensorflow/core/common_runtime/gpu/gpu_device.cc:1720] Found device 1 with properties: \n",
      "pciBusID: 0000:05:00.0 name: TITAN X (Pascal) computeCapability: 6.1\n",
      "coreClock: 1.531GHz coreCount: 28 deviceMemorySize: 11.91GiB deviceMemoryBandwidth: 447.48GiB/s\n",
      "2021-11-19 18:46:59.738211: I tensorflow/core/common_runtime/gpu/gpu_device.cc:1720] Found device 2 with properties: \n",
      "pciBusID: 0000:83:00.0 name: TITAN X (Pascal) computeCapability: 6.1\n",
      "coreClock: 1.531GHz coreCount: 28 deviceMemorySize: 11.91GiB deviceMemoryBandwidth: 447.48GiB/s\n",
      "2021-11-19 18:46:59.739750: I tensorflow/core/common_runtime/gpu/gpu_device.cc:1720] Found device 3 with properties: \n",
      "pciBusID: 0000:84:00.0 name: TITAN X (Pascal) computeCapability: 6.1\n",
      "coreClock: 1.531GHz coreCount: 28 deviceMemorySize: 11.91GiB deviceMemoryBandwidth: 447.48GiB/s\n",
      "2021-11-19 18:46:59.739821: I tensorflow/stream_executor/platform/default/dso_loader.cc:49] Successfully opened dynamic library libcudart.so.10.1\n",
      "2021-11-19 18:46:59.739858: I tensorflow/stream_executor/platform/default/dso_loader.cc:49] Successfully opened dynamic library libcublas.so.10\n",
      "2021-11-19 18:46:59.739890: I tensorflow/stream_executor/platform/default/dso_loader.cc:49] Successfully opened dynamic library libcublasLt.so.10\n",
      "2021-11-19 18:46:59.739912: I tensorflow/stream_executor/platform/default/dso_loader.cc:49] Successfully opened dynamic library libcufft.so.10\n",
      "2021-11-19 18:46:59.739932: I tensorflow/stream_executor/platform/default/dso_loader.cc:49] Successfully opened dynamic library libcurand.so.10\n",
      "2021-11-19 18:46:59.739952: I tensorflow/stream_executor/platform/default/dso_loader.cc:49] Successfully opened dynamic library libcusolver.so.10\n",
      "2021-11-19 18:46:59.739971: I tensorflow/stream_executor/platform/default/dso_loader.cc:49] Successfully opened dynamic library libcusparse.so.10\n",
      "2021-11-19 18:46:59.739991: I tensorflow/stream_executor/platform/default/dso_loader.cc:49] Successfully opened dynamic library libcudnn.so.7\n",
      "2021-11-19 18:46:59.751674: I tensorflow/core/common_runtime/gpu/gpu_device.cc:1862] Adding visible gpu devices: 0, 1, 2, 3\n",
      "2021-11-19 18:46:59.751732: I tensorflow/stream_executor/platform/default/dso_loader.cc:49] Successfully opened dynamic library libcudart.so.10.1\n",
      "2021-11-19 18:47:02.217115: I tensorflow/core/common_runtime/gpu/gpu_device.cc:1261] Device interconnect StreamExecutor with strength 1 edge matrix:\n",
      "2021-11-19 18:47:02.217160: I tensorflow/core/common_runtime/gpu/gpu_device.cc:1267]      0 1 2 3 \n",
      "2021-11-19 18:47:02.217167: I tensorflow/core/common_runtime/gpu/gpu_device.cc:1280] 0:   N Y N N \n",
      "2021-11-19 18:47:02.217172: I tensorflow/core/common_runtime/gpu/gpu_device.cc:1280] 1:   Y N N N \n",
      "2021-11-19 18:47:02.217175: I tensorflow/core/common_runtime/gpu/gpu_device.cc:1280] 2:   N N N Y \n",
      "2021-11-19 18:47:02.217179: I tensorflow/core/common_runtime/gpu/gpu_device.cc:1280] 3:   N N Y N \n",
      "2021-11-19 18:47:02.225910: W tensorflow/core/common_runtime/gpu/gpu_bfc_allocator.cc:39] Overriding allow_growth setting because the TF_FORCE_GPU_ALLOW_GROWTH environment variable is set. Original config value was 0.\n",
      "2021-11-19 18:47:02.225974: I tensorflow/core/common_runtime/gpu/gpu_device.cc:1406] Created TensorFlow device (/job:localhost/replica:0/task:0/device:GPU:0 with 10091 MB memory) -> physical GPU (device: 0, name: TITAN X (Pascal), pci bus id: 0000:04:00.0, compute capability: 6.1)\n",
      "2021-11-19 18:47:02.229003: W tensorflow/core/common_runtime/gpu/gpu_bfc_allocator.cc:39] Overriding allow_growth setting because the TF_FORCE_GPU_ALLOW_GROWTH environment variable is set. Original config value was 0.\n",
      "2021-11-19 18:47:02.229028: I tensorflow/core/common_runtime/gpu/gpu_device.cc:1406] Created TensorFlow device (/job:localhost/replica:0/task:0/device:GPU:1 with 10750 MB memory) -> physical GPU (device: 1, name: TITAN X (Pascal), pci bus id: 0000:05:00.0, compute capability: 6.1)\n",
      "2021-11-19 18:47:02.232284: W tensorflow/core/common_runtime/gpu/gpu_bfc_allocator.cc:39] Overriding allow_growth setting because the TF_FORCE_GPU_ALLOW_GROWTH environment variable is set. Original config value was 0.\n",
      "2021-11-19 18:47:02.232307: I tensorflow/core/common_runtime/gpu/gpu_device.cc:1406] Created TensorFlow device (/job:localhost/replica:0/task:0/device:GPU:2 with 10750 MB memory) -> physical GPU (device: 2, name: TITAN X (Pascal), pci bus id: 0000:83:00.0, compute capability: 6.1)\n",
      "2021-11-19 18:47:02.235193: W tensorflow/core/common_runtime/gpu/gpu_bfc_allocator.cc:39] Overriding allow_growth setting because the TF_FORCE_GPU_ALLOW_GROWTH environment variable is set. Original config value was 0.\n",
      "2021-11-19 18:47:02.235227: I tensorflow/core/common_runtime/gpu/gpu_device.cc:1406] Created TensorFlow device (/job:localhost/replica:0/task:0/device:GPU:3 with 10762 MB memory) -> physical GPU (device: 3, name: TITAN X (Pascal), pci bus id: 0000:84:00.0, compute capability: 6.1)\n",
      "2021-11-19 18:47:02.240758: I tensorflow/compiler/xla/service/service.cc:168] XLA service 0x558e5dedd900 initialized for platform CUDA (this does not guarantee that XLA will be used). Devices:\n",
      "2021-11-19 18:47:02.240776: I tensorflow/compiler/xla/service/service.cc:176]   StreamExecutor device (0): TITAN X (Pascal), Compute Capability 6.1\n",
      "2021-11-19 18:47:02.240782: I tensorflow/compiler/xla/service/service.cc:176]   StreamExecutor device (1): TITAN X (Pascal), Compute Capability 6.1\n",
      "2021-11-19 18:47:02.240787: I tensorflow/compiler/xla/service/service.cc:176]   StreamExecutor device (2): TITAN X (Pascal), Compute Capability 6.1\n",
      "2021-11-19 18:47:02.240791: I tensorflow/compiler/xla/service/service.cc:176]   StreamExecutor device (3): TITAN X (Pascal), Compute Capability 6.1\n",
      "2021-11-19 18:47:02.283574: I tensorflow/core/common_runtime/gpu/gpu_device.cc:1261] Device interconnect StreamExecutor with strength 1 edge matrix:\n",
      "2021-11-19 18:47:02.283628: I tensorflow/core/common_runtime/gpu/gpu_device.cc:1267]      0 1 2 3 \n",
      "2021-11-19 18:47:02.283636: I tensorflow/core/common_runtime/gpu/gpu_device.cc:1280] 0:   N Y N N \n",
      "2021-11-19 18:47:02.283640: I tensorflow/core/common_runtime/gpu/gpu_device.cc:1280] 1:   Y N N N \n",
      "2021-11-19 18:47:02.283643: I tensorflow/core/common_runtime/gpu/gpu_device.cc:1280] 2:   N N N Y \n",
      "2021-11-19 18:47:02.283647: I tensorflow/core/common_runtime/gpu/gpu_device.cc:1280] 3:   N N Y N \n",
      "2021-11-19 18:47:02.293011: W tensorflow/core/common_runtime/gpu/gpu_bfc_allocator.cc:39] Overriding allow_growth setting because the TF_FORCE_GPU_ALLOW_GROWTH environment variable is set. Original config value was 0.\n",
      "2021-11-19 18:47:02.293063: I tensorflow/core/common_runtime/gpu/gpu_device.cc:1406] Created TensorFlow device (/job:localhost/replica:0/task:0/device:GPU:0 with 10087 MB memory) -> physical GPU (device: 0, name: TITAN X (Pascal), pci bus id: 0000:04:00.0, compute capability: 6.1)\n",
      "2021-11-19 18:47:02.296018: W tensorflow/core/common_runtime/gpu/gpu_bfc_allocator.cc:39] Overriding allow_growth setting because the TF_FORCE_GPU_ALLOW_GROWTH environment variable is set. Original config value was 0.\n",
      "2021-11-19 18:47:02.296043: I tensorflow/core/common_runtime/gpu/gpu_device.cc:1406] Created TensorFlow device (/job:localhost/replica:0/task:0/device:GPU:1 with 10749 MB memory) -> physical GPU (device: 1, name: TITAN X (Pascal), pci bus id: 0000:05:00.0, compute capability: 6.1)\n",
      "2021-11-19 18:47:02.299277: W tensorflow/core/common_runtime/gpu/gpu_bfc_allocator.cc:39] Overriding allow_growth setting because the TF_FORCE_GPU_ALLOW_GROWTH environment variable is set. Original config value was 0.\n",
      "2021-11-19 18:47:02.299308: I tensorflow/core/common_runtime/gpu/gpu_device.cc:1406] Created TensorFlow device (/job:localhost/replica:0/task:0/device:GPU:2 with 10749 MB memory) -> physical GPU (device: 2, name: TITAN X (Pascal), pci bus id: 0000:83:00.0, compute capability: 6.1)\n",
      "2021-11-19 18:47:02.302170: W tensorflow/core/common_runtime/gpu/gpu_bfc_allocator.cc:39] Overriding allow_growth setting because the TF_FORCE_GPU_ALLOW_GROWTH environment variable is set. Original config value was 0.\n",
      "2021-11-19 18:47:02.302193: I tensorflow/core/common_runtime/gpu/gpu_device.cc:1406] Created TensorFlow device (/job:localhost/replica:0/task:0/device:GPU:3 with 10749 MB memory) -> physical GPU (device: 3, name: TITAN X (Pascal), pci bus id: 0000:84:00.0, compute capability: 6.1)\n",
      "2021-11-19 18:47:02.307196: I tensorflow/compiler/xla/service/service.cc:168] XLA service 0x5627abce4590 initialized for platform CUDA (this does not guarantee that XLA will be used). Devices:\n",
      "2021-11-19 18:47:02.307214: I tensorflow/compiler/xla/service/service.cc:176]   StreamExecutor device (0): TITAN X (Pascal), Compute Capability 6.1\n",
      "2021-11-19 18:47:02.307220: I tensorflow/compiler/xla/service/service.cc:176]   StreamExecutor device (1): TITAN X (Pascal), Compute Capability 6.1\n",
      "2021-11-19 18:47:02.307225: I tensorflow/compiler/xla/service/service.cc:176]   StreamExecutor device (2): TITAN X (Pascal), Compute Capability 6.1\n",
      "2021-11-19 18:47:02.307229: I tensorflow/compiler/xla/service/service.cc:176]   StreamExecutor device (3): TITAN X (Pascal), Compute Capability 6.1\n",
      "2021-11-19 18:47:03.099915: I tensorflow/compiler/mlir/mlir_graph_optimization_pass.cc:116] None of the MLIR optimization passes are enabled (registered 2)\n",
      "2021-11-19 18:47:03.151694: I tensorflow/compiler/mlir/mlir_graph_optimization_pass.cc:116] None of the MLIR optimization passes are enabled (registered 2)\n",
      "2021-11-19 18:47:07.202989: I tensorflow/stream_executor/platform/default/dso_loader.cc:49] Successfully opened dynamic library libcublas.so.10\n",
      "2021-11-19 18:47:07.212180: I tensorflow/stream_executor/platform/default/dso_loader.cc:49] Successfully opened dynamic library libcublas.so.10\n",
      "2021-11-19 18:47:07.491039: I tensorflow/stream_executor/platform/default/dso_loader.cc:49] Successfully opened dynamic library libcudnn.so.7\n",
      "2021-11-19 18:47:07.513855: I tensorflow/stream_executor/platform/default/dso_loader.cc:49] Successfully opened dynamic library libcudnn.so.7\n"
     ]
    },
    {
     "name": "stdout",
     "output_type": "stream",
     "text": [
      "Best: 0.670824 using {'learn_rate': 0.007}\n",
      "0.654788 (0.002224) with: {'learn_rate': 0.002}\n",
      "0.668045 (0.001265) with: {'learn_rate': 0.005}\n",
      "0.668785 (0.001741) with: {'learn_rate': 0.006}\n",
      "0.669805 (0.001148) with: {'learn_rate': 0.0065}\n",
      "0.670824 (0.003028) with: {'learn_rate': 0.007}\n",
      "0.666475 (0.001909) with: {'learn_rate': 0.009}\n"
     ]
    }
   ],
   "source": [
    "  # create model\n",
    "model = KerasClassifier(build_fn=create_model, epochs=2, batch_size=256, verbose=0)\n",
    "# define the grid search parameters\n",
    "learn_rate = [2e-3,5e-3 ,6e-3,65e-4, 7e-3, 9e-3]\n",
    "\n",
    "param_grid = dict(learn_rate=learn_rate)\n",
    "grid = GridSearchCV(estimator=model, param_grid=param_grid, n_jobs=2)\n",
    "grid_result = grid.fit(X_train_rnn, y_train)\n",
    "# summarize results\n",
    "print(\"Best: %f using %s\" % (grid_result.best_score_, grid_result.best_params_))\n",
    "means = grid_result.cv_results_['mean_test_score']\n",
    "stds = grid_result.cv_results_['std_test_score']\n",
    "params = grid_result.cv_results_['params']\n",
    "for mean, stdev, param in zip(means, stds, params):\n",
    "    print(\"%f (%f) with: %r\" % (mean, stdev, param))\n"
   ]
  },
  {
   "cell_type": "markdown",
   "metadata": {},
   "source": [
    "Let's try to narrow the interval between 0.0065 and 0.0072:"
   ]
  },
  {
   "cell_type": "code",
   "execution_count": 35,
   "metadata": {
    "scrolled": false
   },
   "outputs": [
    {
     "name": "stderr",
     "output_type": "stream",
     "text": [
      "2021-11-19 19:03:31.560124: I tensorflow/stream_executor/platform/default/dso_loader.cc:49] Successfully opened dynamic library libcudart.so.10.1\n",
      "2021-11-19 19:03:31.560124: I tensorflow/stream_executor/platform/default/dso_loader.cc:49] Successfully opened dynamic library libcudart.so.10.1\n",
      "2021-11-19 19:03:31.564454: I tensorflow/stream_executor/platform/default/dso_loader.cc:49] Successfully opened dynamic library libcudart.so.10.1\n",
      "2021-11-19 19:03:31.564453: I tensorflow/stream_executor/platform/default/dso_loader.cc:49] Successfully opened dynamic library libcudart.so.10.1\n",
      "2021-11-19 19:03:32.730517: I tensorflow/stream_executor/platform/default/dso_loader.cc:49] Successfully opened dynamic library libcuda.so.1\n",
      "2021-11-19 19:03:32.732094: I tensorflow/stream_executor/platform/default/dso_loader.cc:49] Successfully opened dynamic library libcuda.so.1\n",
      "2021-11-19 19:03:32.732094: I tensorflow/stream_executor/platform/default/dso_loader.cc:49] Successfully opened dynamic library libcuda.so.1\n",
      "2021-11-19 19:03:32.734574: I tensorflow/stream_executor/platform/default/dso_loader.cc:49] Successfully opened dynamic library libcuda.so.1\n",
      "2021-11-19 19:03:33.042020: I tensorflow/core/common_runtime/gpu/gpu_device.cc:1720] Found device 0 with properties: \n",
      "pciBusID: 0000:04:00.0 name: TITAN X (Pascal) computeCapability: 6.1\n",
      "coreClock: 1.531GHz coreCount: 28 deviceMemorySize: 11.91GiB deviceMemoryBandwidth: 447.48GiB/s\n",
      "2021-11-19 19:03:33.062711: I tensorflow/core/common_runtime/gpu/gpu_device.cc:1720] Found device 0 with properties: \n",
      "pciBusID: 0000:04:00.0 name: TITAN X (Pascal) computeCapability: 6.1\n",
      "coreClock: 1.531GHz coreCount: 28 deviceMemorySize: 11.91GiB deviceMemoryBandwidth: 447.48GiB/s\n",
      "2021-11-19 19:03:33.064164: I tensorflow/core/common_runtime/gpu/gpu_device.cc:1720] Found device 0 with properties: \n",
      "pciBusID: 0000:04:00.0 name: TITAN X (Pascal) computeCapability: 6.1\n",
      "coreClock: 1.531GHz coreCount: 28 deviceMemorySize: 11.91GiB deviceMemoryBandwidth: 447.48GiB/s\n",
      "2021-11-19 19:03:33.064427: I tensorflow/core/common_runtime/gpu/gpu_device.cc:1720] Found device 1 with properties: \n",
      "pciBusID: 0000:05:00.0 name: TITAN X (Pascal) computeCapability: 6.1\n",
      "coreClock: 1.531GHz coreCount: 28 deviceMemorySize: 11.91GiB deviceMemoryBandwidth: 447.48GiB/s\n",
      "2021-11-19 19:03:33.078064: I tensorflow/core/common_runtime/gpu/gpu_device.cc:1720] Found device 0 with properties: \n",
      "pciBusID: 0000:04:00.0 name: TITAN X (Pascal) computeCapability: 6.1\n",
      "coreClock: 1.531GHz coreCount: 28 deviceMemorySize: 11.91GiB deviceMemoryBandwidth: 447.48GiB/s\n",
      "2021-11-19 19:03:33.080653: I tensorflow/core/common_runtime/gpu/gpu_device.cc:1720] Found device 1 with properties: \n",
      "pciBusID: 0000:05:00.0 name: TITAN X (Pascal) computeCapability: 6.1\n",
      "coreClock: 1.531GHz coreCount: 28 deviceMemorySize: 11.91GiB deviceMemoryBandwidth: 447.48GiB/s\n",
      "2021-11-19 19:03:33.081981: I tensorflow/core/common_runtime/gpu/gpu_device.cc:1720] Found device 1 with properties: \n",
      "pciBusID: 0000:05:00.0 name: TITAN X (Pascal) computeCapability: 6.1\n",
      "coreClock: 1.531GHz coreCount: 28 deviceMemorySize: 11.91GiB deviceMemoryBandwidth: 447.48GiB/s\n",
      "2021-11-19 19:03:33.082233: I tensorflow/core/common_runtime/gpu/gpu_device.cc:1720] Found device 2 with properties: \n",
      "pciBusID: 0000:83:00.0 name: TITAN X (Pascal) computeCapability: 6.1\n",
      "coreClock: 1.531GHz coreCount: 28 deviceMemorySize: 11.91GiB deviceMemoryBandwidth: 447.48GiB/s\n",
      "2021-11-19 19:03:33.096333: I tensorflow/core/common_runtime/gpu/gpu_device.cc:1720] Found device 1 with properties: \n",
      "pciBusID: 0000:05:00.0 name: TITAN X (Pascal) computeCapability: 6.1\n",
      "coreClock: 1.531GHz coreCount: 28 deviceMemorySize: 11.91GiB deviceMemoryBandwidth: 447.48GiB/s\n",
      "2021-11-19 19:03:33.098926: I tensorflow/core/common_runtime/gpu/gpu_device.cc:1720] Found device 2 with properties: \n",
      "pciBusID: 0000:83:00.0 name: TITAN X (Pascal) computeCapability: 6.1\n",
      "coreClock: 1.531GHz coreCount: 28 deviceMemorySize: 11.91GiB deviceMemoryBandwidth: 447.48GiB/s\n",
      "2021-11-19 19:03:33.099924: I tensorflow/core/common_runtime/gpu/gpu_device.cc:1720] Found device 2 with properties: \n",
      "pciBusID: 0000:83:00.0 name: TITAN X (Pascal) computeCapability: 6.1\n",
      "coreClock: 1.531GHz coreCount: 28 deviceMemorySize: 11.91GiB deviceMemoryBandwidth: 447.48GiB/s\n",
      "2021-11-19 19:03:33.100528: I tensorflow/core/common_runtime/gpu/gpu_device.cc:1720] Found device 3 with properties: \n",
      "pciBusID: 0000:84:00.0 name: TITAN X (Pascal) computeCapability: 6.1\n",
      "coreClock: 1.531GHz coreCount: 28 deviceMemorySize: 11.91GiB deviceMemoryBandwidth: 447.48GiB/s\n",
      "2021-11-19 19:03:33.100604: I tensorflow/stream_executor/platform/default/dso_loader.cc:49] Successfully opened dynamic library libcudart.so.10.1\n",
      "2021-11-19 19:03:33.103884: I tensorflow/stream_executor/platform/default/dso_loader.cc:49] Successfully opened dynamic library libcublas.so.10\n",
      "2021-11-19 19:03:33.103987: I tensorflow/stream_executor/platform/default/dso_loader.cc:49] Successfully opened dynamic library libcublasLt.so.10\n",
      "2021-11-19 19:03:33.106824: I tensorflow/stream_executor/platform/default/dso_loader.cc:49] Successfully opened dynamic library libcufft.so.10\n",
      "2021-11-19 19:03:33.107219: I tensorflow/stream_executor/platform/default/dso_loader.cc:49] Successfully opened dynamic library libcurand.so.10\n",
      "2021-11-19 19:03:33.109625: I tensorflow/stream_executor/platform/default/dso_loader.cc:49] Successfully opened dynamic library libcusolver.so.10\n",
      "2021-11-19 19:03:33.110976: I tensorflow/stream_executor/platform/default/dso_loader.cc:49] Successfully opened dynamic library libcusparse.so.10\n",
      "2021-11-19 19:03:33.111114: I tensorflow/core/common_runtime/gpu/gpu_device.cc:1720] Found device 2 with properties: \n",
      "pciBusID: 0000:83:00.0 name: TITAN X (Pascal) computeCapability: 6.1\n",
      "coreClock: 1.531GHz coreCount: 28 deviceMemorySize: 11.91GiB deviceMemoryBandwidth: 447.48GiB/s\n",
      "2021-11-19 19:03:33.113072: I tensorflow/core/common_runtime/gpu/gpu_device.cc:1720] Found device 3 with properties: \n",
      "pciBusID: 0000:84:00.0 name: TITAN X (Pascal) computeCapability: 6.1\n",
      "coreClock: 1.531GHz coreCount: 28 deviceMemorySize: 11.91GiB deviceMemoryBandwidth: 447.48GiB/s\n",
      "2021-11-19 19:03:33.113149: I tensorflow/stream_executor/platform/default/dso_loader.cc:49] Successfully opened dynamic library libcudart.so.10.1\n",
      "2021-11-19 19:03:33.113300: I tensorflow/core/common_runtime/gpu/gpu_device.cc:1720] Found device 3 with properties: \n",
      "pciBusID: 0000:84:00.0 name: TITAN X (Pascal) computeCapability: 6.1\n",
      "coreClock: 1.531GHz coreCount: 28 deviceMemorySize: 11.91GiB deviceMemoryBandwidth: 447.48GiB/s\n",
      "2021-11-19 19:03:33.113364: I tensorflow/stream_executor/platform/default/dso_loader.cc:49] Successfully opened dynamic library libcudart.so.10.1\n",
      "2021-11-19 19:03:33.116179: I tensorflow/stream_executor/platform/default/dso_loader.cc:49] Successfully opened dynamic library libcudnn.so.7\n",
      "2021-11-19 19:03:33.116279: I tensorflow/stream_executor/platform/default/dso_loader.cc:49] Successfully opened dynamic library libcublas.so.10\n",
      "2021-11-19 19:03:33.116378: I tensorflow/stream_executor/platform/default/dso_loader.cc:49] Successfully opened dynamic library libcublasLt.so.10\n",
      "2021-11-19 19:03:33.116451: I tensorflow/stream_executor/platform/default/dso_loader.cc:49] Successfully opened dynamic library libcublas.so.10\n",
      "2021-11-19 19:03:33.116551: I tensorflow/stream_executor/platform/default/dso_loader.cc:49] Successfully opened dynamic library libcublasLt.so.10\n",
      "2021-11-19 19:03:33.117030: I tensorflow/core/common_runtime/gpu/gpu_device.cc:1720] Found device 3 with properties: \n",
      "pciBusID: 0000:84:00.0 name: TITAN X (Pascal) computeCapability: 6.1\n",
      "coreClock: 1.531GHz coreCount: 28 deviceMemorySize: 11.91GiB deviceMemoryBandwidth: 447.48GiB/s\n",
      "2021-11-19 19:03:33.117114: I tensorflow/stream_executor/platform/default/dso_loader.cc:49] Successfully opened dynamic library libcudart.so.10.1\n",
      "2021-11-19 19:03:33.119216: I tensorflow/stream_executor/platform/default/dso_loader.cc:49] Successfully opened dynamic library libcufft.so.10\n",
      "2021-11-19 19:03:33.119219: I tensorflow/stream_executor/platform/default/dso_loader.cc:49] Successfully opened dynamic library libcufft.so.10\n",
      "2021-11-19 19:03:33.119645: I tensorflow/stream_executor/platform/default/dso_loader.cc:49] Successfully opened dynamic library libcurand.so.10\n",
      "2021-11-19 19:03:33.119771: I tensorflow/stream_executor/platform/default/dso_loader.cc:49] Successfully opened dynamic library libcurand.so.10\n",
      "2021-11-19 19:03:33.120461: I tensorflow/stream_executor/platform/default/dso_loader.cc:49] Successfully opened dynamic library libcublas.so.10\n",
      "2021-11-19 19:03:33.120574: I tensorflow/stream_executor/platform/default/dso_loader.cc:49] Successfully opened dynamic library libcublasLt.so.10\n",
      "2021-11-19 19:03:33.122205: I tensorflow/stream_executor/platform/default/dso_loader.cc:49] Successfully opened dynamic library libcusolver.so.10\n",
      "2021-11-19 19:03:33.122759: I tensorflow/stream_executor/platform/default/dso_loader.cc:49] Successfully opened dynamic library libcusolver.so.10\n",
      "2021-11-19 19:03:33.123108: I tensorflow/stream_executor/platform/default/dso_loader.cc:49] Successfully opened dynamic library libcufft.so.10\n",
      "2021-11-19 19:03:33.123464: I tensorflow/stream_executor/platform/default/dso_loader.cc:49] Successfully opened dynamic library libcurand.so.10\n",
      "2021-11-19 19:03:33.123739: I tensorflow/stream_executor/platform/default/dso_loader.cc:49] Successfully opened dynamic library libcusparse.so.10\n",
      "2021-11-19 19:03:33.124060: I tensorflow/stream_executor/platform/default/dso_loader.cc:49] Successfully opened dynamic library libcusparse.so.10\n",
      "2021-11-19 19:03:33.125743: I tensorflow/stream_executor/platform/default/dso_loader.cc:49] Successfully opened dynamic library libcusolver.so.10\n",
      "2021-11-19 19:03:33.127012: I tensorflow/stream_executor/platform/default/dso_loader.cc:49] Successfully opened dynamic library libcusparse.so.10\n",
      "2021-11-19 19:03:33.128796: I tensorflow/stream_executor/platform/default/dso_loader.cc:49] Successfully opened dynamic library libcudnn.so.7\n",
      "2021-11-19 19:03:33.129133: I tensorflow/stream_executor/platform/default/dso_loader.cc:49] Successfully opened dynamic library libcudnn.so.7\n",
      "2021-11-19 19:03:33.131542: I tensorflow/stream_executor/platform/default/dso_loader.cc:49] Successfully opened dynamic library libcudnn.so.7\n",
      "2021-11-19 19:03:33.180350: I tensorflow/core/common_runtime/gpu/gpu_device.cc:1862] Adding visible gpu devices: 0, 1, 2, 3\n",
      "2021-11-19 19:03:33.180928: I tensorflow/core/platform/cpu_feature_guard.cc:142] This TensorFlow binary is optimized with oneAPI Deep Neural Network Library (oneDNN) to use the following CPU instructions in performance-critical operations:  SSE4.1 SSE4.2 AVX AVX2 FMA\n",
      "To enable them in other operations, rebuild TensorFlow with the appropriate compiler flags.\n",
      "2021-11-19 19:03:33.213831: I tensorflow/core/platform/profile_utils/cpu_utils.cc:112] CPU Frequency: 2499930000 Hz\n",
      "2021-11-19 19:03:33.218757: I tensorflow/compiler/xla/service/service.cc:168] XLA service 0x558de4d263a0 initialized for platform Host (this does not guarantee that XLA will be used). Devices:\n",
      "2021-11-19 19:03:33.218792: I tensorflow/compiler/xla/service/service.cc:176]   StreamExecutor device (0): Host, Default Version\n",
      "2021-11-19 19:03:33.247867: I tensorflow/core/common_runtime/gpu/gpu_device.cc:1862] Adding visible gpu devices: 0, 1, 2, 3\n",
      "2021-11-19 19:03:33.248362: I tensorflow/core/common_runtime/gpu/gpu_device.cc:1862] Adding visible gpu devices: 0, 1, 2, 3\n",
      "2021-11-19 19:03:33.248419: I tensorflow/core/platform/cpu_feature_guard.cc:142] This TensorFlow binary is optimized with oneAPI Deep Neural Network Library (oneDNN) to use the following CPU instructions in performance-critical operations:  SSE4.1 SSE4.2 AVX AVX2 FMA\n",
      "To enable them in other operations, rebuild TensorFlow with the appropriate compiler flags.\n",
      "2021-11-19 19:03:33.248845: I tensorflow/core/platform/cpu_feature_guard.cc:142] This TensorFlow binary is optimized with oneAPI Deep Neural Network Library (oneDNN) to use the following CPU instructions in performance-critical operations:  SSE4.1 SSE4.2 AVX AVX2 FMA\n",
      "To enable them in other operations, rebuild TensorFlow with the appropriate compiler flags.\n",
      "2021-11-19 19:03:33.250150: I tensorflow/core/common_runtime/gpu/gpu_device.cc:1862] Adding visible gpu devices: 0, 1, 2, 3\n",
      "2021-11-19 19:03:33.250747: I tensorflow/core/platform/cpu_feature_guard.cc:142] This TensorFlow binary is optimized with oneAPI Deep Neural Network Library (oneDNN) to use the following CPU instructions in performance-critical operations:  SSE4.1 SSE4.2 AVX AVX2 FMA\n",
      "To enable them in other operations, rebuild TensorFlow with the appropriate compiler flags.\n",
      "2021-11-19 19:03:33.266453: I tensorflow/core/platform/profile_utils/cpu_utils.cc:112] CPU Frequency: 2499930000 Hz\n",
      "2021-11-19 19:03:33.269706: I tensorflow/core/platform/profile_utils/cpu_utils.cc:112] CPU Frequency: 2499930000 Hz\n",
      "2021-11-19 19:03:33.271750: I tensorflow/core/platform/profile_utils/cpu_utils.cc:112] CPU Frequency: 2499930000 Hz\n",
      "2021-11-19 19:03:33.273562: I tensorflow/compiler/xla/service/service.cc:168] XLA service 0x5567c213b3a0 initialized for platform Host (this does not guarantee that XLA will be used). Devices:\n",
      "2021-11-19 19:03:33.273630: I tensorflow/compiler/xla/service/service.cc:176]   StreamExecutor device (0): Host, Default Version\n",
      "2021-11-19 19:03:33.274740: I tensorflow/compiler/xla/service/service.cc:168] XLA service 0x55a91400c3a0 initialized for platform Host (this does not guarantee that XLA will be used). Devices:\n",
      "2021-11-19 19:03:33.274799: I tensorflow/compiler/xla/service/service.cc:176]   StreamExecutor device (0): Host, Default Version\n",
      "2021-11-19 19:03:33.275887: I tensorflow/compiler/xla/service/service.cc:168] XLA service 0x5587272203a0 initialized for platform Host (this does not guarantee that XLA will be used). Devices:\n",
      "2021-11-19 19:03:33.275933: I tensorflow/compiler/xla/service/service.cc:176]   StreamExecutor device (0): Host, Default Version\n",
      "2021-11-19 19:03:35.638322: I tensorflow/core/common_runtime/gpu/gpu_device.cc:1720] Found device 0 with properties: \n",
      "pciBusID: 0000:04:00.0 name: TITAN X (Pascal) computeCapability: 6.1\n",
      "coreClock: 1.531GHz coreCount: 28 deviceMemorySize: 11.91GiB deviceMemoryBandwidth: 447.48GiB/s\n",
      "2021-11-19 19:03:35.640978: I tensorflow/core/common_runtime/gpu/gpu_device.cc:1720] Found device 1 with properties: \n",
      "pciBusID: 0000:05:00.0 name: TITAN X (Pascal) computeCapability: 6.1\n",
      "coreClock: 1.531GHz coreCount: 28 deviceMemorySize: 11.91GiB deviceMemoryBandwidth: 447.48GiB/s\n",
      "2021-11-19 19:03:35.644038: I tensorflow/core/common_runtime/gpu/gpu_device.cc:1720] Found device 2 with properties: \n",
      "pciBusID: 0000:83:00.0 name: TITAN X (Pascal) computeCapability: 6.1\n",
      "coreClock: 1.531GHz coreCount: 28 deviceMemorySize: 11.91GiB deviceMemoryBandwidth: 447.48GiB/s\n",
      "2021-11-19 19:03:35.647252: I tensorflow/core/common_runtime/gpu/gpu_device.cc:1720] Found device 3 with properties: \n",
      "pciBusID: 0000:84:00.0 name: TITAN X (Pascal) computeCapability: 6.1\n",
      "coreClock: 1.531GHz coreCount: 28 deviceMemorySize: 11.91GiB deviceMemoryBandwidth: 447.48GiB/s\n",
      "2021-11-19 19:03:35.647328: I tensorflow/stream_executor/platform/default/dso_loader.cc:49] Successfully opened dynamic library libcudart.so.10.1\n",
      "2021-11-19 19:03:35.647376: I tensorflow/stream_executor/platform/default/dso_loader.cc:49] Successfully opened dynamic library libcublas.so.10\n",
      "2021-11-19 19:03:35.647415: I tensorflow/stream_executor/platform/default/dso_loader.cc:49] Successfully opened dynamic library libcublasLt.so.10\n",
      "2021-11-19 19:03:35.647452: I tensorflow/stream_executor/platform/default/dso_loader.cc:49] Successfully opened dynamic library libcufft.so.10\n",
      "2021-11-19 19:03:35.647485: I tensorflow/stream_executor/platform/default/dso_loader.cc:49] Successfully opened dynamic library libcurand.so.10\n",
      "2021-11-19 19:03:35.647526: I tensorflow/stream_executor/platform/default/dso_loader.cc:49] Successfully opened dynamic library libcusolver.so.10\n",
      "2021-11-19 19:03:35.647558: I tensorflow/stream_executor/platform/default/dso_loader.cc:49] Successfully opened dynamic library libcusparse.so.10\n",
      "2021-11-19 19:03:35.647593: I tensorflow/stream_executor/platform/default/dso_loader.cc:49] Successfully opened dynamic library libcudnn.so.7\n",
      "2021-11-19 19:03:35.697819: I tensorflow/core/common_runtime/gpu/gpu_device.cc:1720] Found device 0 with properties: \n",
      "pciBusID: 0000:04:00.0 name: TITAN X (Pascal) computeCapability: 6.1\n",
      "coreClock: 1.531GHz coreCount: 28 deviceMemorySize: 11.91GiB deviceMemoryBandwidth: 447.48GiB/s\n",
      "2021-11-19 19:03:35.704424: I tensorflow/core/common_runtime/gpu/gpu_device.cc:1862] Adding visible gpu devices: 0, 1, 2, 3\n",
      "2021-11-19 19:03:35.704510: I tensorflow/stream_executor/platform/default/dso_loader.cc:49] Successfully opened dynamic library libcudart.so.10.1\n",
      "2021-11-19 19:03:35.707033: I tensorflow/core/common_runtime/gpu/gpu_device.cc:1720] Found device 1 with properties: \n",
      "pciBusID: 0000:05:00.0 name: TITAN X (Pascal) computeCapability: 6.1\n",
      "coreClock: 1.531GHz coreCount: 28 deviceMemorySize: 11.91GiB deviceMemoryBandwidth: 447.48GiB/s\n",
      "2021-11-19 19:03:35.714109: I tensorflow/core/common_runtime/gpu/gpu_device.cc:1720] Found device 2 with properties: \n",
      "pciBusID: 0000:83:00.0 name: TITAN X (Pascal) computeCapability: 6.1\n",
      "coreClock: 1.531GHz coreCount: 28 deviceMemorySize: 11.91GiB deviceMemoryBandwidth: 447.48GiB/s\n",
      "2021-11-19 19:03:35.721670: I tensorflow/core/common_runtime/gpu/gpu_device.cc:1720] Found device 3 with properties: \n",
      "pciBusID: 0000:84:00.0 name: TITAN X (Pascal) computeCapability: 6.1\n",
      "coreClock: 1.531GHz coreCount: 28 deviceMemorySize: 11.91GiB deviceMemoryBandwidth: 447.48GiB/s\n",
      "2021-11-19 19:03:35.721780: I tensorflow/stream_executor/platform/default/dso_loader.cc:49] Successfully opened dynamic library libcudart.so.10.1\n",
      "2021-11-19 19:03:35.721843: I tensorflow/stream_executor/platform/default/dso_loader.cc:49] Successfully opened dynamic library libcublas.so.10\n",
      "2021-11-19 19:03:35.721884: I tensorflow/stream_executor/platform/default/dso_loader.cc:49] Successfully opened dynamic library libcublasLt.so.10\n",
      "2021-11-19 19:03:35.721921: I tensorflow/stream_executor/platform/default/dso_loader.cc:49] Successfully opened dynamic library libcufft.so.10\n",
      "2021-11-19 19:03:35.721976: I tensorflow/stream_executor/platform/default/dso_loader.cc:49] Successfully opened dynamic library libcurand.so.10\n",
      "2021-11-19 19:03:35.722037: I tensorflow/stream_executor/platform/default/dso_loader.cc:49] Successfully opened dynamic library libcusolver.so.10\n",
      "2021-11-19 19:03:35.722103: I tensorflow/stream_executor/platform/default/dso_loader.cc:49] Successfully opened dynamic library libcusparse.so.10\n",
      "2021-11-19 19:03:35.722169: I tensorflow/stream_executor/platform/default/dso_loader.cc:49] Successfully opened dynamic library libcudnn.so.7\n",
      "2021-11-19 19:03:35.728626: I tensorflow/core/common_runtime/gpu/gpu_device.cc:1720] Found device 0 with properties: \n",
      "pciBusID: 0000:04:00.0 name: TITAN X (Pascal) computeCapability: 6.1\n",
      "coreClock: 1.531GHz coreCount: 28 deviceMemorySize: 11.91GiB deviceMemoryBandwidth: 447.48GiB/s\n",
      "2021-11-19 19:03:35.731411: I tensorflow/core/common_runtime/gpu/gpu_device.cc:1720] Found device 0 with properties: \n",
      "pciBusID: 0000:04:00.0 name: TITAN X (Pascal) computeCapability: 6.1\n",
      "coreClock: 1.531GHz coreCount: 28 deviceMemorySize: 11.91GiB deviceMemoryBandwidth: 447.48GiB/s\n",
      "2021-11-19 19:03:35.740341: I tensorflow/core/common_runtime/gpu/gpu_device.cc:1720] Found device 1 with properties: \n",
      "pciBusID: 0000:05:00.0 name: TITAN X (Pascal) computeCapability: 6.1\n",
      "coreClock: 1.531GHz coreCount: 28 deviceMemorySize: 11.91GiB deviceMemoryBandwidth: 447.48GiB/s\n",
      "2021-11-19 19:03:35.743190: I tensorflow/core/common_runtime/gpu/gpu_device.cc:1720] Found device 1 with properties: \n",
      "pciBusID: 0000:05:00.0 name: TITAN X (Pascal) computeCapability: 6.1\n",
      "coreClock: 1.531GHz coreCount: 28 deviceMemorySize: 11.91GiB deviceMemoryBandwidth: 447.48GiB/s\n",
      "2021-11-19 19:03:35.750411: I tensorflow/core/common_runtime/gpu/gpu_device.cc:1720] Found device 2 with properties: \n",
      "pciBusID: 0000:83:00.0 name: TITAN X (Pascal) computeCapability: 6.1\n",
      "coreClock: 1.531GHz coreCount: 28 deviceMemorySize: 11.91GiB deviceMemoryBandwidth: 447.48GiB/s\n",
      "2021-11-19 19:03:35.752715: I tensorflow/core/common_runtime/gpu/gpu_device.cc:1720] Found device 2 with properties: \n",
      "pciBusID: 0000:83:00.0 name: TITAN X (Pascal) computeCapability: 6.1\n",
      "coreClock: 1.531GHz coreCount: 28 deviceMemorySize: 11.91GiB deviceMemoryBandwidth: 447.48GiB/s\n",
      "2021-11-19 19:03:35.759204: I tensorflow/core/common_runtime/gpu/gpu_device.cc:1720] Found device 3 with properties: \n",
      "pciBusID: 0000:84:00.0 name: TITAN X (Pascal) computeCapability: 6.1\n",
      "coreClock: 1.531GHz coreCount: 28 deviceMemorySize: 11.91GiB deviceMemoryBandwidth: 447.48GiB/s\n",
      "2021-11-19 19:03:35.759308: I tensorflow/stream_executor/platform/default/dso_loader.cc:49] Successfully opened dynamic library libcudart.so.10.1\n",
      "2021-11-19 19:03:35.759385: I tensorflow/stream_executor/platform/default/dso_loader.cc:49] Successfully opened dynamic library libcublas.so.10\n",
      "2021-11-19 19:03:35.759433: I tensorflow/stream_executor/platform/default/dso_loader.cc:49] Successfully opened dynamic library libcublasLt.so.10\n",
      "2021-11-19 19:03:35.759480: I tensorflow/stream_executor/platform/default/dso_loader.cc:49] Successfully opened dynamic library libcufft.so.10\n",
      "2021-11-19 19:03:35.759525: I tensorflow/stream_executor/platform/default/dso_loader.cc:49] Successfully opened dynamic library libcurand.so.10\n",
      "2021-11-19 19:03:35.759573: I tensorflow/stream_executor/platform/default/dso_loader.cc:49] Successfully opened dynamic library libcusolver.so.10\n",
      "2021-11-19 19:03:35.759620: I tensorflow/stream_executor/platform/default/dso_loader.cc:49] Successfully opened dynamic library libcusparse.so.10\n",
      "2021-11-19 19:03:35.759666: I tensorflow/stream_executor/platform/default/dso_loader.cc:49] Successfully opened dynamic library libcudnn.so.7\n",
      "2021-11-19 19:03:35.761347: I tensorflow/core/common_runtime/gpu/gpu_device.cc:1720] Found device 3 with properties: \n",
      "pciBusID: 0000:84:00.0 name: TITAN X (Pascal) computeCapability: 6.1\n",
      "coreClock: 1.531GHz coreCount: 28 deviceMemorySize: 11.91GiB deviceMemoryBandwidth: 447.48GiB/s\n",
      "2021-11-19 19:03:35.761442: I tensorflow/stream_executor/platform/default/dso_loader.cc:49] Successfully opened dynamic library libcudart.so.10.1\n",
      "2021-11-19 19:03:35.761512: I tensorflow/stream_executor/platform/default/dso_loader.cc:49] Successfully opened dynamic library libcublas.so.10\n",
      "2021-11-19 19:03:35.761555: I tensorflow/stream_executor/platform/default/dso_loader.cc:49] Successfully opened dynamic library libcublasLt.so.10\n",
      "2021-11-19 19:03:35.761617: I tensorflow/stream_executor/platform/default/dso_loader.cc:49] Successfully opened dynamic library libcufft.so.10\n",
      "2021-11-19 19:03:35.761659: I tensorflow/stream_executor/platform/default/dso_loader.cc:49] Successfully opened dynamic library libcurand.so.10\n",
      "2021-11-19 19:03:35.761702: I tensorflow/stream_executor/platform/default/dso_loader.cc:49] Successfully opened dynamic library libcusolver.so.10\n",
      "2021-11-19 19:03:35.761746: I tensorflow/stream_executor/platform/default/dso_loader.cc:49] Successfully opened dynamic library libcusparse.so.10\n",
      "2021-11-19 19:03:35.761790: I tensorflow/stream_executor/platform/default/dso_loader.cc:49] Successfully opened dynamic library libcudnn.so.7\n",
      "2021-11-19 19:03:35.793663: I tensorflow/core/common_runtime/gpu/gpu_device.cc:1862] Adding visible gpu devices: 0, 1, 2, 3\n",
      "2021-11-19 19:03:35.793787: I tensorflow/stream_executor/platform/default/dso_loader.cc:49] Successfully opened dynamic library libcudart.so.10.1\n",
      "2021-11-19 19:03:35.821460: I tensorflow/core/common_runtime/gpu/gpu_device.cc:1862] Adding visible gpu devices: 0, 1, 2, 3\n",
      "2021-11-19 19:03:35.821583: I tensorflow/stream_executor/platform/default/dso_loader.cc:49] Successfully opened dynamic library libcudart.so.10.1\n",
      "2021-11-19 19:03:35.821907: I tensorflow/core/common_runtime/gpu/gpu_device.cc:1862] Adding visible gpu devices: 0, 1, 2, 3\n",
      "2021-11-19 19:03:35.822007: I tensorflow/stream_executor/platform/default/dso_loader.cc:49] Successfully opened dynamic library libcudart.so.10.1\n",
      "2021-11-19 19:03:38.425764: I tensorflow/core/common_runtime/gpu/gpu_device.cc:1261] Device interconnect StreamExecutor with strength 1 edge matrix:\n",
      "2021-11-19 19:03:38.425821: I tensorflow/core/common_runtime/gpu/gpu_device.cc:1267]      0 1 2 3 \n",
      "2021-11-19 19:03:38.425829: I tensorflow/core/common_runtime/gpu/gpu_device.cc:1280] 0:   N Y N N \n",
      "2021-11-19 19:03:38.425834: I tensorflow/core/common_runtime/gpu/gpu_device.cc:1280] 1:   Y N N N \n",
      "2021-11-19 19:03:38.425838: I tensorflow/core/common_runtime/gpu/gpu_device.cc:1280] 2:   N N N Y \n",
      "2021-11-19 19:03:38.425842: I tensorflow/core/common_runtime/gpu/gpu_device.cc:1280] 3:   N N Y N \n",
      "2021-11-19 19:03:38.435121: W tensorflow/core/common_runtime/gpu/gpu_bfc_allocator.cc:39] Overriding allow_growth setting because the TF_FORCE_GPU_ALLOW_GROWTH environment variable is set. Original config value was 0.\n",
      "2021-11-19 19:03:38.435206: I tensorflow/core/common_runtime/gpu/gpu_device.cc:1406] Created TensorFlow device (/job:localhost/replica:0/task:0/device:GPU:0 with 9622 MB memory) -> physical GPU (device: 0, name: TITAN X (Pascal), pci bus id: 0000:04:00.0, compute capability: 6.1)\n",
      "2021-11-19 19:03:38.438643: W tensorflow/core/common_runtime/gpu/gpu_bfc_allocator.cc:39] Overriding allow_growth setting because the TF_FORCE_GPU_ALLOW_GROWTH environment variable is set. Original config value was 0.\n",
      "2021-11-19 19:03:38.438677: I tensorflow/core/common_runtime/gpu/gpu_device.cc:1406] Created TensorFlow device (/job:localhost/replica:0/task:0/device:GPU:1 with 10282 MB memory) -> physical GPU (device: 1, name: TITAN X (Pascal), pci bus id: 0000:05:00.0, compute capability: 6.1)\n",
      "2021-11-19 19:03:38.441383: W tensorflow/core/common_runtime/gpu/gpu_bfc_allocator.cc:39] Overriding allow_growth setting because the TF_FORCE_GPU_ALLOW_GROWTH environment variable is set. Original config value was 0.\n",
      "2021-11-19 19:03:38.441416: I tensorflow/core/common_runtime/gpu/gpu_device.cc:1406] Created TensorFlow device (/job:localhost/replica:0/task:0/device:GPU:2 with 10282 MB memory) -> physical GPU (device: 2, name: TITAN X (Pascal), pci bus id: 0000:83:00.0, compute capability: 6.1)\n",
      "2021-11-19 19:03:38.441664: I tensorflow/core/common_runtime/gpu/gpu_device.cc:1261] Device interconnect StreamExecutor with strength 1 edge matrix:\n",
      "2021-11-19 19:03:38.441694: I tensorflow/core/common_runtime/gpu/gpu_device.cc:1267]      0 1 2 3 \n",
      "2021-11-19 19:03:38.441708: I tensorflow/core/common_runtime/gpu/gpu_device.cc:1280] 0:   N Y N N \n",
      "2021-11-19 19:03:38.441713: I tensorflow/core/common_runtime/gpu/gpu_device.cc:1280] 1:   Y N N N \n",
      "2021-11-19 19:03:38.441717: I tensorflow/core/common_runtime/gpu/gpu_device.cc:1280] 2:   N N N Y \n",
      "2021-11-19 19:03:38.441721: I tensorflow/core/common_runtime/gpu/gpu_device.cc:1280] 3:   N N Y N \n",
      "2021-11-19 19:03:38.446307: W tensorflow/core/common_runtime/gpu/gpu_bfc_allocator.cc:39] Overriding allow_growth setting because the TF_FORCE_GPU_ALLOW_GROWTH environment variable is set. Original config value was 0.\n",
      "2021-11-19 19:03:38.446341: I tensorflow/core/common_runtime/gpu/gpu_device.cc:1406] Created TensorFlow device (/job:localhost/replica:0/task:0/device:GPU:3 with 10307 MB memory) -> physical GPU (device: 3, name: TITAN X (Pascal), pci bus id: 0000:84:00.0, compute capability: 6.1)\n",
      "2021-11-19 19:03:38.451872: I tensorflow/compiler/xla/service/service.cc:168] XLA service 0x55a989cc5850 initialized for platform CUDA (this does not guarantee that XLA will be used). Devices:\n",
      "2021-11-19 19:03:38.451890: I tensorflow/compiler/xla/service/service.cc:176]   StreamExecutor device (0): TITAN X (Pascal), Compute Capability 6.1\n",
      "2021-11-19 19:03:38.451896: I tensorflow/compiler/xla/service/service.cc:176]   StreamExecutor device (1): TITAN X (Pascal), Compute Capability 6.1\n",
      "2021-11-19 19:03:38.451900: I tensorflow/compiler/xla/service/service.cc:176]   StreamExecutor device (2): TITAN X (Pascal), Compute Capability 6.1\n",
      "2021-11-19 19:03:38.451905: I tensorflow/compiler/xla/service/service.cc:176]   StreamExecutor device (3): TITAN X (Pascal), Compute Capability 6.1\n",
      "2021-11-19 19:03:38.453198: W tensorflow/core/common_runtime/gpu/gpu_bfc_allocator.cc:39] Overriding allow_growth setting because the TF_FORCE_GPU_ALLOW_GROWTH environment variable is set. Original config value was 0.\n",
      "2021-11-19 19:03:38.453268: I tensorflow/core/common_runtime/gpu/gpu_device.cc:1406] Created TensorFlow device (/job:localhost/replica:0/task:0/device:GPU:0 with 9622 MB memory) -> physical GPU (device: 0, name: TITAN X (Pascal), pci bus id: 0000:04:00.0, compute capability: 6.1)\n",
      "2021-11-19 19:03:38.456783: W tensorflow/core/common_runtime/gpu/gpu_bfc_allocator.cc:39] Overriding allow_growth setting because the TF_FORCE_GPU_ALLOW_GROWTH environment variable is set. Original config value was 0.\n",
      "2021-11-19 19:03:38.456812: I tensorflow/core/common_runtime/gpu/gpu_device.cc:1406] Created TensorFlow device (/job:localhost/replica:0/task:0/device:GPU:1 with 10282 MB memory) -> physical GPU (device: 1, name: TITAN X (Pascal), pci bus id: 0000:05:00.0, compute capability: 6.1)\n",
      "2021-11-19 19:03:38.462789: W tensorflow/core/common_runtime/gpu/gpu_bfc_allocator.cc:39] Overriding allow_growth setting because the TF_FORCE_GPU_ALLOW_GROWTH environment variable is set. Original config value was 0.\n",
      "2021-11-19 19:03:38.462850: I tensorflow/core/common_runtime/gpu/gpu_device.cc:1406] Created TensorFlow device (/job:localhost/replica:0/task:0/device:GPU:2 with 10282 MB memory) -> physical GPU (device: 2, name: TITAN X (Pascal), pci bus id: 0000:83:00.0, compute capability: 6.1)\n",
      "2021-11-19 19:03:38.485159: W tensorflow/core/common_runtime/gpu/gpu_bfc_allocator.cc:39] Overriding allow_growth setting because the TF_FORCE_GPU_ALLOW_GROWTH environment variable is set. Original config value was 0.\n",
      "2021-11-19 19:03:38.485202: I tensorflow/core/common_runtime/gpu/gpu_device.cc:1406] Created TensorFlow device (/job:localhost/replica:0/task:0/device:GPU:3 with 10297 MB memory) -> physical GPU (device: 3, name: TITAN X (Pascal), pci bus id: 0000:84:00.0, compute capability: 6.1)\n",
      "2021-11-19 19:03:38.492797: I tensorflow/compiler/xla/service/service.cc:168] XLA service 0x558e59d74a50 initialized for platform CUDA (this does not guarantee that XLA will be used). Devices:\n",
      "2021-11-19 19:03:38.492824: I tensorflow/compiler/xla/service/service.cc:176]   StreamExecutor device (0): TITAN X (Pascal), Compute Capability 6.1\n",
      "2021-11-19 19:03:38.492833: I tensorflow/compiler/xla/service/service.cc:176]   StreamExecutor device (1): TITAN X (Pascal), Compute Capability 6.1\n",
      "2021-11-19 19:03:38.492841: I tensorflow/compiler/xla/service/service.cc:176]   StreamExecutor device (2): TITAN X (Pascal), Compute Capability 6.1\n",
      "2021-11-19 19:03:38.492847: I tensorflow/compiler/xla/service/service.cc:176]   StreamExecutor device (3): TITAN X (Pascal), Compute Capability 6.1\n",
      "2021-11-19 19:03:38.497116: I tensorflow/core/common_runtime/gpu/gpu_device.cc:1261] Device interconnect StreamExecutor with strength 1 edge matrix:\n",
      "2021-11-19 19:03:38.497188: I tensorflow/core/common_runtime/gpu/gpu_device.cc:1267]      0 1 2 3 \n",
      "2021-11-19 19:03:38.497196: I tensorflow/core/common_runtime/gpu/gpu_device.cc:1280] 0:   N Y N N \n",
      "2021-11-19 19:03:38.497201: I tensorflow/core/common_runtime/gpu/gpu_device.cc:1280] 1:   Y N N N \n",
      "2021-11-19 19:03:38.497205: I tensorflow/core/common_runtime/gpu/gpu_device.cc:1280] 2:   N N N Y \n",
      "2021-11-19 19:03:38.497209: I tensorflow/core/common_runtime/gpu/gpu_device.cc:1280] 3:   N N Y N \n",
      "2021-11-19 19:03:38.518340: W tensorflow/core/common_runtime/gpu/gpu_bfc_allocator.cc:39] Overriding allow_growth setting because the TF_FORCE_GPU_ALLOW_GROWTH environment variable is set. Original config value was 0.\n",
      "2021-11-19 19:03:38.518433: I tensorflow/core/common_runtime/gpu/gpu_device.cc:1406] Created TensorFlow device (/job:localhost/replica:0/task:0/device:GPU:0 with 9617 MB memory) -> physical GPU (device: 0, name: TITAN X (Pascal), pci bus id: 0000:04:00.0, compute capability: 6.1)\n",
      "2021-11-19 19:03:38.522224: W tensorflow/core/common_runtime/gpu/gpu_bfc_allocator.cc:39] Overriding allow_growth setting because the TF_FORCE_GPU_ALLOW_GROWTH environment variable is set. Original config value was 0.\n",
      "2021-11-19 19:03:38.522256: I tensorflow/core/common_runtime/gpu/gpu_device.cc:1406] Created TensorFlow device (/job:localhost/replica:0/task:0/device:GPU:1 with 10279 MB memory) -> physical GPU (device: 1, name: TITAN X (Pascal), pci bus id: 0000:05:00.0, compute capability: 6.1)\n",
      "2021-11-19 19:03:38.525557: W tensorflow/core/common_runtime/gpu/gpu_bfc_allocator.cc:39] Overriding allow_growth setting because the TF_FORCE_GPU_ALLOW_GROWTH environment variable is set. Original config value was 0.\n",
      "2021-11-19 19:03:38.525598: I tensorflow/core/common_runtime/gpu/gpu_device.cc:1406] Created TensorFlow device (/job:localhost/replica:0/task:0/device:GPU:2 with 10279 MB memory) -> physical GPU (device: 2, name: TITAN X (Pascal), pci bus id: 0000:83:00.0, compute capability: 6.1)\n",
      "2021-11-19 19:03:38.529248: W tensorflow/core/common_runtime/gpu/gpu_bfc_allocator.cc:39] Overriding allow_growth setting because the TF_FORCE_GPU_ALLOW_GROWTH environment variable is set. Original config value was 0.\n",
      "2021-11-19 19:03:38.529277: I tensorflow/core/common_runtime/gpu/gpu_device.cc:1406] Created TensorFlow device (/job:localhost/replica:0/task:0/device:GPU:3 with 10284 MB memory) -> physical GPU (device: 3, name: TITAN X (Pascal), pci bus id: 0000:84:00.0, compute capability: 6.1)\n",
      "2021-11-19 19:03:38.531860: I tensorflow/core/common_runtime/gpu/gpu_device.cc:1261] Device interconnect StreamExecutor with strength 1 edge matrix:\n",
      "2021-11-19 19:03:38.531905: I tensorflow/core/common_runtime/gpu/gpu_device.cc:1267]      0 1 2 3 \n",
      "2021-11-19 19:03:38.531914: I tensorflow/core/common_runtime/gpu/gpu_device.cc:1280] 0:   N Y N N \n",
      "2021-11-19 19:03:38.531919: I tensorflow/core/common_runtime/gpu/gpu_device.cc:1280] 1:   Y N N N \n",
      "2021-11-19 19:03:38.531923: I tensorflow/core/common_runtime/gpu/gpu_device.cc:1280] 2:   N N N Y \n",
      "2021-11-19 19:03:38.531928: I tensorflow/core/common_runtime/gpu/gpu_device.cc:1280] 3:   N N Y N \n",
      "2021-11-19 19:03:38.535935: I tensorflow/compiler/xla/service/service.cc:168] XLA service 0x55879c494cb0 initialized for platform CUDA (this does not guarantee that XLA will be used). Devices:\n",
      "2021-11-19 19:03:38.535955: I tensorflow/compiler/xla/service/service.cc:176]   StreamExecutor device (0): TITAN X (Pascal), Compute Capability 6.1\n",
      "2021-11-19 19:03:38.535962: I tensorflow/compiler/xla/service/service.cc:176]   StreamExecutor device (1): TITAN X (Pascal), Compute Capability 6.1\n",
      "2021-11-19 19:03:38.535967: I tensorflow/compiler/xla/service/service.cc:176]   StreamExecutor device (2): TITAN X (Pascal), Compute Capability 6.1\n",
      "2021-11-19 19:03:38.535972: I tensorflow/compiler/xla/service/service.cc:176]   StreamExecutor device (3): TITAN X (Pascal), Compute Capability 6.1\n",
      "2021-11-19 19:03:38.547493: W tensorflow/core/common_runtime/gpu/gpu_bfc_allocator.cc:39] Overriding allow_growth setting because the TF_FORCE_GPU_ALLOW_GROWTH environment variable is set. Original config value was 0.\n",
      "2021-11-19 19:03:38.547620: I tensorflow/core/common_runtime/gpu/gpu_device.cc:1406] Created TensorFlow device (/job:localhost/replica:0/task:0/device:GPU:0 with 9615 MB memory) -> physical GPU (device: 0, name: TITAN X (Pascal), pci bus id: 0000:04:00.0, compute capability: 6.1)\n",
      "2021-11-19 19:03:38.554289: W tensorflow/core/common_runtime/gpu/gpu_bfc_allocator.cc:39] Overriding allow_growth setting because the TF_FORCE_GPU_ALLOW_GROWTH environment variable is set. Original config value was 0.\n",
      "2021-11-19 19:03:38.554320: I tensorflow/core/common_runtime/gpu/gpu_device.cc:1406] Created TensorFlow device (/job:localhost/replica:0/task:0/device:GPU:1 with 10279 MB memory) -> physical GPU (device: 1, name: TITAN X (Pascal), pci bus id: 0000:05:00.0, compute capability: 6.1)\n",
      "2021-11-19 19:03:38.557644: W tensorflow/core/common_runtime/gpu/gpu_bfc_allocator.cc:39] Overriding allow_growth setting because the TF_FORCE_GPU_ALLOW_GROWTH environment variable is set. Original config value was 0.\n",
      "2021-11-19 19:03:38.557674: I tensorflow/core/common_runtime/gpu/gpu_device.cc:1406] Created TensorFlow device (/job:localhost/replica:0/task:0/device:GPU:2 with 10279 MB memory) -> physical GPU (device: 2, name: TITAN X (Pascal), pci bus id: 0000:83:00.0, compute capability: 6.1)\n",
      "2021-11-19 19:03:38.561318: W tensorflow/core/common_runtime/gpu/gpu_bfc_allocator.cc:39] Overriding allow_growth setting because the TF_FORCE_GPU_ALLOW_GROWTH environment variable is set. Original config value was 0.\n",
      "2021-11-19 19:03:38.561347: I tensorflow/core/common_runtime/gpu/gpu_device.cc:1406] Created TensorFlow device (/job:localhost/replica:0/task:0/device:GPU:3 with 10279 MB memory) -> physical GPU (device: 3, name: TITAN X (Pascal), pci bus id: 0000:84:00.0, compute capability: 6.1)\n",
      "2021-11-19 19:03:38.568042: I tensorflow/compiler/xla/service/service.cc:168] XLA service 0x5568370ae090 initialized for platform CUDA (this does not guarantee that XLA will be used). Devices:\n",
      "2021-11-19 19:03:38.568063: I tensorflow/compiler/xla/service/service.cc:176]   StreamExecutor device (0): TITAN X (Pascal), Compute Capability 6.1\n",
      "2021-11-19 19:03:38.568070: I tensorflow/compiler/xla/service/service.cc:176]   StreamExecutor device (1): TITAN X (Pascal), Compute Capability 6.1\n",
      "2021-11-19 19:03:38.568075: I tensorflow/compiler/xla/service/service.cc:176]   StreamExecutor device (2): TITAN X (Pascal), Compute Capability 6.1\n",
      "2021-11-19 19:03:38.568080: I tensorflow/compiler/xla/service/service.cc:176]   StreamExecutor device (3): TITAN X (Pascal), Compute Capability 6.1\n",
      "2021-11-19 19:03:39.341486: I tensorflow/compiler/mlir/mlir_graph_optimization_pass.cc:116] None of the MLIR optimization passes are enabled (registered 2)\n",
      "2021-11-19 19:03:39.410279: I tensorflow/compiler/mlir/mlir_graph_optimization_pass.cc:116] None of the MLIR optimization passes are enabled (registered 2)\n",
      "2021-11-19 19:03:39.417303: I tensorflow/compiler/mlir/mlir_graph_optimization_pass.cc:116] None of the MLIR optimization passes are enabled (registered 2)\n",
      "2021-11-19 19:03:39.425402: I tensorflow/compiler/mlir/mlir_graph_optimization_pass.cc:116] None of the MLIR optimization passes are enabled (registered 2)\n",
      "2021-11-19 19:03:43.452535: I tensorflow/stream_executor/platform/default/dso_loader.cc:49] Successfully opened dynamic library libcublas.so.10\n",
      "2021-11-19 19:03:43.456691: I tensorflow/stream_executor/platform/default/dso_loader.cc:49] Successfully opened dynamic library libcublas.so.10\n",
      "2021-11-19 19:03:43.533790: I tensorflow/stream_executor/platform/default/dso_loader.cc:49] Successfully opened dynamic library libcublas.so.10\n",
      "2021-11-19 19:03:43.595090: I tensorflow/stream_executor/platform/default/dso_loader.cc:49] Successfully opened dynamic library libcublas.so.10\n",
      "2021-11-19 19:03:43.754653: I tensorflow/stream_executor/platform/default/dso_loader.cc:49] Successfully opened dynamic library libcudnn.so.7\n",
      "2021-11-19 19:03:43.768779: I tensorflow/stream_executor/platform/default/dso_loader.cc:49] Successfully opened dynamic library libcudnn.so.7\n",
      "2021-11-19 19:03:43.835705: I tensorflow/stream_executor/platform/default/dso_loader.cc:49] Successfully opened dynamic library libcudnn.so.7\n",
      "2021-11-19 19:03:43.945367: I tensorflow/stream_executor/platform/default/dso_loader.cc:49] Successfully opened dynamic library libcudnn.so.7\n"
     ]
    },
    {
     "name": "stdout",
     "output_type": "stream",
     "text": [
      "Best: 0.670431 using {'learn_rate': 0.0069}\n",
      "0.669691 (0.002577) with: {'learn_rate': 0.0066}\n",
      "0.669203 (0.001333) with: {'learn_rate': 0.0067}\n",
      "0.670020 (0.001471) with: {'learn_rate': 0.0068}\n",
      "0.670431 (0.002477) with: {'learn_rate': 0.0069}\n",
      "0.668304 (0.002561) with: {'learn_rate': 0.0071}\n",
      "0.668602 (0.002011) with: {'learn_rate': 0.0072}\n"
     ]
    }
   ],
   "source": [
    "  # create model\n",
    "model = KerasClassifier(build_fn=create_model, epochs=2, batch_size=256, verbose=0)\n",
    "# define the grid search parameters\n",
    "learn_rate = [66e-4,67e-4, 68e-4,69e-4,71e-4,72e-4]\n",
    "\n",
    "param_grid = dict(learn_rate=learn_rate)\n",
    "grid = GridSearchCV(estimator=model, param_grid=param_grid, n_jobs=4)\n",
    "grid_result = grid.fit(X_train_rnn, y_train)\n",
    "# summarize results\n",
    "print(\"Best: %f using %s\" % (grid_result.best_score_, grid_result.best_params_))\n",
    "means = grid_result.cv_results_['mean_test_score']\n",
    "stds = grid_result.cv_results_['std_test_score']\n",
    "params = grid_result.cv_results_['params']\n",
    "for mean, stdev, param in zip(means, stds, params):\n",
    "    print(\"%f (%f) with: %r\" % (mean, stdev, param))"
   ]
  },
  {
   "cell_type": "markdown",
   "metadata": {},
   "source": [
    "#### Clearly, the best learning rate is 0.007"
   ]
  },
  {
   "cell_type": "markdown",
   "metadata": {},
   "source": [
    "### Results: Before and After Hypertuning Learning Rate"
   ]
  },
  {
   "cell_type": "code",
   "execution_count": 83,
   "metadata": {},
   "outputs": [
    {
     "name": "stdout",
     "output_type": "stream",
     "text": [
      "Model: \"RNN_MODEL_WITH_TUNING\"\n",
      "_________________________________________________________________\n",
      "Layer (type)                 Output Shape              Param #   \n",
      "=================================================================\n",
      "embedding_14 (Embedding)     (None, 50, 32)            384000    \n",
      "_________________________________________________________________\n",
      "bidirectional_26 (Bidirectio (None, 50, 256)           164864    \n",
      "_________________________________________________________________\n",
      "bidirectional_27 (Bidirectio (None, 50, 128)           164352    \n",
      "_________________________________________________________________\n",
      "global_max_pooling1d_13 (Glo (None, 128)               0         \n",
      "_________________________________________________________________\n",
      "dropout_26 (Dropout)         (None, 128)               0         \n",
      "_________________________________________________________________\n",
      "dense_26 (Dense)             (None, 64)                8256      \n",
      "_________________________________________________________________\n",
      "dropout_27 (Dropout)         (None, 64)                0         \n",
      "_________________________________________________________________\n",
      "dense_27 (Dense)             (None, 26)                1690      \n",
      "=================================================================\n",
      "Total params: 723,162\n",
      "Trainable params: 723,162\n",
      "Non-trainable params: 0\n",
      "_________________________________________________________________\n"
     ]
    },
    {
     "data": {
      "text/plain": [
       "<tf.Variable 'learning_rate:0' shape=() dtype=float32, numpy=0.007>"
      ]
     },
     "execution_count": 83,
     "metadata": {},
     "output_type": "execute_result"
    }
   ],
   "source": [
    "model_after_tuning = Sequential(name=\"RNN_MODEL_WITH_TUNING\")\n",
    "model_after_tuning.add(Embedding(vocab_size, embed_size, input_length=maxlen))\n",
    "model_after_tuning.add(Bidirectional(LSTM(128, return_sequences=True))) \n",
    "model_after_tuning.add(Bidirectional(LSTM(64, return_sequences=True)))\n",
    "model_after_tuning.add(GlobalMaxPooling1D()) #Pooling Layer decreases sensitivity to features, thereby creating more generalised data for better test results.\n",
    "model_after_tuning.add(Dropout(0.25)) #Dropout layer nullifies certain random input values to generate a more general dataset and prevent the problem of overfitting.\n",
    "model_after_tuning.add(Dense(64))\n",
    "model_after_tuning.add(Dropout(0.25))\n",
    "model_after_tuning.add(Dense(26, activation='softmax')) #softmax is used as the activation function for multi-class classification problems where class membership is required on more than two class labels.\n",
    "model_after_tuning.summary()\n",
    "optimizer1 = tf.keras.optimizers.Adam(learning_rate=0.007)\n",
    "model_after_tuning.compile(loss='sparse_categorical_crossentropy', #Sparse Categorical Crossentropy Loss because data is not one-hot encoded\n",
    "              optimizer=optimizer1,\n",
    "              metrics=['accuracy']) "
   ]
  },
  {
   "cell_type": "code",
   "execution_count": 87,
   "metadata": {},
   "outputs": [
    {
     "name": "stdout",
     "output_type": "stream",
     "text": [
      "Epoch 1/20\n",
      "617/617 [==============================] - 19s 26ms/step - loss: 2.0702 - accuracy: 0.4329 - val_loss: 1.2094 - val_accuracy: 0.6687\n",
      "Epoch 2/20\n",
      "617/617 [==============================] - 15s 24ms/step - loss: 1.1543 - accuracy: 0.6815 - val_loss: 1.1382 - val_accuracy: 0.6799\n",
      "Epoch 3/20\n",
      "617/617 [==============================] - 15s 24ms/step - loss: 1.0011 - accuracy: 0.7175 - val_loss: 1.1453 - val_accuracy: 0.6802\n",
      "Epoch 4/20\n",
      "617/617 [==============================] - 15s 24ms/step - loss: 0.8761 - accuracy: 0.7511 - val_loss: 1.1620 - val_accuracy: 0.6790\n",
      "Epoch 5/20\n",
      "617/617 [==============================] - 15s 24ms/step - loss: 0.7755 - accuracy: 0.7770 - val_loss: 1.2036 - val_accuracy: 0.6755\n",
      "Epoch 6/20\n",
      "617/617 [==============================] - 15s 24ms/step - loss: 0.6926 - accuracy: 0.8012 - val_loss: 1.2634 - val_accuracy: 0.6704\n",
      "Epoch 7/20\n",
      "617/617 [==============================] - 15s 24ms/step - loss: 0.6184 - accuracy: 0.8199 - val_loss: 1.3522 - val_accuracy: 0.6623\n",
      "Epoch 8/20\n",
      "617/617 [==============================] - 15s 24ms/step - loss: 0.5480 - accuracy: 0.8404 - val_loss: 1.4007 - val_accuracy: 0.6622\n",
      "Epoch 9/20\n",
      "617/617 [==============================] - 15s 24ms/step - loss: 0.4963 - accuracy: 0.8550 - val_loss: 1.5269 - val_accuracy: 0.6554\n",
      "Epoch 10/20\n",
      "617/617 [==============================] - 15s 24ms/step - loss: 0.4572 - accuracy: 0.8661 - val_loss: 1.5626 - val_accuracy: 0.6518\n",
      "Epoch 11/20\n",
      "617/617 [==============================] - 15s 24ms/step - loss: 0.4165 - accuracy: 0.8774 - val_loss: 1.6230 - val_accuracy: 0.6531\n",
      "Epoch 12/20\n",
      "617/617 [==============================] - 15s 24ms/step - loss: 0.3917 - accuracy: 0.8837 - val_loss: 1.6857 - val_accuracy: 0.6468\n",
      "Epoch 13/20\n",
      "617/617 [==============================] - 15s 24ms/step - loss: 0.3666 - accuracy: 0.8919 - val_loss: 1.8434 - val_accuracy: 0.6451\n",
      "Epoch 14/20\n",
      "617/617 [==============================] - 15s 24ms/step - loss: 0.3440 - accuracy: 0.8977 - val_loss: 1.7889 - val_accuracy: 0.6475\n",
      "Epoch 15/20\n",
      "617/617 [==============================] - 15s 24ms/step - loss: 0.3264 - accuracy: 0.9037 - val_loss: 1.8957 - val_accuracy: 0.6459\n",
      "Epoch 16/20\n",
      "617/617 [==============================] - 15s 24ms/step - loss: 0.3139 - accuracy: 0.9055 - val_loss: 1.9822 - val_accuracy: 0.6432\n",
      "Epoch 17/20\n",
      "617/617 [==============================] - 15s 24ms/step - loss: 0.3069 - accuracy: 0.9093 - val_loss: 1.9602 - val_accuracy: 0.6401\n",
      "Epoch 18/20\n",
      "617/617 [==============================] - 15s 24ms/step - loss: 0.2942 - accuracy: 0.9117 - val_loss: 2.0447 - val_accuracy: 0.6424\n",
      "Epoch 19/20\n",
      "617/617 [==============================] - 15s 24ms/step - loss: 0.2864 - accuracy: 0.9151 - val_loss: 2.0612 - val_accuracy: 0.6382\n",
      "Epoch 20/20\n",
      "617/617 [==============================] - 15s 24ms/step - loss: 0.2689 - accuracy: 0.9192 - val_loss: 2.0604 - val_accuracy: 0.6398\n"
     ]
    }
   ],
   "source": [
    "model_after_tuning=create_model(learn_rate=0.007)\n",
    "checkpoint_filepath_tuning = './rnn/checkpoint_with_tuning'\n",
    "model_after_tuning_checkpoint_callback = tf.keras.callbacks.ModelCheckpoint(\n",
    "    filepath=checkpoint_filepath_tuning,\n",
    "    save_weights_only=True,\n",
    "    monitor='val_accuracy',\n",
    "    mode='max',\n",
    "    save_best_only=True)\n",
    "history_after_tuning=model_after_tuning.fit(X_train_rnn, \n",
    "          y_train, \n",
    "          batch_size=256, \n",
    "          validation_data=(X_test_rnn, y_test), \n",
    "          epochs=20,callbacks=[model_after_tuning_checkpoint_callback])"
   ]
  },
  {
   "cell_type": "code",
   "execution_count": 88,
   "metadata": {
    "colab": {
     "base_uri": "https://localhost:8080/"
    },
    "id": "qhBZa98R8LSQ",
    "outputId": "cb51c09b-e1a3-4c0b-be5d-f166ae63906c"
   },
   "outputs": [
    {
     "data": {
      "text/plain": [
       "<tensorflow.python.training.tracking.util.CheckpointLoadStatus at 0x7f99901a0be0>"
      ]
     },
     "execution_count": 88,
     "metadata": {},
     "output_type": "execute_result"
    }
   ],
   "source": [
    "model_before_tuning.load_weights(checkpoint_filepath_no_tuning)\n",
    "model_after_tuning.load_weights(checkpoint_filepath_tuning)\n"
   ]
  },
  {
   "cell_type": "code",
   "execution_count": 89,
   "metadata": {
    "colab": {
     "base_uri": "https://localhost:8080/"
    },
    "id": "yYnGEWCKDbJj",
    "outputId": "3b71f231-82f2-4e37-9728-f29bd04ea3cd",
    "scrolled": true
   },
   "outputs": [
    {
     "name": "stdout",
     "output_type": "stream",
     "text": [
      "618/618 [==============================] - 6s 10ms/step - loss: 1.2247 - accuracy: 0.6678\n",
      "618/618 [==============================] - 6s 10ms/step - loss: 1.1453 - accuracy: 0.6802\n"
     ]
    }
   ],
   "source": [
    "score_before_tuning=model_before_tuning.evaluate(X_test_rnn, y_test)\n",
    "score_after_tuning=model_after_tuning.evaluate(X_test_rnn, y_test)\n"
   ]
  },
  {
   "cell_type": "code",
   "execution_count": 61,
   "metadata": {
    "colab": {
     "base_uri": "https://localhost:8080/"
    },
    "id": "MP1TaEFMFwIX",
    "outputId": "d7266750-6315-482e-b505-f4708dda10c1"
   },
   "outputs": [
    {
     "name": "stdout",
     "output_type": "stream",
     "text": [
      "617/617 [==============================] - 7s 10ms/step - loss: 1.2382 - accuracy: 0.6615\n",
      "617/617 [==============================] - 7s 10ms/step - loss: 1.3497 - accuracy: 0.6576\n"
     ]
    }
   ],
   "source": [
    "# Tokenize data\n",
    "X_valid_rnn = tok.texts_to_sequences(X_valid)\n",
    "X_valid_rnn= pad_sequences(X_valid_rnn, maxlen=maxlen)\n",
    "val_score_no_tuning=model_before_tuning.evaluate(X_valid_rnn,y_valid)\n",
    "val_score_tuning=model_after_tuning.evaluate(X_valid_rnn,y_valid)"
   ]
  },
  {
   "cell_type": "code",
   "execution_count": 82,
   "metadata": {},
   "outputs": [
    {
     "data": {
      "text/plain": [
       "<tf.Variable 'learning_rate:0' shape=() dtype=float32, numpy=0.001>"
      ]
     },
     "execution_count": 82,
     "metadata": {},
     "output_type": "execute_result"
    }
   ],
   "source": [
    "#model_before_tuning.optimizer.learning_rate\n",
    "model_after_tuning.optimizer.learning_rate"
   ]
  },
  {
   "cell_type": "markdown",
   "metadata": {
    "id": "3kHnC1uTDbJm"
   },
   "source": [
    "#### Accuracy and Loss:"
   ]
  },
  {
   "cell_type": "code",
   "execution_count": null,
   "metadata": {
    "id": "v9ICkOyeDbJm"
   },
   "outputs": [],
   "source": [
    "# before tuning\n",
    "acc_before_tuning = history_before_tuning.history['accuracy']\n",
    "val_acc_before_tuning = history_before_tuning.history['val_accuracy']\n",
    "loss_before_tuning = history_before_tuning.history['loss']\n",
    "val_loss_before_tuning = history_before_tuning.history['val_loss']\n",
    "# after tuning\n",
    "acc_after_tuning = history_after_tuning.history['accuracy']\n",
    "val_acc_after_tuning = history_after_tuning.history['val_accuracy']\n",
    "loss_after_tuning = history_after_tuning.history['loss']\n",
    "val_loss_after_tuning = history_after_tuning.history['val_loss']\n",
    "epochs = range(1, len(acc) + 1)\n",
    "\n",
    "plt.title('Training and validation accuracy ')\n",
    "plt.plot(epochs, acc_before_tuning, 'red', label='Training acc bef tuning')\n",
    "plt.plot(epochs, val_acc_before_tuning, 'blue', label='Validation acc bef tuning')\n",
    "plt.plot(epochs, acc_after_tuning, '--', label='Training acc after tuning')\n",
    "plt.plot(epochs, val_acc_after_tuning, '--', label='Validation acc after tuning')\n",
    "plt.legend()\n",
    "\n",
    "plt.figure()\n",
    "plt.title('Training and validation loss')\n",
    "plt.plot(epochs, loss_before_tuning, 'red', label='Training loss before tuning')\n",
    "plt.plot(epochs, val_loss_before_tuning, 'blue', label='Validation loss before tuning')\n",
    "plt.plot(epochs, loss_after_tuning, 'red', label='Training loss after tuning')\n",
    "plt.plot(epochs, val_loss_after_tuning, 'blue', label='Validation loss after tuning')\n",
    "plt.legend()\n",
    "\n",
    "plt.show()"
   ]
  },
  {
   "cell_type": "code",
   "execution_count": 62,
   "metadata": {
    "colab": {
     "base_uri": "https://localhost:8080/"
    },
    "id": "5nEbraG64LYh",
    "outputId": "50cebb06-ff82-4e6c-ade4-1d570a54555d"
   },
   "outputs": [
    {
     "name": "stdout",
     "output_type": "stream",
     "text": [
      "Accuracy before tuning is 0.6659407444922765\n",
      "Accuracy after tuning is 0.6618890858445176\n",
      "***** Eval results *****\n",
      "***** before tuning *****\n",
      "                     precision    recall  f1-score   support\n",
      "\n",
      "     ARTS & CULTURE       0.53      0.40      0.46       369\n",
      "BUSINESS & FINANCES       0.54      0.53      0.54       756\n",
      "             COMEDY       0.52      0.43      0.47       496\n",
      "              CRIME       0.51      0.48      0.50       341\n",
      "            DIVORCE       0.87      0.71      0.78       338\n",
      "          EDUCATION       0.57      0.35      0.43       209\n",
      "      ENTERTAINMENT       0.59      0.73      0.66      1592\n",
      "        ENVIRONMENT       0.48      0.49      0.48       368\n",
      "       FOOD & DRINK       0.80      0.77      0.79       858\n",
      "      GROUPS VOICES       0.65      0.55      0.60      1232\n",
      "      HOME & LIVING       0.78      0.64      0.71       409\n",
      "             IMPACT       0.36      0.23      0.28       327\n",
      "              MEDIA       0.51      0.40      0.45       287\n",
      "      MISCELLANEOUS       0.24      0.09      0.13       279\n",
      "          PARENTING       0.67      0.75      0.71      1245\n",
      "           POLITICS       0.74      0.82      0.78      3235\n",
      "           RELIGION       0.62      0.40      0.48       234\n",
      "     SCIENCE & TECH       0.53      0.43      0.47       380\n",
      "             SPORTS       0.68      0.68      0.68       465\n",
      "     STYLE & BEAUTY       0.78      0.80      0.79      1176\n",
      "             TRAVEL       0.72      0.75      0.74       964\n",
      "           WEDDINGS       0.78      0.82      0.80       380\n",
      "         WEIRD NEWS       0.35      0.22      0.27       254\n",
      "           WELLNESS       0.68      0.83      0.75      2408\n",
      "              WOMEN       0.29      0.21      0.24       310\n",
      "         WORLD NEWS       0.74      0.58      0.65       833\n",
      "\n",
      "           accuracy                           0.67     19745\n",
      "          macro avg       0.60      0.54      0.56     19745\n",
      "       weighted avg       0.66      0.67      0.66     19745\n",
      "\n",
      "***** After tuning *****\n",
      "                     precision    recall  f1-score   support\n",
      "\n",
      "     ARTS & CULTURE       0.45      0.46      0.45       369\n",
      "BUSINESS & FINANCES       0.53      0.50      0.51       756\n",
      "             COMEDY       0.54      0.43      0.48       496\n",
      "              CRIME       0.54      0.50      0.52       341\n",
      "            DIVORCE       0.83      0.72      0.77       338\n",
      "          EDUCATION       0.52      0.42      0.46       209\n",
      "      ENTERTAINMENT       0.65      0.66      0.65      1592\n",
      "        ENVIRONMENT       0.46      0.48      0.47       368\n",
      "       FOOD & DRINK       0.69      0.80      0.74       858\n",
      "      GROUPS VOICES       0.65      0.55      0.59      1232\n",
      "      HOME & LIVING       0.71      0.68      0.69       409\n",
      "             IMPACT       0.36      0.26      0.30       327\n",
      "              MEDIA       0.51      0.38      0.43       287\n",
      "      MISCELLANEOUS       0.37      0.16      0.22       279\n",
      "          PARENTING       0.68      0.74      0.71      1245\n",
      "           POLITICS       0.74      0.81      0.77      3235\n",
      "           RELIGION       0.57      0.41      0.47       234\n",
      "     SCIENCE & TECH       0.55      0.44      0.49       380\n",
      "             SPORTS       0.71      0.64      0.68       465\n",
      "     STYLE & BEAUTY       0.79      0.79      0.79      1176\n",
      "             TRAVEL       0.70      0.76      0.73       964\n",
      "           WEDDINGS       0.81      0.80      0.80       380\n",
      "         WEIRD NEWS       0.36      0.29      0.32       254\n",
      "           WELLNESS       0.69      0.81      0.74      2408\n",
      "              WOMEN       0.33      0.24      0.28       310\n",
      "         WORLD NEWS       0.67      0.66      0.66       833\n",
      "\n",
      "           accuracy                           0.66     19745\n",
      "          macro avg       0.59      0.55      0.57     19745\n",
      "       weighted avg       0.65      0.66      0.65     19745\n",
      "\n"
     ]
    },
    {
     "ename": "NameError",
     "evalue": "name 'report' is not defined",
     "output_type": "error",
     "traceback": [
      "\u001b[0;31m---------------------------------------------------------------------------\u001b[0m",
      "\u001b[0;31mNameError\u001b[0m                                 Traceback (most recent call last)",
      "\u001b[0;32m/tmp/ipykernel_13185/192995903.py\u001b[0m in \u001b[0;36m<module>\u001b[0;34m\u001b[0m\n\u001b[1;32m     31\u001b[0m     \u001b[0mprint\u001b[0m\u001b[0;34m(\u001b[0m\u001b[0mreport_after_tuning\u001b[0m\u001b[0;34m)\u001b[0m\u001b[0;34m\u001b[0m\u001b[0;34m\u001b[0m\u001b[0m\n\u001b[1;32m     32\u001b[0m     \u001b[0mwriter\u001b[0m\u001b[0;34m.\u001b[0m\u001b[0mwrite\u001b[0m\u001b[0;34m(\u001b[0m\u001b[0;34m\"\\n\\n\"\u001b[0m\u001b[0;34m)\u001b[0m\u001b[0;34m\u001b[0m\u001b[0;34m\u001b[0m\u001b[0m\n\u001b[0;32m---> 33\u001b[0;31m     \u001b[0mwriter\u001b[0m\u001b[0;34m.\u001b[0m\u001b[0mwrite\u001b[0m\u001b[0;34m(\u001b[0m\u001b[0mreport\u001b[0m\u001b[0;34m)\u001b[0m\u001b[0;34m\u001b[0m\u001b[0;34m\u001b[0m\u001b[0m\n\u001b[0m",
      "\u001b[0;31mNameError\u001b[0m: name 'report' is not defined"
     ]
    }
   ],
   "source": [
    "from sklearn.metrics import classification_report\n",
    "# Predictions:\n",
    "pred_before_tuning = model_before_tuning.predict(X_test_rnn) \n",
    "pred_before_tuning = np.argmax(pred_before_tuning, axis = 1) \n",
    "pred_after_tuning = model_after_tuning.predict(X_test_rnn) \n",
    "pred_after_tuning = np.argmax(pred_after_tuning, axis = 1) \n",
    "#mapping the encoded output to actual categories\n",
    "predicted_category_before_tuning = [int_category[x] for x in pred_before_tuning]\n",
    "predicted_category_after_tuning = [int_category[x] for x in pred_after_tuning]\n",
    "true_category = [int_category[x] for x in y_test]\n",
    "#accuracy\n",
    "result_df_rnn_after_tuning = pd.DataFrame({'description':tok.sequences_to_texts(X_test_rnn),'true_category':true_category, 'predicted_category':predicted_category_after_tuning})\n",
    "print(f\"Accuracy before tuning is {sklearn.metrics.accuracy_score(result_df_rnn['true_category'], result_df_rnn['predicted_category'])}\")\n",
    "print(f\"Accuracy after tuning is {sklearn.metrics.accuracy_score(result_df_rnn_after_tuning['true_category'], result_df_rnn_after_tuning['predicted_category'])}\")\n",
    "#Report\n",
    "report_before_tuning = classification_report(y_pred=np.array(predicted_category_before_tuning),y_true=np.array(true_category))\n",
    "report_after_tuning = classification_report(y_pred=np.array(predicted_category_after_tuning),y_true=np.array(true_category))\n",
    "#result = {'eval_loss': val_loss,\n",
    "                 # 'eval_accuracy': accuracy,\n",
    "                  #'loss': loss}\n",
    "# Save the report into file\n",
    "output_eval_file = os.path.join('./rnn', \"eval_results.txt\")\n",
    "with open(output_eval_file, \"w\") as writer:\n",
    "    print(\"***** Eval results *****\")\n",
    "   # for key in sorted(result.keys()):\n",
    "     #   print(\"  %s = %s\"%(key, str(result[key])))\n",
    "      #  writer.write(\"%s = %s\\n\" % (key, str(result[key])))\n",
    "    print(\"***** before tuning *****\")    \n",
    "    print(report_before_tuning)\n",
    "    print(\"***** After tuning *****\")    \n",
    "    print(report_after_tuning)\n",
    "    writer.write(\"\\n\\n\")  \n",
    "    writer.write(report)"
   ]
  },
  {
   "cell_type": "markdown",
   "metadata": {
    "id": "inxaSusZDbJm"
   },
   "source": [
    "### BERT classification:"
   ]
  },
  {
   "cell_type": "markdown",
   "metadata": {
    "id": "2SW7PhhEDbJm"
   },
   "source": [
    "We will use the HuggingFace tokenizer for bert to tokenize the given news descriptions."
   ]
  },
  {
   "cell_type": "code",
   "execution_count": null,
   "metadata": {
    "colab": {
     "base_uri": "https://localhost:8080/"
    },
    "id": "I2F1CAoWDbJm",
    "outputId": "a077bd8f-bc66-4b10-fd04-71b6d13b94e1"
   },
   "outputs": [],
   "source": [
    "import tensorflow as tf\n",
    "from tensorflow.keras.preprocessing.text import Tokenizer\n",
    "from tensorflow.keras.preprocessing.sequence import pad_sequences\n",
    "import tensorflow_hub as hub\n",
    "!pip install tensorflow_text\n",
    "import tensorflow_text as text"
   ]
  },
  {
   "cell_type": "code",
   "execution_count": null,
   "metadata": {
    "colab": {
     "base_uri": "https://localhost:8080/",
     "height": 811,
     "referenced_widgets": [
      "9f2e8f5f7e784ec8b4c76c9ec9a210f5",
      "3ee3377c2b0e4bad99b95434adb6ebde",
      "cf1634c7b529422da63651f06de86e5f",
      "bb0f3ca3d62d4a3e9d535f7c3d9cbc0f",
      "139cacaafea941a885548f0273c91e5f",
      "937ae311d1f541158337804445021a1a",
      "edc3cc095d97418b940be52037a34989",
      "67861c7b09a240c8b99a96376a815d06",
      "a1a1e0a21c7d47f797dc4ee08ff8cc8a",
      "5e082b3a252d408683f560a8f8fa5051",
      "6c3f5c3fa61142c39252c47497c25b9c",
      "b90d07cac0fc423d8ad6be27dc02b508",
      "bc1c4d2bc2434859af2e23c12c953ddc",
      "22c25772e3664bbcb2f2290253e9723c",
      "8e0a828ebeb24aabb68943bd95442986",
      "77c22c8d79ed4795a8496146b6f84507",
      "ccd49891978141fe94ecd9825adbbb71",
      "0dead1f5d9534604af865c8fbb2e3921",
      "c41249f9cb4d40ce818029abdf02b7b8",
      "c5ea08e233434cb5a3ed2722e3898b6b",
      "47c72789b3ba4fd1a0eb2f3a0c271f2e",
      "98483c5b6c414f9090dc826a1fdd2e14",
      "28154f276542403c8285cf0c352db982",
      "5343a426b4ec4523869518214bb75227",
      "13c462269e9d49399fe4d5425978296a",
      "76d5afaf420843ae9fd40fab370063d9",
      "9ed801cd98044572a88067f6d722b788",
      "b22bd7c13f914bc09969f59f7410665e",
      "a80a25dbbc7449e3810ff619023382da",
      "d6bd8fbc4c73487092ce837afbe3d6ec",
      "bd61fa80f46b45a393c23be9ee50a578",
      "7de584a9dfeb4035aa9fc642d5e093b0",
      "047882c957a14bc398b1ec0c0116f17d",
      "aacd413f82c1426cb1ac8778467f19fb",
      "3d9234c7fd9e48d1a08f37fa32dbbdf8",
      "4d1802f1397a4df18cbd79d411835f67",
      "2fa09e6c17e14bb1a71ab6748ed49358",
      "4c443e2d975d48fca2ac32ba908a82a3",
      "1dde7f9458ee4cc0a632a9ac50ac4ec7",
      "91c3772c0d62413493055ab48767ec17",
      "720b7fd299b240628c9df173d37ab127",
      "8caf8495f811472ab6044fa484fe1bfb",
      "11429cd6d46145c7ad7f1617ac536236",
      "b8911266309f48f4a8956df52fd66115"
     ]
    },
    "id": "aSRLEfKFDbJn",
    "outputId": "7202723b-9249-4658-827e-a458e624c1b9"
   },
   "outputs": [],
   "source": [
    "!pip install transformers\n",
    "import transformers\n",
    "tokenizer = transformers.AutoTokenizer.from_pretrained(\"bert-base-cased\") #Tokenizer"
   ]
  },
  {
   "cell_type": "markdown",
   "metadata": {
    "id": "6GpwjAUtDbJn"
   },
   "source": [
    "We create the Bert model:"
   ]
  },
  {
   "cell_type": "markdown",
   "metadata": {
    "id": "k9Ol0McC38vv"
   },
   "source": [
    "We will use TPU for faster computations."
   ]
  },
  {
   "cell_type": "code",
   "execution_count": null,
   "metadata": {
    "colab": {
     "base_uri": "https://localhost:8080/"
    },
    "id": "1GEn7ZhwDbJq",
    "outputId": "9e0f070e-e9e2-4a15-cc1e-36006ab0db7d"
   },
   "outputs": [],
   "source": [
    "try:\n",
    " device_name = os.environ['COLAB_TPU_ADDR']\n",
    " TPU_ADDRESS = 'grpc://' + device_name\n",
    " print('Found TPU at: {}'.format(TPU_ADDRESS))\n",
    "except KeyError:\n",
    " print('TPU not found')"
   ]
  },
  {
   "cell_type": "code",
   "execution_count": null,
   "metadata": {
    "id": "XD-TROG0DbJn"
   },
   "outputs": [],
   "source": [
    "tfhub_handle_encoder = 'https://tfhub.dev/tensorflow/small_bert/bert_en_uncased_L-2_H-256_A-4/1'\n",
    "tfhub_handle_preprocess ='https://tfhub.dev/tensorflow/bert_en_uncased_preprocess/3'\n",
    "\n",
    "\n",
    "def build_classifier_model():\n",
    "  text_input = tf.keras.layers.Input(shape=(), dtype=tf.string, name='text')\n",
    "  preprocessing_layer = hub.KerasLayer(tfhub_handle_preprocess, name='preprocessing')\n",
    "  encoder_inputs = preprocessing_layer(text_input)\n",
    "  encoder = hub.KerasLayer(tfhub_handle_encoder, trainable=True, name='BERT_encoder')\n",
    "  outputs = encoder(encoder_inputs)\n",
    "  net = outputs['pooled_output']\n",
    "  net = tf.keras.layers.Dropout(0.1)(net)\n",
    "  net = tf.keras.layers.Dense(26, activation='softmax', name='classifier')(net)\n",
    "  return tf.keras.Model(text_input, net)"
   ]
  },
  {
   "cell_type": "code",
   "execution_count": null,
   "metadata": {
    "id": "qOme6n_WDbJn"
   },
   "outputs": [],
   "source": [
    "bert_model = build_classifier_model()"
   ]
  },
  {
   "cell_type": "code",
   "execution_count": null,
   "metadata": {
    "colab": {
     "base_uri": "https://localhost:8080/"
    },
    "id": "UD9TpxOvDbJo",
    "outputId": "ed6f7477-d0f4-4006-e354-e01aff11e74d"
   },
   "outputs": [],
   "source": [
    "bert_model.summary()"
   ]
  },
  {
   "cell_type": "markdown",
   "metadata": {
    "id": "tNCzJ-hNDbJo"
   },
   "source": [
    "We must preprocess the clean text before training:\n",
    "For this, we will use the preprocess model corresponding to the BERT model we have chosen."
   ]
  },
  {
   "cell_type": "code",
   "execution_count": null,
   "metadata": {
    "id": "4MNr5CpfDbJo"
   },
   "outputs": [],
   "source": [
    "bert_preprocess_model = hub.KerasLayer(tfhub_handle_preprocess)"
   ]
  },
  {
   "cell_type": "markdown",
   "metadata": {
    "id": "ur_nf4NUDbJo"
   },
   "source": [
    "Let's see an example:"
   ]
  },
  {
   "cell_type": "code",
   "execution_count": null,
   "metadata": {
    "colab": {
     "base_uri": "https://localhost:8080/"
    },
    "id": "P9gTvZZsDbJp",
    "outputId": "84a445cb-7f59-46d3-d255-2a5df9b01b93"
   },
   "outputs": [],
   "source": [
    "text_test = [X_train[0]]\n",
    "text_preprocessed = bert_preprocess_model(text_test)\n",
    "\n",
    "print(f'Keys       : {list(text_preprocessed.keys())}')\n",
    "print(f'Shape      : {text_preprocessed[\"input_word_ids\"].shape}')\n",
    "print(f'Word Ids   : {text_preprocessed[\"input_word_ids\"][0, :12]}')\n",
    "print(f'Input Mask : {text_preprocessed[\"input_mask\"][0, :12]}')\n",
    "print(f'Type Ids   : {text_preprocessed[\"input_type_ids\"][0, :12]}')"
   ]
  },
  {
   "cell_type": "code",
   "execution_count": null,
   "metadata": {
    "id": "8bbAqZjDH-4V"
   },
   "outputs": [],
   "source": [
    "# Use a tf optimizer rather than a Keras one for now\n",
    "bert_model.compile(loss='sparse_categorical_crossentropy', #Sparse Categorical Crossentropy Loss because data is not one-hot encoded\n",
    "              optimizer='adam', \n",
    "              metrics=['accuracy']) \n",
    "checkpoint_filepath = './gdrive/MyDrive/Colab Notebooks/bert/checkpoint'\n",
    "model_checkpoint_callback = tf.keras.callbacks.ModelCheckpoint(\n",
    "    filepath=checkpoint_filepath,\n",
    "    save_weights_only=True,\n",
    "    monitor='val_accuracy',\n",
    "    mode='max',\n",
    "    save_best_only=True)"
   ]
  },
  {
   "cell_type": "code",
   "execution_count": null,
   "metadata": {
    "colab": {
     "base_uri": "https://localhost:8080/"
    },
    "id": "WTlkjMeVDbJp",
    "outputId": "04159aae-b8dd-41ee-f549-e0483a34de30"
   },
   "outputs": [],
   "source": [
    "history_bert=bert_model.fit(X_train, \n",
    "          y_train, \n",
    "          batch_size=128, \n",
    "          validation_data=(X_test, y_test), \n",
    "          epochs=2,callbacks=[model_checkpoint_callback])\n",
    "bert_model.load_weights(checkpoint_filepath)"
   ]
  },
  {
   "cell_type": "markdown",
   "metadata": {
    "id": "H-zTKzCkZI5M"
   },
   "source": [
    "#### Accuracy and Loss:"
   ]
  },
  {
   "cell_type": "code",
   "execution_count": null,
   "metadata": {
    "colab": {
     "base_uri": "https://localhost:8080/",
     "height": 158
    },
    "id": "AqzfJkSuIdAV",
    "outputId": "74c0b249-c21c-4696-a205-f1fe5570d6b5"
   },
   "outputs": [],
   "source": [
    "history_bert.history\n",
    "acc = history_bert.history['accuracy']\n",
    "val_acc = history_bert.history['val_accuracy']\n",
    "loss = history_bert.history['loss']\n",
    "val_loss = history_bert.history['val_loss']\n",
    "epochs = range(1, len(acc) + 1)\n",
    "\n",
    "plt.title('Training and validation accuracy')\n",
    "plt.plot(epochs, acc, 'red', label='Training acc')\n",
    "plt.plot(epochs, val_acc, 'blue', label='Validation acc')\n",
    "plt.legend()\n",
    "\n",
    "plt.figure()\n",
    "plt.title('Training and validation loss')\n",
    "plt.plot(epochs, loss, 'red', label='Training loss')\n",
    "plt.plot(epochs, val_loss, 'blue', label='Validation loss')\n",
    "plt.legend()\n",
    "\n",
    "plt.show()"
   ]
  },
  {
   "cell_type": "code",
   "execution_count": null,
   "metadata": {
    "id": "FclzKuTBbOeA"
   },
   "outputs": [],
   "source": [
    "pred = bert_model.predict(X_test) \n",
    "pred = np.argmax(pred, axis = 1) \n",
    "predicted_category = [int_category[x] for x in pred]\n",
    "true_category = [int_category[x] for x in y_test]\n",
    "from sklearn.metrics import classification_report\n",
    "report = classification_report(y_pred=np.array(predicted_category),y_true=np.array(true_category))\n",
    "#result = {'eval_loss': val_loss,\n",
    "                 # 'eval_accuracy': accuracy,\n",
    "                  #'loss': loss}\n",
    "# Save the report into file\n",
    "output_eval_file = os.path.join('./gdrive/MyDrive/Colab Notebooks/bert', \"eval_results.txt\")\n",
    "with open(output_eval_file, \"w\") as writer:\n",
    "    print(\"***** Eval results *****\")\n",
    "   # for key in sorted(result.keys()):\n",
    "     #   print(\"  %s = %s\"%(key, str(result[key])))\n",
    "      #  writer.write(\"%s = %s\\n\" % (key, str(result[key])))\n",
    "        \n",
    "    print(report)\n",
    "    writer.write(\"\\n\\n\")  \n",
    "    writer.write(report)"
   ]
  },
  {
   "cell_type": "markdown",
   "metadata": {
    "id": "DKuPIWmzBhrF"
   },
   "source": [
    "### XLNet classification:"
   ]
  },
  {
   "cell_type": "markdown",
   "metadata": {
    "id": "fneGkPCABx3-"
   },
   "source": [
    "In the last few years, Google's Bert and recent transformer-based methods have taken the NLP landscape to a new level.<br>\n",
    "XLNet is a method developed by CMU. It is a generalised autoregressive pretraining method that outperforms BERT on sentiment analysis. Adding recurrence leads to a deeper understanding of the language context. <br>\n",
    "Reference: [XLNet Paper](https://arxiv.org/abs/1906.08237)"
   ]
  },
  {
   "cell_type": "markdown",
   "metadata": {
    "id": "Ed3MiUIcHnRx"
   },
   "source": [
    "#### Set Data into training embeddings:"
   ]
  },
  {
   "cell_type": "code",
   "execution_count": null,
   "metadata": {
    "colab": {
     "base_uri": "https://localhost:8080/"
    },
    "id": "HazWYZvrBmIX",
    "outputId": "5e38d271-1a02-4247-e68b-df3190ce7834"
   },
   "outputs": [],
   "source": [
    "!pip install sentencepiece"
   ]
  },
  {
   "cell_type": "code",
   "execution_count": null,
   "metadata": {
    "colab": {
     "base_uri": "https://localhost:8080/"
    },
    "id": "z1VvtojILM97",
    "outputId": "4f4f3110-bf6f-4d39-a920-ea29f25af32d"
   },
   "outputs": [],
   "source": [
    "print(listdir('./'))"
   ]
  },
  {
   "cell_type": "code",
   "execution_count": null,
   "metadata": {
    "colab": {
     "base_uri": "https://localhost:8080/"
    },
    "id": "4XU0FVrdLPeY",
    "outputId": "adb5b857-5e6d-412e-80a1-d14bdd594e50"
   },
   "outputs": [],
   "source": [
    "!pip install transformers\n",
    "from transformers import (XLNetConfig, XLNetForSequenceClassification, XLNetTokenizer)"
   ]
  },
  {
   "cell_type": "code",
   "execution_count": null,
   "metadata": {
    "id": "n8Ny1WE_NPs4"
   },
   "outputs": [],
   "source": [
    "vocabulary='./xlnet-base-cased-spiece.model'\n",
    "tokenizer = XLNetTokenizer(vocab_file=vocabulary,do_lower_case=False)"
   ]
  },
  {
   "cell_type": "markdown",
   "metadata": {
    "id": "MKCRtE7CNvKu"
   },
   "source": [
    "Set text input embedding:"
   ]
  },
  {
   "cell_type": "code",
   "execution_count": null,
   "metadata": {
    "id": "x8DILLvDBwaX"
   },
   "outputs": [],
   "source": [
    "max_len  = 50\n",
    "\n",
    "full_input_ids = []\n",
    "full_input_masks = []\n",
    "full_segment_ids = []\n",
    "\n",
    "SEG_ID_A   = 0\n",
    "SEG_ID_B   = 1\n",
    "SEG_ID_CLS = 2\n",
    "SEG_ID_SEP = 3\n",
    "SEG_ID_PAD = 4\n",
    "\n",
    "UNK_ID = tokenizer.encode(\"<unk>\")[0]\n",
    "CLS_ID = tokenizer.encode(\"<cls>\")[0]\n",
    "SEP_ID = tokenizer.encode(\"<sep>\")[0]\n",
    "MASK_ID = tokenizer.encode(\"<mask>\")[0]\n",
    "EOD_ID = tokenizer.encode(\"<eod>\")[0]\n",
    "\n",
    "for i,sentence in enumerate(X):\n",
    "    # Tokenize sentence to token id list\n",
    "    tokens_a = tokenizer.encode(sentence)\n",
    "    \n",
    "    # Trim the len of text\n",
    "    if(len(tokens_a)>max_len-2):\n",
    "        tokens_a = tokens_a[:max_len-2]\n",
    "        \n",
    "        \n",
    "    tokens = []\n",
    "    segment_ids = []\n",
    "    \n",
    "    for token in tokens_a:\n",
    "        tokens.append(token)\n",
    "        segment_ids.append(SEG_ID_A)\n",
    "        \n",
    "    # Add <sep> token \n",
    "    tokens.append(SEP_ID)\n",
    "    segment_ids.append(SEG_ID_A)\n",
    "    \n",
    "    \n",
    "    # Add <cls> token\n",
    "    tokens.append(CLS_ID)\n",
    "    segment_ids.append(SEG_ID_CLS)\n",
    "    \n",
    "    input_ids = tokens\n",
    "    \n",
    "    # The mask has 0 for real tokens and 1 for padding tokens. Only real\n",
    "    # tokens are attended to.\n",
    "    input_mask = [0] * len(input_ids)\n",
    "\n",
    "    # Zero-pad up to the sequence length at fornt\n",
    "    if len(input_ids) < max_len:\n",
    "        delta_len = max_len - len(input_ids)\n",
    "        input_ids = [0] * delta_len + input_ids\n",
    "        input_mask = [1] * delta_len + input_mask\n",
    "        segment_ids = [SEG_ID_PAD] * delta_len + segment_ids\n",
    "\n",
    "    assert len(input_ids) == max_len\n",
    "    assert len(input_mask) == max_len\n",
    "    assert len(segment_ids) == max_len\n",
    "    \n",
    "    full_input_ids.append(input_ids)\n",
    "    full_input_masks.append(input_mask)\n",
    "    full_segment_ids.append(segment_ids)\n",
    "    \n",
    "    if 3 > i:\n",
    "        print(\"No.:%d\"%(i))\n",
    "        print(\"sentence: %s\"%(sentence))\n",
    "        print(\"input_ids:%s\"%(input_ids))\n",
    "        print(\"attention_masks:%s\"%(input_mask))\n",
    "        print(\"segment_ids:%s\"%(segment_ids))\n",
    "        print(\"\\n\")"
   ]
  },
  {
   "cell_type": "markdown",
   "metadata": {
    "id": "TXFNlXGDR8bt"
   },
   "source": [
    "Split Data:"
   ]
  },
  {
   "cell_type": "code",
   "execution_count": null,
   "metadata": {
    "id": "yuKyx1nuJqF7"
   },
   "outputs": [],
   "source": [
    "tr_inputs, val_inputs, tr_tags, val_tags,tr_masks, val_masks,tr_segs, val_segs = train_test_split(full_input_ids, y.to_list(),full_input_masks,full_segment_ids, \n",
    "                                                            random_state=4, test_size=0.3)"
   ]
  },
  {
   "cell_type": "code",
   "execution_count": null,
   "metadata": {
    "colab": {
     "base_uri": "https://localhost:8080/",
     "height": 113,
     "referenced_widgets": [
      "9cf060a3f5e4426aae283bd0825424c5",
      "939038fdc8d44c42a612b63e162292c1",
      "ec84876420f24eccba5bef39d5eaeaae",
      "b3b66911d67d439e9456453131ca141c",
      "2ce2776554464dc097a2d0dfc018b228",
      "ac5f7bf215a942e4999ee1b007daa5b4",
      "f623932ccac240b2a1817c36f5b70b30",
      "10025eca89f7423287b9521426b43e0b",
      "0846c028e9994a5aaf54071b1fecf311",
      "08ae9991944248d493d038a180c97675",
      "17b741c1702f45d78491f3e96652cf21",
      "5a6e6fe21395461cb710d157eb62cba2",
      "47daa9ca268742fca5663d86993193ef",
      "f585401a715c4b79b9030ac642a1b58e",
      "fa325e2c9c9e43d09ac54a6f465ff9ca",
      "17cbc27e64fe4c8da8d8f852e38eeb75",
      "0fefa743257944dd96cc2dc1690099da",
      "cee4b802cf28492cb68a7725208eba3e",
      "a55e13549acf403da73af8c86ec37c37",
      "45c2cf19f55f486b8189cbfd025d5b4b",
      "de0c5e65d77d46b6bdc09a3b2d632148",
      "121f91af99c64ed9bab06679f2417f5e",
      "f861ea95f52047d59ffbbef118890c09",
      "2013c1df8ab446b5b187044e8761480c",
      "4c3e9b11f2f944538df5293d0f8670f0",
      "d9f569a6787b4a63ae9e2d11e5d0c604",
      "ca43e30729b34558a3ff7242bda28e1a",
      "61b33bb472d24c86a6a6e41fe8e5a642",
      "643650dd06f54823b18415d289099d50",
      "3a13e77b25a741a4ad480672ea1055c3",
      "409da61b243443ff8c72fdeff1ac6e1a",
      "18bbb0ba63564a49af007e17f7688727",
      "b9b183417b84421baf112fc4eb58f96c"
     ]
    },
    "id": "DQ2zgFaJOYpM",
    "outputId": "7837fd4a-edcb-4719-e1f1-6e8ad6c21a27"
   },
   "outputs": [],
   "source": [
    "import transformers\n",
    "xlnet= transformers.AutoTokenizer.from_pretrained(\"xlnet-base-cased\") #Tokenizer"
   ]
  },
  {
   "cell_type": "code",
   "execution_count": null,
   "metadata": {
    "id": "xt5EhShAQeVK"
   },
   "outputs": [],
   "source": [
    "import torch\n",
    "tr_inputs = torch.tensor(tr_inputs)\n",
    "val_inputs = torch.tensor(val_inputs)\n",
    "tr_tags = torch.tensor(tr_tags)\n",
    "val_tags = torch.tensor(val_tags)\n",
    "tr_masks = torch.tensor(tr_masks)\n",
    "val_masks = torch.tensor(val_masks)\n",
    "tr_segs = torch.tensor(tr_segs)\n",
    "val_segs = torch.tensor(val_segs)\n"
   ]
  },
  {
   "cell_type": "markdown",
   "metadata": {
    "id": "ZXvVsJ2lXfjS"
   },
   "source": [
    "Put data into data loader:"
   ]
  },
  {
   "cell_type": "code",
   "execution_count": null,
   "metadata": {
    "id": "SAhcMRmtVfgF"
   },
   "outputs": [],
   "source": [
    "from tqdm import tqdm,trange\n",
    "from torch.optim import Adam\n",
    "from torch.utils.data import TensorDataset, DataLoader, RandomSampler, SequentialSampler\n",
    "from sklearn.model_selection import train_test_split\n",
    "#  batch num\n",
    "batch_num = 128\n",
    "# Set token embedding, attention embedding, segment embedding\n",
    "train_data = TensorDataset(tr_inputs, tr_masks,tr_segs, tr_tags)\n",
    "train_sampler = RandomSampler(train_data)\n",
    "# Drop last can make batch training better for the last one\n",
    "train_dataloader = DataLoader(train_data, sampler=train_sampler, batch_size=batch_num,drop_last=True)\n",
    "\n",
    "valid_data = TensorDataset(val_inputs, val_masks,val_segs, val_tags)\n",
    "valid_sampler = SequentialSampler(valid_data)\n",
    "valid_dataloader = DataLoader(valid_data, sampler=valid_sampler, batch_size=batch_num)"
   ]
  },
  {
   "cell_type": "code",
   "execution_count": null,
   "metadata": {
    "colab": {
     "base_uri": "https://localhost:8080/"
    },
    "id": "-kMvTj7XbNnJ",
    "outputId": "f4f268d9-f341-4ca9-e18a-f95ea62f2e65"
   },
   "outputs": [],
   "source": [
    "from google.colab import drive\n",
    "drive.mount('/content/gdrive')"
   ]
  },
  {
   "cell_type": "code",
   "execution_count": null,
   "metadata": {
    "colab": {
     "base_uri": "https://localhost:8080/"
    },
    "id": "0X1zNZ8lXzCS",
    "outputId": "55271e21-5faa-42d6-e8c2-390dd407df18"
   },
   "outputs": [],
   "source": [
    "model_adress=\"../content/gdrive/MyDrive/Colab Notebooks\"\n",
    "xLNet_model = XLNetForSequenceClassification.from_pretrained(model_adress,num_labels=26)"
   ]
  },
  {
   "cell_type": "code",
   "execution_count": null,
   "metadata": {
    "id": "o998hjiqcm3b"
   },
   "outputs": [],
   "source": [
    "# Set epoch and grad max num\n",
    "import math\n",
    "epochs = 5\n",
    "max_grad_norm = 1.0\n",
    "# Calculate train optimization num\n",
    "num_train_optimization_steps = int( math.ceil(len(tr_inputs) / batch_num) / 1) * epochs"
   ]
  },
  {
   "cell_type": "code",
   "execution_count": null,
   "metadata": {
    "id": "7sqH6Zf9c73L"
   },
   "outputs": [],
   "source": [
    "device = torch.device(\"cuda\" if torch.cuda.is_available() else \"cpu\")\n",
    "n_gpu = torch.cuda.device_count()"
   ]
  },
  {
   "cell_type": "code",
   "execution_count": null,
   "metadata": {
    "id": "dEqxU2VrdT32"
   },
   "outputs": [],
   "source": [
    "# Set model to GPU,if you are using GPU machine\n",
    "xLNet_model.to(device);"
   ]
  },
  {
   "cell_type": "code",
   "execution_count": null,
   "metadata": {
    "id": "CZd7W7k-dVbp"
   },
   "outputs": [],
   "source": [
    "# We need to finetune the model\n",
    "FULL_FINETUNING = True"
   ]
  },
  {
   "cell_type": "code",
   "execution_count": null,
   "metadata": {
    "id": "bAx3mE3edtdW"
   },
   "outputs": [],
   "source": [
    "if FULL_FINETUNING:\n",
    "    # Fine tune model all layer parameters\n",
    "    param_optimizer = list(xLNet_model.named_parameters())\n",
    "    no_decay = ['bias', 'gamma', 'beta']\n",
    "    optimizer_grouped_parameters = [\n",
    "        {'params': [p for n, p in param_optimizer if not any(nd in n for nd in no_decay)],\n",
    "         'weight_decay_rate': 0.01},\n",
    "        {'params': [p for n, p in param_optimizer if any(nd in n for nd in no_decay)],\n",
    "         'weight_decay_rate': 0.0}\n",
    "    ]\n",
    "else:\n",
    "    # Only fine tune classifier parameters\n",
    "    param_optimizer = list(xLNet_model.classifier.named_parameters()) \n",
    "    optimizer_grouped_parameters = [{\"params\": [p for n, p in param_optimizer]}]\n",
    "optimizer = Adam(optimizer_grouped_parameters, lr=3e-5)"
   ]
  },
  {
   "cell_type": "code",
   "execution_count": null,
   "metadata": {
    "id": "G6QOS2NpdwHo"
   },
   "outputs": [],
   "source": [
    "xLNet_model.train()"
   ]
  },
  {
   "cell_type": "code",
   "execution_count": null,
   "metadata": {
    "colab": {
     "base_uri": "https://localhost:8080/"
    },
    "id": "sphgS7m0d-iI",
    "outputId": "9d1de2ad-9df0-4790-dbfd-fd1d084ae4ee"
   },
   "outputs": [],
   "source": [
    "print(\"***** Running training *****\")\n",
    "print(\"  Num examples = %d\"%(len(tr_inputs)))\n",
    "print(\"  Batch size = %d\"%(batch_num))\n",
    "print(\"  Num steps = %d\"%(num_train_optimization_steps))\n",
    "for _ in trange(epochs,desc=\"Epoch\"):\n",
    "    tr_loss = 0\n",
    "    nb_tr_examples, nb_tr_steps = 0, 0\n",
    "    for step, batch in enumerate(train_dataloader):\n",
    "        # add batch to gpu\n",
    "        batch = tuple(t.to(device) for t in batch)\n",
    "        b_input_ids, b_input_mask, b_segs,b_labels = batch\n",
    "        \n",
    "        # forward pass\n",
    "        outputs = xLNet_model(input_ids =b_input_ids,token_type_ids=b_segs, input_mask = b_input_mask,labels=b_labels)\n",
    "        loss, logits = outputs[:2]\n",
    "        if n_gpu>1:\n",
    "            # When multi gpu, average it\n",
    "            loss = loss.mean()\n",
    "        \n",
    "        # backward pass\n",
    "        loss.backward()\n",
    "        \n",
    "        # track train loss\n",
    "        tr_loss += loss.item()\n",
    "        nb_tr_examples += b_input_ids.size(0)\n",
    "        nb_tr_steps += 1\n",
    "        \n",
    "        # gradient clipping\n",
    "        torch.nn.utils.clip_grad_norm_(parameters=xLNet_model.parameters(), max_norm=max_grad_norm)\n",
    "        \n",
    "        # update parameters\n",
    "        optimizer.step()\n",
    "        optimizer.zero_grad()\n",
    "        \n",
    "    # print train loss per epoch\n",
    "    print(\"Train loss: {}\".format(tr_loss/nb_tr_steps))"
   ]
  },
  {
   "cell_type": "code",
   "execution_count": null,
   "metadata": {
    "id": "IWdCFKt5eDEi"
   },
   "outputs": [],
   "source": [
    "xlnet_out_address =\"../content/gdrive/MyDrive/Colab Notebooks/out\""
   ]
  },
  {
   "cell_type": "code",
   "execution_count": null,
   "metadata": {
    "id": "1BABlYReedD0"
   },
   "outputs": [],
   "source": [
    "if not os.path.exists(xlnet_out_address):\n",
    "        os.makedirs(xlnet_out_address)"
   ]
  },
  {
   "cell_type": "code",
   "execution_count": null,
   "metadata": {
    "id": "rQO7wfLwegYb"
   },
   "outputs": [],
   "source": [
    "# Save a trained model, configuration and tokenizer\n",
    "model_to_save = xLNetmodel.module if hasattr(xLNet_model, 'module') else xLNet_model  # Only save the model it-self"
   ]
  },
  {
   "cell_type": "code",
   "execution_count": null,
   "metadata": {
    "id": "BLj54N3NeoK_"
   },
   "outputs": [],
   "source": [
    "# If we save using the predefined names, we can load using `from_pretrained`\n",
    "output_model_file = os.path.join(xlnet_out_address, \"pytorch_model.bin\")\n",
    "output_config_file = os.path.join(xlnet_out_address, \"config.json\")"
   ]
  },
  {
   "cell_type": "code",
   "execution_count": null,
   "metadata": {
    "colab": {
     "base_uri": "https://localhost:8080/"
    },
    "id": "VXoYdKW0e9f3",
    "outputId": "8ea73de6-f77b-4720-9e5c-bb518e521ded"
   },
   "outputs": [],
   "source": [
    "# Save model into file\n",
    "torch.save(model_to_save.state_dict(), output_model_file)\n",
    "model_to_save.config.to_json_file(output_config_file)\n",
    "tokenizer.save_vocabulary(xlnet_out_address)"
   ]
  },
  {
   "cell_type": "markdown",
   "metadata": {
    "id": "7c2m1obIfIW4"
   },
   "source": [
    "Load the New model:"
   ]
  },
  {
   "cell_type": "code",
   "execution_count": null,
   "metadata": {
    "id": "Abwp8NrtfASs"
   },
   "outputs": [],
   "source": [
    "model = XLNetForSequenceClassification.from_pretrained(xlnet_out_address,num_labels=26)"
   ]
  },
  {
   "cell_type": "code",
   "execution_count": null,
   "metadata": {
    "id": "tnqqTNUsfHqU"
   },
   "outputs": [],
   "source": [
    "# Set model to GPU\n",
    "model.to(device);"
   ]
  },
  {
   "cell_type": "markdown",
   "metadata": {
    "id": "fRQ7Ee1ZfU7L"
   },
   "source": [
    "Evaluate model:"
   ]
  },
  {
   "cell_type": "code",
   "execution_count": null,
   "metadata": {
    "id": "D9wajDCbfRmS"
   },
   "outputs": [],
   "source": [
    "# Evalue loop\n",
    "model.eval();"
   ]
  },
  {
   "cell_type": "code",
   "execution_count": null,
   "metadata": {
    "id": "h-GyMbh7fa9q"
   },
   "outputs": [],
   "source": [
    "# Set acc funtion\n",
    "def accuracy(out, labels):\n",
    "    outputs = np.argmax(out, axis=1)\n",
    "    return np.sum(outputs == labels)"
   ]
  },
  {
   "cell_type": "code",
   "execution_count": null,
   "metadata": {
    "colab": {
     "base_uri": "https://localhost:8080/"
    },
    "id": "2DEYPkEHfbPg",
    "outputId": "20719afe-1929-44ff-c516-6ac77e6532d2"
   },
   "outputs": [],
   "source": [
    "from sklearn.metrics import classification_report\n",
    "eval_loss, eval_accuracy = 0, 0\n",
    "nb_eval_steps, nb_eval_examples = 0, 0\n",
    "\n",
    "y_true = []\n",
    "y_predict = []\n",
    "print(\"***** Running evaluation *****\")\n",
    "print(\"  Num examples ={}\".format(len(val_inputs)))\n",
    "print(\"  Batch size = {}\".format(batch_num))\n",
    "for step, batch in enumerate(valid_dataloader):\n",
    "    batch = tuple(t.to(device) for t in batch)\n",
    "    b_input_ids, b_input_mask, b_segs,b_labels = batch\n",
    "    \n",
    "    with torch.no_grad():\n",
    "        outputs = model(input_ids =b_input_ids,token_type_ids=b_segs, input_mask = b_input_mask,labels=b_labels)\n",
    "        tmp_eval_loss, logits = outputs[:2]\n",
    "    \n",
    "    # Get textclassification predict result\n",
    "    logits = logits.detach().cpu().numpy()\n",
    "    label_ids = b_labels.to('cpu').numpy()\n",
    "    tmp_eval_accuracy = accuracy(logits, label_ids)\n",
    "#     print(tmp_eval_accuracy)\n",
    "#     print(np.argmax(logits, axis=1))\n",
    "#     print(label_ids)\n",
    "    \n",
    "    # Save predict and real label reuslt for analyze\n",
    "    for predict in np.argmax(logits, axis=1):\n",
    "        y_predict.append(predict)\n",
    "        \n",
    "    for real_result in label_ids.tolist():\n",
    "        y_true.append(real_result)\n",
    "\n",
    "    \n",
    "    eval_loss += tmp_eval_loss.mean().item()\n",
    "    eval_accuracy += tmp_eval_accuracy\n",
    "   \n",
    "    nb_eval_steps += 1\n",
    "    \n",
    "    \n",
    "eval_loss = eval_loss / nb_eval_steps\n",
    "eval_accuracy = eval_accuracy / len(val_inputs)\n",
    "loss = tr_loss/nb_tr_steps \n",
    "result = {'eval_loss': eval_loss,\n",
    "                  'eval_accuracy': eval_accuracy,\n",
    "                  'loss': loss}\n",
    "report = classification_report(y_pred=np.array(y_predict),y_true=np.array(y_true))\n",
    "\n",
    "# Save the report into file\n",
    "output_eval_file = os.path.join(xlnet_out_address, \"eval_results.txt\")\n",
    "with open(output_eval_file, \"w\") as writer:\n",
    "    print(\"***** Eval results *****\")\n",
    "    for key in sorted(result.keys()):\n",
    "        print(\"  %s = %s\"%(key, str(result[key])))\n",
    "        writer.write(\"%s = %s\\n\" % (key, str(result[key])))\n",
    "        \n",
    "    print(report)\n",
    "    writer.write(\"\\n\\n\")  \n",
    "    writer.write(report)"
   ]
  }
 ],
 "metadata": {
  "accelerator": "GPU",
  "colab": {
   "collapsed_sections": [
    "jyKZQ5p-DbJi"
   ],
   "include_colab_link": true,
   "name": "notebook2c0a128293.ipynb",
   "provenance": []
  },
  "kernelspec": {
   "display_name": "ENVML",
   "language": "python",
   "name": "envml"
  },
  "language_info": {
   "codemirror_mode": {
    "name": "ipython",
    "version": 3
   },
   "file_extension": ".py",
   "mimetype": "text/x-python",
   "name": "python",
   "nbconvert_exporter": "python",
   "pygments_lexer": "ipython3",
   "version": "3.9.7"
  },
  "widgets": {
   "application/vnd.jupyter.widget-state+json": {
    "047882c957a14bc398b1ec0c0116f17d": {
     "model_module": "@jupyter-widgets/controls",
     "model_module_version": "1.5.0",
     "model_name": "DescriptionStyleModel",
     "state": {
      "_model_module": "@jupyter-widgets/controls",
      "_model_module_version": "1.5.0",
      "_model_name": "DescriptionStyleModel",
      "_view_count": null,
      "_view_module": "@jupyter-widgets/base",
      "_view_module_version": "1.2.0",
      "_view_name": "StyleView",
      "description_width": ""
     }
    },
    "0846c028e9994a5aaf54071b1fecf311": {
     "model_module": "@jupyter-widgets/controls",
     "model_module_version": "1.5.0",
     "model_name": "ProgressStyleModel",
     "state": {
      "_model_module": "@jupyter-widgets/controls",
      "_model_module_version": "1.5.0",
      "_model_name": "ProgressStyleModel",
      "_view_count": null,
      "_view_module": "@jupyter-widgets/base",
      "_view_module_version": "1.2.0",
      "_view_name": "StyleView",
      "bar_color": null,
      "description_width": ""
     }
    },
    "08ae9991944248d493d038a180c97675": {
     "model_module": "@jupyter-widgets/base",
     "model_module_version": "1.2.0",
     "model_name": "LayoutModel",
     "state": {
      "_model_module": "@jupyter-widgets/base",
      "_model_module_version": "1.2.0",
      "_model_name": "LayoutModel",
      "_view_count": null,
      "_view_module": "@jupyter-widgets/base",
      "_view_module_version": "1.2.0",
      "_view_name": "LayoutView",
      "align_content": null,
      "align_items": null,
      "align_self": null,
      "border": null,
      "bottom": null,
      "display": null,
      "flex": null,
      "flex_flow": null,
      "grid_area": null,
      "grid_auto_columns": null,
      "grid_auto_flow": null,
      "grid_auto_rows": null,
      "grid_column": null,
      "grid_gap": null,
      "grid_row": null,
      "grid_template_areas": null,
      "grid_template_columns": null,
      "grid_template_rows": null,
      "height": null,
      "justify_content": null,
      "justify_items": null,
      "left": null,
      "margin": null,
      "max_height": null,
      "max_width": null,
      "min_height": null,
      "min_width": null,
      "object_fit": null,
      "object_position": null,
      "order": null,
      "overflow": null,
      "overflow_x": null,
      "overflow_y": null,
      "padding": null,
      "right": null,
      "top": null,
      "visibility": null,
      "width": null
     }
    },
    "0dead1f5d9534604af865c8fbb2e3921": {
     "model_module": "@jupyter-widgets/controls",
     "model_module_version": "1.5.0",
     "model_name": "DescriptionStyleModel",
     "state": {
      "_model_module": "@jupyter-widgets/controls",
      "_model_module_version": "1.5.0",
      "_model_name": "DescriptionStyleModel",
      "_view_count": null,
      "_view_module": "@jupyter-widgets/base",
      "_view_module_version": "1.2.0",
      "_view_name": "StyleView",
      "description_width": ""
     }
    },
    "0fefa743257944dd96cc2dc1690099da": {
     "model_module": "@jupyter-widgets/base",
     "model_module_version": "1.2.0",
     "model_name": "LayoutModel",
     "state": {
      "_model_module": "@jupyter-widgets/base",
      "_model_module_version": "1.2.0",
      "_model_name": "LayoutModel",
      "_view_count": null,
      "_view_module": "@jupyter-widgets/base",
      "_view_module_version": "1.2.0",
      "_view_name": "LayoutView",
      "align_content": null,
      "align_items": null,
      "align_self": null,
      "border": null,
      "bottom": null,
      "display": null,
      "flex": null,
      "flex_flow": null,
      "grid_area": null,
      "grid_auto_columns": null,
      "grid_auto_flow": null,
      "grid_auto_rows": null,
      "grid_column": null,
      "grid_gap": null,
      "grid_row": null,
      "grid_template_areas": null,
      "grid_template_columns": null,
      "grid_template_rows": null,
      "height": null,
      "justify_content": null,
      "justify_items": null,
      "left": null,
      "margin": null,
      "max_height": null,
      "max_width": null,
      "min_height": null,
      "min_width": null,
      "object_fit": null,
      "object_position": null,
      "order": null,
      "overflow": null,
      "overflow_x": null,
      "overflow_y": null,
      "padding": null,
      "right": null,
      "top": null,
      "visibility": null,
      "width": null
     }
    },
    "10025eca89f7423287b9521426b43e0b": {
     "model_module": "@jupyter-widgets/base",
     "model_module_version": "1.2.0",
     "model_name": "LayoutModel",
     "state": {
      "_model_module": "@jupyter-widgets/base",
      "_model_module_version": "1.2.0",
      "_model_name": "LayoutModel",
      "_view_count": null,
      "_view_module": "@jupyter-widgets/base",
      "_view_module_version": "1.2.0",
      "_view_name": "LayoutView",
      "align_content": null,
      "align_items": null,
      "align_self": null,
      "border": null,
      "bottom": null,
      "display": null,
      "flex": null,
      "flex_flow": null,
      "grid_area": null,
      "grid_auto_columns": null,
      "grid_auto_flow": null,
      "grid_auto_rows": null,
      "grid_column": null,
      "grid_gap": null,
      "grid_row": null,
      "grid_template_areas": null,
      "grid_template_columns": null,
      "grid_template_rows": null,
      "height": null,
      "justify_content": null,
      "justify_items": null,
      "left": null,
      "margin": null,
      "max_height": null,
      "max_width": null,
      "min_height": null,
      "min_width": null,
      "object_fit": null,
      "object_position": null,
      "order": null,
      "overflow": null,
      "overflow_x": null,
      "overflow_y": null,
      "padding": null,
      "right": null,
      "top": null,
      "visibility": null,
      "width": null
     }
    },
    "11429cd6d46145c7ad7f1617ac536236": {
     "model_module": "@jupyter-widgets/base",
     "model_module_version": "1.2.0",
     "model_name": "LayoutModel",
     "state": {
      "_model_module": "@jupyter-widgets/base",
      "_model_module_version": "1.2.0",
      "_model_name": "LayoutModel",
      "_view_count": null,
      "_view_module": "@jupyter-widgets/base",
      "_view_module_version": "1.2.0",
      "_view_name": "LayoutView",
      "align_content": null,
      "align_items": null,
      "align_self": null,
      "border": null,
      "bottom": null,
      "display": null,
      "flex": null,
      "flex_flow": null,
      "grid_area": null,
      "grid_auto_columns": null,
      "grid_auto_flow": null,
      "grid_auto_rows": null,
      "grid_column": null,
      "grid_gap": null,
      "grid_row": null,
      "grid_template_areas": null,
      "grid_template_columns": null,
      "grid_template_rows": null,
      "height": null,
      "justify_content": null,
      "justify_items": null,
      "left": null,
      "margin": null,
      "max_height": null,
      "max_width": null,
      "min_height": null,
      "min_width": null,
      "object_fit": null,
      "object_position": null,
      "order": null,
      "overflow": null,
      "overflow_x": null,
      "overflow_y": null,
      "padding": null,
      "right": null,
      "top": null,
      "visibility": null,
      "width": null
     }
    },
    "121f91af99c64ed9bab06679f2417f5e": {
     "model_module": "@jupyter-widgets/controls",
     "model_module_version": "1.5.0",
     "model_name": "DescriptionStyleModel",
     "state": {
      "_model_module": "@jupyter-widgets/controls",
      "_model_module_version": "1.5.0",
      "_model_name": "DescriptionStyleModel",
      "_view_count": null,
      "_view_module": "@jupyter-widgets/base",
      "_view_module_version": "1.2.0",
      "_view_name": "StyleView",
      "description_width": ""
     }
    },
    "139cacaafea941a885548f0273c91e5f": {
     "model_module": "@jupyter-widgets/base",
     "model_module_version": "1.2.0",
     "model_name": "LayoutModel",
     "state": {
      "_model_module": "@jupyter-widgets/base",
      "_model_module_version": "1.2.0",
      "_model_name": "LayoutModel",
      "_view_count": null,
      "_view_module": "@jupyter-widgets/base",
      "_view_module_version": "1.2.0",
      "_view_name": "LayoutView",
      "align_content": null,
      "align_items": null,
      "align_self": null,
      "border": null,
      "bottom": null,
      "display": null,
      "flex": null,
      "flex_flow": null,
      "grid_area": null,
      "grid_auto_columns": null,
      "grid_auto_flow": null,
      "grid_auto_rows": null,
      "grid_column": null,
      "grid_gap": null,
      "grid_row": null,
      "grid_template_areas": null,
      "grid_template_columns": null,
      "grid_template_rows": null,
      "height": null,
      "justify_content": null,
      "justify_items": null,
      "left": null,
      "margin": null,
      "max_height": null,
      "max_width": null,
      "min_height": null,
      "min_width": null,
      "object_fit": null,
      "object_position": null,
      "order": null,
      "overflow": null,
      "overflow_x": null,
      "overflow_y": null,
      "padding": null,
      "right": null,
      "top": null,
      "visibility": null,
      "width": null
     }
    },
    "13c462269e9d49399fe4d5425978296a": {
     "model_module": "@jupyter-widgets/controls",
     "model_module_version": "1.5.0",
     "model_name": "FloatProgressModel",
     "state": {
      "_dom_classes": [],
      "_model_module": "@jupyter-widgets/controls",
      "_model_module_version": "1.5.0",
      "_model_name": "FloatProgressModel",
      "_view_count": null,
      "_view_module": "@jupyter-widgets/controls",
      "_view_module_version": "1.5.0",
      "_view_name": "ProgressView",
      "bar_style": "success",
      "description": "",
      "description_tooltip": null,
      "layout": "IPY_MODEL_d6bd8fbc4c73487092ce837afbe3d6ec",
      "max": 213450,
      "min": 0,
      "orientation": "horizontal",
      "style": "IPY_MODEL_bd61fa80f46b45a393c23be9ee50a578",
      "value": 213450
     }
    },
    "17b741c1702f45d78491f3e96652cf21": {
     "model_module": "@jupyter-widgets/controls",
     "model_module_version": "1.5.0",
     "model_name": "DescriptionStyleModel",
     "state": {
      "_model_module": "@jupyter-widgets/controls",
      "_model_module_version": "1.5.0",
      "_model_name": "DescriptionStyleModel",
      "_view_count": null,
      "_view_module": "@jupyter-widgets/base",
      "_view_module_version": "1.2.0",
      "_view_name": "StyleView",
      "description_width": ""
     }
    },
    "17cbc27e64fe4c8da8d8f852e38eeb75": {
     "model_module": "@jupyter-widgets/base",
     "model_module_version": "1.2.0",
     "model_name": "LayoutModel",
     "state": {
      "_model_module": "@jupyter-widgets/base",
      "_model_module_version": "1.2.0",
      "_model_name": "LayoutModel",
      "_view_count": null,
      "_view_module": "@jupyter-widgets/base",
      "_view_module_version": "1.2.0",
      "_view_name": "LayoutView",
      "align_content": null,
      "align_items": null,
      "align_self": null,
      "border": null,
      "bottom": null,
      "display": null,
      "flex": null,
      "flex_flow": null,
      "grid_area": null,
      "grid_auto_columns": null,
      "grid_auto_flow": null,
      "grid_auto_rows": null,
      "grid_column": null,
      "grid_gap": null,
      "grid_row": null,
      "grid_template_areas": null,
      "grid_template_columns": null,
      "grid_template_rows": null,
      "height": null,
      "justify_content": null,
      "justify_items": null,
      "left": null,
      "margin": null,
      "max_height": null,
      "max_width": null,
      "min_height": null,
      "min_width": null,
      "object_fit": null,
      "object_position": null,
      "order": null,
      "overflow": null,
      "overflow_x": null,
      "overflow_y": null,
      "padding": null,
      "right": null,
      "top": null,
      "visibility": null,
      "width": null
     }
    },
    "18bbb0ba63564a49af007e17f7688727": {
     "model_module": "@jupyter-widgets/base",
     "model_module_version": "1.2.0",
     "model_name": "LayoutModel",
     "state": {
      "_model_module": "@jupyter-widgets/base",
      "_model_module_version": "1.2.0",
      "_model_name": "LayoutModel",
      "_view_count": null,
      "_view_module": "@jupyter-widgets/base",
      "_view_module_version": "1.2.0",
      "_view_name": "LayoutView",
      "align_content": null,
      "align_items": null,
      "align_self": null,
      "border": null,
      "bottom": null,
      "display": null,
      "flex": null,
      "flex_flow": null,
      "grid_area": null,
      "grid_auto_columns": null,
      "grid_auto_flow": null,
      "grid_auto_rows": null,
      "grid_column": null,
      "grid_gap": null,
      "grid_row": null,
      "grid_template_areas": null,
      "grid_template_columns": null,
      "grid_template_rows": null,
      "height": null,
      "justify_content": null,
      "justify_items": null,
      "left": null,
      "margin": null,
      "max_height": null,
      "max_width": null,
      "min_height": null,
      "min_width": null,
      "object_fit": null,
      "object_position": null,
      "order": null,
      "overflow": null,
      "overflow_x": null,
      "overflow_y": null,
      "padding": null,
      "right": null,
      "top": null,
      "visibility": null,
      "width": null
     }
    },
    "1dde7f9458ee4cc0a632a9ac50ac4ec7": {
     "model_module": "@jupyter-widgets/base",
     "model_module_version": "1.2.0",
     "model_name": "LayoutModel",
     "state": {
      "_model_module": "@jupyter-widgets/base",
      "_model_module_version": "1.2.0",
      "_model_name": "LayoutModel",
      "_view_count": null,
      "_view_module": "@jupyter-widgets/base",
      "_view_module_version": "1.2.0",
      "_view_name": "LayoutView",
      "align_content": null,
      "align_items": null,
      "align_self": null,
      "border": null,
      "bottom": null,
      "display": null,
      "flex": null,
      "flex_flow": null,
      "grid_area": null,
      "grid_auto_columns": null,
      "grid_auto_flow": null,
      "grid_auto_rows": null,
      "grid_column": null,
      "grid_gap": null,
      "grid_row": null,
      "grid_template_areas": null,
      "grid_template_columns": null,
      "grid_template_rows": null,
      "height": null,
      "justify_content": null,
      "justify_items": null,
      "left": null,
      "margin": null,
      "max_height": null,
      "max_width": null,
      "min_height": null,
      "min_width": null,
      "object_fit": null,
      "object_position": null,
      "order": null,
      "overflow": null,
      "overflow_x": null,
      "overflow_y": null,
      "padding": null,
      "right": null,
      "top": null,
      "visibility": null,
      "width": null
     }
    },
    "2013c1df8ab446b5b187044e8761480c": {
     "model_module": "@jupyter-widgets/controls",
     "model_module_version": "1.5.0",
     "model_name": "HTMLModel",
     "state": {
      "_dom_classes": [],
      "_model_module": "@jupyter-widgets/controls",
      "_model_module_version": "1.5.0",
      "_model_name": "HTMLModel",
      "_view_count": null,
      "_view_module": "@jupyter-widgets/controls",
      "_view_module_version": "1.5.0",
      "_view_name": "HTMLView",
      "description": "",
      "description_tooltip": null,
      "layout": "IPY_MODEL_61b33bb472d24c86a6a6e41fe8e5a642",
      "placeholder": "​",
      "style": "IPY_MODEL_643650dd06f54823b18415d289099d50",
      "value": "Downloading: 100%"
     }
    },
    "22c25772e3664bbcb2f2290253e9723c": {
     "model_module": "@jupyter-widgets/controls",
     "model_module_version": "1.5.0",
     "model_name": "FloatProgressModel",
     "state": {
      "_dom_classes": [],
      "_model_module": "@jupyter-widgets/controls",
      "_model_module_version": "1.5.0",
      "_model_name": "FloatProgressModel",
      "_view_count": null,
      "_view_module": "@jupyter-widgets/controls",
      "_view_module_version": "1.5.0",
      "_view_name": "ProgressView",
      "bar_style": "success",
      "description": "",
      "description_tooltip": null,
      "layout": "IPY_MODEL_c41249f9cb4d40ce818029abdf02b7b8",
      "max": 570,
      "min": 0,
      "orientation": "horizontal",
      "style": "IPY_MODEL_c5ea08e233434cb5a3ed2722e3898b6b",
      "value": 570
     }
    },
    "28154f276542403c8285cf0c352db982": {
     "model_module": "@jupyter-widgets/controls",
     "model_module_version": "1.5.0",
     "model_name": "HBoxModel",
     "state": {
      "_dom_classes": [],
      "_model_module": "@jupyter-widgets/controls",
      "_model_module_version": "1.5.0",
      "_model_name": "HBoxModel",
      "_view_count": null,
      "_view_module": "@jupyter-widgets/controls",
      "_view_module_version": "1.5.0",
      "_view_name": "HBoxView",
      "box_style": "",
      "children": [
       "IPY_MODEL_5343a426b4ec4523869518214bb75227",
       "IPY_MODEL_13c462269e9d49399fe4d5425978296a",
       "IPY_MODEL_76d5afaf420843ae9fd40fab370063d9"
      ],
      "layout": "IPY_MODEL_9ed801cd98044572a88067f6d722b788"
     }
    },
    "2ce2776554464dc097a2d0dfc018b228": {
     "model_module": "@jupyter-widgets/base",
     "model_module_version": "1.2.0",
     "model_name": "LayoutModel",
     "state": {
      "_model_module": "@jupyter-widgets/base",
      "_model_module_version": "1.2.0",
      "_model_name": "LayoutModel",
      "_view_count": null,
      "_view_module": "@jupyter-widgets/base",
      "_view_module_version": "1.2.0",
      "_view_name": "LayoutView",
      "align_content": null,
      "align_items": null,
      "align_self": null,
      "border": null,
      "bottom": null,
      "display": null,
      "flex": null,
      "flex_flow": null,
      "grid_area": null,
      "grid_auto_columns": null,
      "grid_auto_flow": null,
      "grid_auto_rows": null,
      "grid_column": null,
      "grid_gap": null,
      "grid_row": null,
      "grid_template_areas": null,
      "grid_template_columns": null,
      "grid_template_rows": null,
      "height": null,
      "justify_content": null,
      "justify_items": null,
      "left": null,
      "margin": null,
      "max_height": null,
      "max_width": null,
      "min_height": null,
      "min_width": null,
      "object_fit": null,
      "object_position": null,
      "order": null,
      "overflow": null,
      "overflow_x": null,
      "overflow_y": null,
      "padding": null,
      "right": null,
      "top": null,
      "visibility": null,
      "width": null
     }
    },
    "2fa09e6c17e14bb1a71ab6748ed49358": {
     "model_module": "@jupyter-widgets/controls",
     "model_module_version": "1.5.0",
     "model_name": "HTMLModel",
     "state": {
      "_dom_classes": [],
      "_model_module": "@jupyter-widgets/controls",
      "_model_module_version": "1.5.0",
      "_model_name": "HTMLModel",
      "_view_count": null,
      "_view_module": "@jupyter-widgets/controls",
      "_view_module_version": "1.5.0",
      "_view_name": "HTMLView",
      "description": "",
      "description_tooltip": null,
      "layout": "IPY_MODEL_11429cd6d46145c7ad7f1617ac536236",
      "placeholder": "​",
      "style": "IPY_MODEL_b8911266309f48f4a8956df52fd66115",
      "value": " 426k/426k [00:00&lt;00:00, 905kB/s]"
     }
    },
    "3a13e77b25a741a4ad480672ea1055c3": {
     "model_module": "@jupyter-widgets/base",
     "model_module_version": "1.2.0",
     "model_name": "LayoutModel",
     "state": {
      "_model_module": "@jupyter-widgets/base",
      "_model_module_version": "1.2.0",
      "_model_name": "LayoutModel",
      "_view_count": null,
      "_view_module": "@jupyter-widgets/base",
      "_view_module_version": "1.2.0",
      "_view_name": "LayoutView",
      "align_content": null,
      "align_items": null,
      "align_self": null,
      "border": null,
      "bottom": null,
      "display": null,
      "flex": null,
      "flex_flow": null,
      "grid_area": null,
      "grid_auto_columns": null,
      "grid_auto_flow": null,
      "grid_auto_rows": null,
      "grid_column": null,
      "grid_gap": null,
      "grid_row": null,
      "grid_template_areas": null,
      "grid_template_columns": null,
      "grid_template_rows": null,
      "height": null,
      "justify_content": null,
      "justify_items": null,
      "left": null,
      "margin": null,
      "max_height": null,
      "max_width": null,
      "min_height": null,
      "min_width": null,
      "object_fit": null,
      "object_position": null,
      "order": null,
      "overflow": null,
      "overflow_x": null,
      "overflow_y": null,
      "padding": null,
      "right": null,
      "top": null,
      "visibility": null,
      "width": null
     }
    },
    "3d9234c7fd9e48d1a08f37fa32dbbdf8": {
     "model_module": "@jupyter-widgets/controls",
     "model_module_version": "1.5.0",
     "model_name": "HTMLModel",
     "state": {
      "_dom_classes": [],
      "_model_module": "@jupyter-widgets/controls",
      "_model_module_version": "1.5.0",
      "_model_name": "HTMLModel",
      "_view_count": null,
      "_view_module": "@jupyter-widgets/controls",
      "_view_module_version": "1.5.0",
      "_view_name": "HTMLView",
      "description": "",
      "description_tooltip": null,
      "layout": "IPY_MODEL_1dde7f9458ee4cc0a632a9ac50ac4ec7",
      "placeholder": "​",
      "style": "IPY_MODEL_91c3772c0d62413493055ab48767ec17",
      "value": "Downloading: 100%"
     }
    },
    "3ee3377c2b0e4bad99b95434adb6ebde": {
     "model_module": "@jupyter-widgets/controls",
     "model_module_version": "1.5.0",
     "model_name": "HTMLModel",
     "state": {
      "_dom_classes": [],
      "_model_module": "@jupyter-widgets/controls",
      "_model_module_version": "1.5.0",
      "_model_name": "HTMLModel",
      "_view_count": null,
      "_view_module": "@jupyter-widgets/controls",
      "_view_module_version": "1.5.0",
      "_view_name": "HTMLView",
      "description": "",
      "description_tooltip": null,
      "layout": "IPY_MODEL_937ae311d1f541158337804445021a1a",
      "placeholder": "​",
      "style": "IPY_MODEL_edc3cc095d97418b940be52037a34989",
      "value": "Downloading: 100%"
     }
    },
    "409da61b243443ff8c72fdeff1ac6e1a": {
     "model_module": "@jupyter-widgets/controls",
     "model_module_version": "1.5.0",
     "model_name": "ProgressStyleModel",
     "state": {
      "_model_module": "@jupyter-widgets/controls",
      "_model_module_version": "1.5.0",
      "_model_name": "ProgressStyleModel",
      "_view_count": null,
      "_view_module": "@jupyter-widgets/base",
      "_view_module_version": "1.2.0",
      "_view_name": "StyleView",
      "bar_color": null,
      "description_width": ""
     }
    },
    "45c2cf19f55f486b8189cbfd025d5b4b": {
     "model_module": "@jupyter-widgets/controls",
     "model_module_version": "1.5.0",
     "model_name": "ProgressStyleModel",
     "state": {
      "_model_module": "@jupyter-widgets/controls",
      "_model_module_version": "1.5.0",
      "_model_name": "ProgressStyleModel",
      "_view_count": null,
      "_view_module": "@jupyter-widgets/base",
      "_view_module_version": "1.2.0",
      "_view_name": "StyleView",
      "bar_color": null,
      "description_width": ""
     }
    },
    "47c72789b3ba4fd1a0eb2f3a0c271f2e": {
     "model_module": "@jupyter-widgets/base",
     "model_module_version": "1.2.0",
     "model_name": "LayoutModel",
     "state": {
      "_model_module": "@jupyter-widgets/base",
      "_model_module_version": "1.2.0",
      "_model_name": "LayoutModel",
      "_view_count": null,
      "_view_module": "@jupyter-widgets/base",
      "_view_module_version": "1.2.0",
      "_view_name": "LayoutView",
      "align_content": null,
      "align_items": null,
      "align_self": null,
      "border": null,
      "bottom": null,
      "display": null,
      "flex": null,
      "flex_flow": null,
      "grid_area": null,
      "grid_auto_columns": null,
      "grid_auto_flow": null,
      "grid_auto_rows": null,
      "grid_column": null,
      "grid_gap": null,
      "grid_row": null,
      "grid_template_areas": null,
      "grid_template_columns": null,
      "grid_template_rows": null,
      "height": null,
      "justify_content": null,
      "justify_items": null,
      "left": null,
      "margin": null,
      "max_height": null,
      "max_width": null,
      "min_height": null,
      "min_width": null,
      "object_fit": null,
      "object_position": null,
      "order": null,
      "overflow": null,
      "overflow_x": null,
      "overflow_y": null,
      "padding": null,
      "right": null,
      "top": null,
      "visibility": null,
      "width": null
     }
    },
    "47daa9ca268742fca5663d86993193ef": {
     "model_module": "@jupyter-widgets/controls",
     "model_module_version": "1.5.0",
     "model_name": "HTMLModel",
     "state": {
      "_dom_classes": [],
      "_model_module": "@jupyter-widgets/controls",
      "_model_module_version": "1.5.0",
      "_model_name": "HTMLModel",
      "_view_count": null,
      "_view_module": "@jupyter-widgets/controls",
      "_view_module_version": "1.5.0",
      "_view_name": "HTMLView",
      "description": "",
      "description_tooltip": null,
      "layout": "IPY_MODEL_0fefa743257944dd96cc2dc1690099da",
      "placeholder": "​",
      "style": "IPY_MODEL_cee4b802cf28492cb68a7725208eba3e",
      "value": "Downloading: 100%"
     }
    },
    "4c3e9b11f2f944538df5293d0f8670f0": {
     "model_module": "@jupyter-widgets/controls",
     "model_module_version": "1.5.0",
     "model_name": "FloatProgressModel",
     "state": {
      "_dom_classes": [],
      "_model_module": "@jupyter-widgets/controls",
      "_model_module_version": "1.5.0",
      "_model_name": "FloatProgressModel",
      "_view_count": null,
      "_view_module": "@jupyter-widgets/controls",
      "_view_module_version": "1.5.0",
      "_view_name": "ProgressView",
      "bar_style": "success",
      "description": "",
      "description_tooltip": null,
      "layout": "IPY_MODEL_3a13e77b25a741a4ad480672ea1055c3",
      "max": 1382015,
      "min": 0,
      "orientation": "horizontal",
      "style": "IPY_MODEL_409da61b243443ff8c72fdeff1ac6e1a",
      "value": 1382015
     }
    },
    "4c443e2d975d48fca2ac32ba908a82a3": {
     "model_module": "@jupyter-widgets/base",
     "model_module_version": "1.2.0",
     "model_name": "LayoutModel",
     "state": {
      "_model_module": "@jupyter-widgets/base",
      "_model_module_version": "1.2.0",
      "_model_name": "LayoutModel",
      "_view_count": null,
      "_view_module": "@jupyter-widgets/base",
      "_view_module_version": "1.2.0",
      "_view_name": "LayoutView",
      "align_content": null,
      "align_items": null,
      "align_self": null,
      "border": null,
      "bottom": null,
      "display": null,
      "flex": null,
      "flex_flow": null,
      "grid_area": null,
      "grid_auto_columns": null,
      "grid_auto_flow": null,
      "grid_auto_rows": null,
      "grid_column": null,
      "grid_gap": null,
      "grid_row": null,
      "grid_template_areas": null,
      "grid_template_columns": null,
      "grid_template_rows": null,
      "height": null,
      "justify_content": null,
      "justify_items": null,
      "left": null,
      "margin": null,
      "max_height": null,
      "max_width": null,
      "min_height": null,
      "min_width": null,
      "object_fit": null,
      "object_position": null,
      "order": null,
      "overflow": null,
      "overflow_x": null,
      "overflow_y": null,
      "padding": null,
      "right": null,
      "top": null,
      "visibility": null,
      "width": null
     }
    },
    "4d1802f1397a4df18cbd79d411835f67": {
     "model_module": "@jupyter-widgets/controls",
     "model_module_version": "1.5.0",
     "model_name": "FloatProgressModel",
     "state": {
      "_dom_classes": [],
      "_model_module": "@jupyter-widgets/controls",
      "_model_module_version": "1.5.0",
      "_model_name": "FloatProgressModel",
      "_view_count": null,
      "_view_module": "@jupyter-widgets/controls",
      "_view_module_version": "1.5.0",
      "_view_name": "ProgressView",
      "bar_style": "success",
      "description": "",
      "description_tooltip": null,
      "layout": "IPY_MODEL_720b7fd299b240628c9df173d37ab127",
      "max": 435797,
      "min": 0,
      "orientation": "horizontal",
      "style": "IPY_MODEL_8caf8495f811472ab6044fa484fe1bfb",
      "value": 435797
     }
    },
    "5343a426b4ec4523869518214bb75227": {
     "model_module": "@jupyter-widgets/controls",
     "model_module_version": "1.5.0",
     "model_name": "HTMLModel",
     "state": {
      "_dom_classes": [],
      "_model_module": "@jupyter-widgets/controls",
      "_model_module_version": "1.5.0",
      "_model_name": "HTMLModel",
      "_view_count": null,
      "_view_module": "@jupyter-widgets/controls",
      "_view_module_version": "1.5.0",
      "_view_name": "HTMLView",
      "description": "",
      "description_tooltip": null,
      "layout": "IPY_MODEL_b22bd7c13f914bc09969f59f7410665e",
      "placeholder": "​",
      "style": "IPY_MODEL_a80a25dbbc7449e3810ff619023382da",
      "value": "Downloading: 100%"
     }
    },
    "5a6e6fe21395461cb710d157eb62cba2": {
     "model_module": "@jupyter-widgets/controls",
     "model_module_version": "1.5.0",
     "model_name": "HBoxModel",
     "state": {
      "_dom_classes": [],
      "_model_module": "@jupyter-widgets/controls",
      "_model_module_version": "1.5.0",
      "_model_name": "HBoxModel",
      "_view_count": null,
      "_view_module": "@jupyter-widgets/controls",
      "_view_module_version": "1.5.0",
      "_view_name": "HBoxView",
      "box_style": "",
      "children": [
       "IPY_MODEL_47daa9ca268742fca5663d86993193ef",
       "IPY_MODEL_f585401a715c4b79b9030ac642a1b58e",
       "IPY_MODEL_fa325e2c9c9e43d09ac54a6f465ff9ca"
      ],
      "layout": "IPY_MODEL_17cbc27e64fe4c8da8d8f852e38eeb75"
     }
    },
    "5e082b3a252d408683f560a8f8fa5051": {
     "model_module": "@jupyter-widgets/base",
     "model_module_version": "1.2.0",
     "model_name": "LayoutModel",
     "state": {
      "_model_module": "@jupyter-widgets/base",
      "_model_module_version": "1.2.0",
      "_model_name": "LayoutModel",
      "_view_count": null,
      "_view_module": "@jupyter-widgets/base",
      "_view_module_version": "1.2.0",
      "_view_name": "LayoutView",
      "align_content": null,
      "align_items": null,
      "align_self": null,
      "border": null,
      "bottom": null,
      "display": null,
      "flex": null,
      "flex_flow": null,
      "grid_area": null,
      "grid_auto_columns": null,
      "grid_auto_flow": null,
      "grid_auto_rows": null,
      "grid_column": null,
      "grid_gap": null,
      "grid_row": null,
      "grid_template_areas": null,
      "grid_template_columns": null,
      "grid_template_rows": null,
      "height": null,
      "justify_content": null,
      "justify_items": null,
      "left": null,
      "margin": null,
      "max_height": null,
      "max_width": null,
      "min_height": null,
      "min_width": null,
      "object_fit": null,
      "object_position": null,
      "order": null,
      "overflow": null,
      "overflow_x": null,
      "overflow_y": null,
      "padding": null,
      "right": null,
      "top": null,
      "visibility": null,
      "width": null
     }
    },
    "61b33bb472d24c86a6a6e41fe8e5a642": {
     "model_module": "@jupyter-widgets/base",
     "model_module_version": "1.2.0",
     "model_name": "LayoutModel",
     "state": {
      "_model_module": "@jupyter-widgets/base",
      "_model_module_version": "1.2.0",
      "_model_name": "LayoutModel",
      "_view_count": null,
      "_view_module": "@jupyter-widgets/base",
      "_view_module_version": "1.2.0",
      "_view_name": "LayoutView",
      "align_content": null,
      "align_items": null,
      "align_self": null,
      "border": null,
      "bottom": null,
      "display": null,
      "flex": null,
      "flex_flow": null,
      "grid_area": null,
      "grid_auto_columns": null,
      "grid_auto_flow": null,
      "grid_auto_rows": null,
      "grid_column": null,
      "grid_gap": null,
      "grid_row": null,
      "grid_template_areas": null,
      "grid_template_columns": null,
      "grid_template_rows": null,
      "height": null,
      "justify_content": null,
      "justify_items": null,
      "left": null,
      "margin": null,
      "max_height": null,
      "max_width": null,
      "min_height": null,
      "min_width": null,
      "object_fit": null,
      "object_position": null,
      "order": null,
      "overflow": null,
      "overflow_x": null,
      "overflow_y": null,
      "padding": null,
      "right": null,
      "top": null,
      "visibility": null,
      "width": null
     }
    },
    "643650dd06f54823b18415d289099d50": {
     "model_module": "@jupyter-widgets/controls",
     "model_module_version": "1.5.0",
     "model_name": "DescriptionStyleModel",
     "state": {
      "_model_module": "@jupyter-widgets/controls",
      "_model_module_version": "1.5.0",
      "_model_name": "DescriptionStyleModel",
      "_view_count": null,
      "_view_module": "@jupyter-widgets/base",
      "_view_module_version": "1.2.0",
      "_view_name": "StyleView",
      "description_width": ""
     }
    },
    "67861c7b09a240c8b99a96376a815d06": {
     "model_module": "@jupyter-widgets/base",
     "model_module_version": "1.2.0",
     "model_name": "LayoutModel",
     "state": {
      "_model_module": "@jupyter-widgets/base",
      "_model_module_version": "1.2.0",
      "_model_name": "LayoutModel",
      "_view_count": null,
      "_view_module": "@jupyter-widgets/base",
      "_view_module_version": "1.2.0",
      "_view_name": "LayoutView",
      "align_content": null,
      "align_items": null,
      "align_self": null,
      "border": null,
      "bottom": null,
      "display": null,
      "flex": null,
      "flex_flow": null,
      "grid_area": null,
      "grid_auto_columns": null,
      "grid_auto_flow": null,
      "grid_auto_rows": null,
      "grid_column": null,
      "grid_gap": null,
      "grid_row": null,
      "grid_template_areas": null,
      "grid_template_columns": null,
      "grid_template_rows": null,
      "height": null,
      "justify_content": null,
      "justify_items": null,
      "left": null,
      "margin": null,
      "max_height": null,
      "max_width": null,
      "min_height": null,
      "min_width": null,
      "object_fit": null,
      "object_position": null,
      "order": null,
      "overflow": null,
      "overflow_x": null,
      "overflow_y": null,
      "padding": null,
      "right": null,
      "top": null,
      "visibility": null,
      "width": null
     }
    },
    "6c3f5c3fa61142c39252c47497c25b9c": {
     "model_module": "@jupyter-widgets/controls",
     "model_module_version": "1.5.0",
     "model_name": "DescriptionStyleModel",
     "state": {
      "_model_module": "@jupyter-widgets/controls",
      "_model_module_version": "1.5.0",
      "_model_name": "DescriptionStyleModel",
      "_view_count": null,
      "_view_module": "@jupyter-widgets/base",
      "_view_module_version": "1.2.0",
      "_view_name": "StyleView",
      "description_width": ""
     }
    },
    "720b7fd299b240628c9df173d37ab127": {
     "model_module": "@jupyter-widgets/base",
     "model_module_version": "1.2.0",
     "model_name": "LayoutModel",
     "state": {
      "_model_module": "@jupyter-widgets/base",
      "_model_module_version": "1.2.0",
      "_model_name": "LayoutModel",
      "_view_count": null,
      "_view_module": "@jupyter-widgets/base",
      "_view_module_version": "1.2.0",
      "_view_name": "LayoutView",
      "align_content": null,
      "align_items": null,
      "align_self": null,
      "border": null,
      "bottom": null,
      "display": null,
      "flex": null,
      "flex_flow": null,
      "grid_area": null,
      "grid_auto_columns": null,
      "grid_auto_flow": null,
      "grid_auto_rows": null,
      "grid_column": null,
      "grid_gap": null,
      "grid_row": null,
      "grid_template_areas": null,
      "grid_template_columns": null,
      "grid_template_rows": null,
      "height": null,
      "justify_content": null,
      "justify_items": null,
      "left": null,
      "margin": null,
      "max_height": null,
      "max_width": null,
      "min_height": null,
      "min_width": null,
      "object_fit": null,
      "object_position": null,
      "order": null,
      "overflow": null,
      "overflow_x": null,
      "overflow_y": null,
      "padding": null,
      "right": null,
      "top": null,
      "visibility": null,
      "width": null
     }
    },
    "76d5afaf420843ae9fd40fab370063d9": {
     "model_module": "@jupyter-widgets/controls",
     "model_module_version": "1.5.0",
     "model_name": "HTMLModel",
     "state": {
      "_dom_classes": [],
      "_model_module": "@jupyter-widgets/controls",
      "_model_module_version": "1.5.0",
      "_model_name": "HTMLModel",
      "_view_count": null,
      "_view_module": "@jupyter-widgets/controls",
      "_view_module_version": "1.5.0",
      "_view_name": "HTMLView",
      "description": "",
      "description_tooltip": null,
      "layout": "IPY_MODEL_7de584a9dfeb4035aa9fc642d5e093b0",
      "placeholder": "​",
      "style": "IPY_MODEL_047882c957a14bc398b1ec0c0116f17d",
      "value": " 208k/208k [00:00&lt;00:00, 687kB/s]"
     }
    },
    "77c22c8d79ed4795a8496146b6f84507": {
     "model_module": "@jupyter-widgets/base",
     "model_module_version": "1.2.0",
     "model_name": "LayoutModel",
     "state": {
      "_model_module": "@jupyter-widgets/base",
      "_model_module_version": "1.2.0",
      "_model_name": "LayoutModel",
      "_view_count": null,
      "_view_module": "@jupyter-widgets/base",
      "_view_module_version": "1.2.0",
      "_view_name": "LayoutView",
      "align_content": null,
      "align_items": null,
      "align_self": null,
      "border": null,
      "bottom": null,
      "display": null,
      "flex": null,
      "flex_flow": null,
      "grid_area": null,
      "grid_auto_columns": null,
      "grid_auto_flow": null,
      "grid_auto_rows": null,
      "grid_column": null,
      "grid_gap": null,
      "grid_row": null,
      "grid_template_areas": null,
      "grid_template_columns": null,
      "grid_template_rows": null,
      "height": null,
      "justify_content": null,
      "justify_items": null,
      "left": null,
      "margin": null,
      "max_height": null,
      "max_width": null,
      "min_height": null,
      "min_width": null,
      "object_fit": null,
      "object_position": null,
      "order": null,
      "overflow": null,
      "overflow_x": null,
      "overflow_y": null,
      "padding": null,
      "right": null,
      "top": null,
      "visibility": null,
      "width": null
     }
    },
    "7de584a9dfeb4035aa9fc642d5e093b0": {
     "model_module": "@jupyter-widgets/base",
     "model_module_version": "1.2.0",
     "model_name": "LayoutModel",
     "state": {
      "_model_module": "@jupyter-widgets/base",
      "_model_module_version": "1.2.0",
      "_model_name": "LayoutModel",
      "_view_count": null,
      "_view_module": "@jupyter-widgets/base",
      "_view_module_version": "1.2.0",
      "_view_name": "LayoutView",
      "align_content": null,
      "align_items": null,
      "align_self": null,
      "border": null,
      "bottom": null,
      "display": null,
      "flex": null,
      "flex_flow": null,
      "grid_area": null,
      "grid_auto_columns": null,
      "grid_auto_flow": null,
      "grid_auto_rows": null,
      "grid_column": null,
      "grid_gap": null,
      "grid_row": null,
      "grid_template_areas": null,
      "grid_template_columns": null,
      "grid_template_rows": null,
      "height": null,
      "justify_content": null,
      "justify_items": null,
      "left": null,
      "margin": null,
      "max_height": null,
      "max_width": null,
      "min_height": null,
      "min_width": null,
      "object_fit": null,
      "object_position": null,
      "order": null,
      "overflow": null,
      "overflow_x": null,
      "overflow_y": null,
      "padding": null,
      "right": null,
      "top": null,
      "visibility": null,
      "width": null
     }
    },
    "8caf8495f811472ab6044fa484fe1bfb": {
     "model_module": "@jupyter-widgets/controls",
     "model_module_version": "1.5.0",
     "model_name": "ProgressStyleModel",
     "state": {
      "_model_module": "@jupyter-widgets/controls",
      "_model_module_version": "1.5.0",
      "_model_name": "ProgressStyleModel",
      "_view_count": null,
      "_view_module": "@jupyter-widgets/base",
      "_view_module_version": "1.2.0",
      "_view_name": "StyleView",
      "bar_color": null,
      "description_width": ""
     }
    },
    "8e0a828ebeb24aabb68943bd95442986": {
     "model_module": "@jupyter-widgets/controls",
     "model_module_version": "1.5.0",
     "model_name": "HTMLModel",
     "state": {
      "_dom_classes": [],
      "_model_module": "@jupyter-widgets/controls",
      "_model_module_version": "1.5.0",
      "_model_name": "HTMLModel",
      "_view_count": null,
      "_view_module": "@jupyter-widgets/controls",
      "_view_module_version": "1.5.0",
      "_view_name": "HTMLView",
      "description": "",
      "description_tooltip": null,
      "layout": "IPY_MODEL_47c72789b3ba4fd1a0eb2f3a0c271f2e",
      "placeholder": "​",
      "style": "IPY_MODEL_98483c5b6c414f9090dc826a1fdd2e14",
      "value": " 570/570 [00:00&lt;00:00, 13.9kB/s]"
     }
    },
    "91c3772c0d62413493055ab48767ec17": {
     "model_module": "@jupyter-widgets/controls",
     "model_module_version": "1.5.0",
     "model_name": "DescriptionStyleModel",
     "state": {
      "_model_module": "@jupyter-widgets/controls",
      "_model_module_version": "1.5.0",
      "_model_name": "DescriptionStyleModel",
      "_view_count": null,
      "_view_module": "@jupyter-widgets/base",
      "_view_module_version": "1.2.0",
      "_view_name": "StyleView",
      "description_width": ""
     }
    },
    "937ae311d1f541158337804445021a1a": {
     "model_module": "@jupyter-widgets/base",
     "model_module_version": "1.2.0",
     "model_name": "LayoutModel",
     "state": {
      "_model_module": "@jupyter-widgets/base",
      "_model_module_version": "1.2.0",
      "_model_name": "LayoutModel",
      "_view_count": null,
      "_view_module": "@jupyter-widgets/base",
      "_view_module_version": "1.2.0",
      "_view_name": "LayoutView",
      "align_content": null,
      "align_items": null,
      "align_self": null,
      "border": null,
      "bottom": null,
      "display": null,
      "flex": null,
      "flex_flow": null,
      "grid_area": null,
      "grid_auto_columns": null,
      "grid_auto_flow": null,
      "grid_auto_rows": null,
      "grid_column": null,
      "grid_gap": null,
      "grid_row": null,
      "grid_template_areas": null,
      "grid_template_columns": null,
      "grid_template_rows": null,
      "height": null,
      "justify_content": null,
      "justify_items": null,
      "left": null,
      "margin": null,
      "max_height": null,
      "max_width": null,
      "min_height": null,
      "min_width": null,
      "object_fit": null,
      "object_position": null,
      "order": null,
      "overflow": null,
      "overflow_x": null,
      "overflow_y": null,
      "padding": null,
      "right": null,
      "top": null,
      "visibility": null,
      "width": null
     }
    },
    "939038fdc8d44c42a612b63e162292c1": {
     "model_module": "@jupyter-widgets/controls",
     "model_module_version": "1.5.0",
     "model_name": "HTMLModel",
     "state": {
      "_dom_classes": [],
      "_model_module": "@jupyter-widgets/controls",
      "_model_module_version": "1.5.0",
      "_model_name": "HTMLModel",
      "_view_count": null,
      "_view_module": "@jupyter-widgets/controls",
      "_view_module_version": "1.5.0",
      "_view_name": "HTMLView",
      "description": "",
      "description_tooltip": null,
      "layout": "IPY_MODEL_ac5f7bf215a942e4999ee1b007daa5b4",
      "placeholder": "​",
      "style": "IPY_MODEL_f623932ccac240b2a1817c36f5b70b30",
      "value": "Downloading: 100%"
     }
    },
    "98483c5b6c414f9090dc826a1fdd2e14": {
     "model_module": "@jupyter-widgets/controls",
     "model_module_version": "1.5.0",
     "model_name": "DescriptionStyleModel",
     "state": {
      "_model_module": "@jupyter-widgets/controls",
      "_model_module_version": "1.5.0",
      "_model_name": "DescriptionStyleModel",
      "_view_count": null,
      "_view_module": "@jupyter-widgets/base",
      "_view_module_version": "1.2.0",
      "_view_name": "StyleView",
      "description_width": ""
     }
    },
    "9cf060a3f5e4426aae283bd0825424c5": {
     "model_module": "@jupyter-widgets/controls",
     "model_module_version": "1.5.0",
     "model_name": "HBoxModel",
     "state": {
      "_dom_classes": [],
      "_model_module": "@jupyter-widgets/controls",
      "_model_module_version": "1.5.0",
      "_model_name": "HBoxModel",
      "_view_count": null,
      "_view_module": "@jupyter-widgets/controls",
      "_view_module_version": "1.5.0",
      "_view_name": "HBoxView",
      "box_style": "",
      "children": [
       "IPY_MODEL_939038fdc8d44c42a612b63e162292c1",
       "IPY_MODEL_ec84876420f24eccba5bef39d5eaeaae",
       "IPY_MODEL_b3b66911d67d439e9456453131ca141c"
      ],
      "layout": "IPY_MODEL_2ce2776554464dc097a2d0dfc018b228"
     }
    },
    "9ed801cd98044572a88067f6d722b788": {
     "model_module": "@jupyter-widgets/base",
     "model_module_version": "1.2.0",
     "model_name": "LayoutModel",
     "state": {
      "_model_module": "@jupyter-widgets/base",
      "_model_module_version": "1.2.0",
      "_model_name": "LayoutModel",
      "_view_count": null,
      "_view_module": "@jupyter-widgets/base",
      "_view_module_version": "1.2.0",
      "_view_name": "LayoutView",
      "align_content": null,
      "align_items": null,
      "align_self": null,
      "border": null,
      "bottom": null,
      "display": null,
      "flex": null,
      "flex_flow": null,
      "grid_area": null,
      "grid_auto_columns": null,
      "grid_auto_flow": null,
      "grid_auto_rows": null,
      "grid_column": null,
      "grid_gap": null,
      "grid_row": null,
      "grid_template_areas": null,
      "grid_template_columns": null,
      "grid_template_rows": null,
      "height": null,
      "justify_content": null,
      "justify_items": null,
      "left": null,
      "margin": null,
      "max_height": null,
      "max_width": null,
      "min_height": null,
      "min_width": null,
      "object_fit": null,
      "object_position": null,
      "order": null,
      "overflow": null,
      "overflow_x": null,
      "overflow_y": null,
      "padding": null,
      "right": null,
      "top": null,
      "visibility": null,
      "width": null
     }
    },
    "9f2e8f5f7e784ec8b4c76c9ec9a210f5": {
     "model_module": "@jupyter-widgets/controls",
     "model_module_version": "1.5.0",
     "model_name": "HBoxModel",
     "state": {
      "_dom_classes": [],
      "_model_module": "@jupyter-widgets/controls",
      "_model_module_version": "1.5.0",
      "_model_name": "HBoxModel",
      "_view_count": null,
      "_view_module": "@jupyter-widgets/controls",
      "_view_module_version": "1.5.0",
      "_view_name": "HBoxView",
      "box_style": "",
      "children": [
       "IPY_MODEL_3ee3377c2b0e4bad99b95434adb6ebde",
       "IPY_MODEL_cf1634c7b529422da63651f06de86e5f",
       "IPY_MODEL_bb0f3ca3d62d4a3e9d535f7c3d9cbc0f"
      ],
      "layout": "IPY_MODEL_139cacaafea941a885548f0273c91e5f"
     }
    },
    "a1a1e0a21c7d47f797dc4ee08ff8cc8a": {
     "model_module": "@jupyter-widgets/controls",
     "model_module_version": "1.5.0",
     "model_name": "ProgressStyleModel",
     "state": {
      "_model_module": "@jupyter-widgets/controls",
      "_model_module_version": "1.5.0",
      "_model_name": "ProgressStyleModel",
      "_view_count": null,
      "_view_module": "@jupyter-widgets/base",
      "_view_module_version": "1.2.0",
      "_view_name": "StyleView",
      "bar_color": null,
      "description_width": ""
     }
    },
    "a55e13549acf403da73af8c86ec37c37": {
     "model_module": "@jupyter-widgets/base",
     "model_module_version": "1.2.0",
     "model_name": "LayoutModel",
     "state": {
      "_model_module": "@jupyter-widgets/base",
      "_model_module_version": "1.2.0",
      "_model_name": "LayoutModel",
      "_view_count": null,
      "_view_module": "@jupyter-widgets/base",
      "_view_module_version": "1.2.0",
      "_view_name": "LayoutView",
      "align_content": null,
      "align_items": null,
      "align_self": null,
      "border": null,
      "bottom": null,
      "display": null,
      "flex": null,
      "flex_flow": null,
      "grid_area": null,
      "grid_auto_columns": null,
      "grid_auto_flow": null,
      "grid_auto_rows": null,
      "grid_column": null,
      "grid_gap": null,
      "grid_row": null,
      "grid_template_areas": null,
      "grid_template_columns": null,
      "grid_template_rows": null,
      "height": null,
      "justify_content": null,
      "justify_items": null,
      "left": null,
      "margin": null,
      "max_height": null,
      "max_width": null,
      "min_height": null,
      "min_width": null,
      "object_fit": null,
      "object_position": null,
      "order": null,
      "overflow": null,
      "overflow_x": null,
      "overflow_y": null,
      "padding": null,
      "right": null,
      "top": null,
      "visibility": null,
      "width": null
     }
    },
    "a80a25dbbc7449e3810ff619023382da": {
     "model_module": "@jupyter-widgets/controls",
     "model_module_version": "1.5.0",
     "model_name": "DescriptionStyleModel",
     "state": {
      "_model_module": "@jupyter-widgets/controls",
      "_model_module_version": "1.5.0",
      "_model_name": "DescriptionStyleModel",
      "_view_count": null,
      "_view_module": "@jupyter-widgets/base",
      "_view_module_version": "1.2.0",
      "_view_name": "StyleView",
      "description_width": ""
     }
    },
    "aacd413f82c1426cb1ac8778467f19fb": {
     "model_module": "@jupyter-widgets/controls",
     "model_module_version": "1.5.0",
     "model_name": "HBoxModel",
     "state": {
      "_dom_classes": [],
      "_model_module": "@jupyter-widgets/controls",
      "_model_module_version": "1.5.0",
      "_model_name": "HBoxModel",
      "_view_count": null,
      "_view_module": "@jupyter-widgets/controls",
      "_view_module_version": "1.5.0",
      "_view_name": "HBoxView",
      "box_style": "",
      "children": [
       "IPY_MODEL_3d9234c7fd9e48d1a08f37fa32dbbdf8",
       "IPY_MODEL_4d1802f1397a4df18cbd79d411835f67",
       "IPY_MODEL_2fa09e6c17e14bb1a71ab6748ed49358"
      ],
      "layout": "IPY_MODEL_4c443e2d975d48fca2ac32ba908a82a3"
     }
    },
    "ac5f7bf215a942e4999ee1b007daa5b4": {
     "model_module": "@jupyter-widgets/base",
     "model_module_version": "1.2.0",
     "model_name": "LayoutModel",
     "state": {
      "_model_module": "@jupyter-widgets/base",
      "_model_module_version": "1.2.0",
      "_model_name": "LayoutModel",
      "_view_count": null,
      "_view_module": "@jupyter-widgets/base",
      "_view_module_version": "1.2.0",
      "_view_name": "LayoutView",
      "align_content": null,
      "align_items": null,
      "align_self": null,
      "border": null,
      "bottom": null,
      "display": null,
      "flex": null,
      "flex_flow": null,
      "grid_area": null,
      "grid_auto_columns": null,
      "grid_auto_flow": null,
      "grid_auto_rows": null,
      "grid_column": null,
      "grid_gap": null,
      "grid_row": null,
      "grid_template_areas": null,
      "grid_template_columns": null,
      "grid_template_rows": null,
      "height": null,
      "justify_content": null,
      "justify_items": null,
      "left": null,
      "margin": null,
      "max_height": null,
      "max_width": null,
      "min_height": null,
      "min_width": null,
      "object_fit": null,
      "object_position": null,
      "order": null,
      "overflow": null,
      "overflow_x": null,
      "overflow_y": null,
      "padding": null,
      "right": null,
      "top": null,
      "visibility": null,
      "width": null
     }
    },
    "b22bd7c13f914bc09969f59f7410665e": {
     "model_module": "@jupyter-widgets/base",
     "model_module_version": "1.2.0",
     "model_name": "LayoutModel",
     "state": {
      "_model_module": "@jupyter-widgets/base",
      "_model_module_version": "1.2.0",
      "_model_name": "LayoutModel",
      "_view_count": null,
      "_view_module": "@jupyter-widgets/base",
      "_view_module_version": "1.2.0",
      "_view_name": "LayoutView",
      "align_content": null,
      "align_items": null,
      "align_self": null,
      "border": null,
      "bottom": null,
      "display": null,
      "flex": null,
      "flex_flow": null,
      "grid_area": null,
      "grid_auto_columns": null,
      "grid_auto_flow": null,
      "grid_auto_rows": null,
      "grid_column": null,
      "grid_gap": null,
      "grid_row": null,
      "grid_template_areas": null,
      "grid_template_columns": null,
      "grid_template_rows": null,
      "height": null,
      "justify_content": null,
      "justify_items": null,
      "left": null,
      "margin": null,
      "max_height": null,
      "max_width": null,
      "min_height": null,
      "min_width": null,
      "object_fit": null,
      "object_position": null,
      "order": null,
      "overflow": null,
      "overflow_x": null,
      "overflow_y": null,
      "padding": null,
      "right": null,
      "top": null,
      "visibility": null,
      "width": null
     }
    },
    "b3b66911d67d439e9456453131ca141c": {
     "model_module": "@jupyter-widgets/controls",
     "model_module_version": "1.5.0",
     "model_name": "HTMLModel",
     "state": {
      "_dom_classes": [],
      "_model_module": "@jupyter-widgets/controls",
      "_model_module_version": "1.5.0",
      "_model_name": "HTMLModel",
      "_view_count": null,
      "_view_module": "@jupyter-widgets/controls",
      "_view_module_version": "1.5.0",
      "_view_name": "HTMLView",
      "description": "",
      "description_tooltip": null,
      "layout": "IPY_MODEL_08ae9991944248d493d038a180c97675",
      "placeholder": "​",
      "style": "IPY_MODEL_17b741c1702f45d78491f3e96652cf21",
      "value": " 760/760 [00:00&lt;00:00, 16.9kB/s]"
     }
    },
    "b8911266309f48f4a8956df52fd66115": {
     "model_module": "@jupyter-widgets/controls",
     "model_module_version": "1.5.0",
     "model_name": "DescriptionStyleModel",
     "state": {
      "_model_module": "@jupyter-widgets/controls",
      "_model_module_version": "1.5.0",
      "_model_name": "DescriptionStyleModel",
      "_view_count": null,
      "_view_module": "@jupyter-widgets/base",
      "_view_module_version": "1.2.0",
      "_view_name": "StyleView",
      "description_width": ""
     }
    },
    "b90d07cac0fc423d8ad6be27dc02b508": {
     "model_module": "@jupyter-widgets/controls",
     "model_module_version": "1.5.0",
     "model_name": "HBoxModel",
     "state": {
      "_dom_classes": [],
      "_model_module": "@jupyter-widgets/controls",
      "_model_module_version": "1.5.0",
      "_model_name": "HBoxModel",
      "_view_count": null,
      "_view_module": "@jupyter-widgets/controls",
      "_view_module_version": "1.5.0",
      "_view_name": "HBoxView",
      "box_style": "",
      "children": [
       "IPY_MODEL_bc1c4d2bc2434859af2e23c12c953ddc",
       "IPY_MODEL_22c25772e3664bbcb2f2290253e9723c",
       "IPY_MODEL_8e0a828ebeb24aabb68943bd95442986"
      ],
      "layout": "IPY_MODEL_77c22c8d79ed4795a8496146b6f84507"
     }
    },
    "b9b183417b84421baf112fc4eb58f96c": {
     "model_module": "@jupyter-widgets/controls",
     "model_module_version": "1.5.0",
     "model_name": "DescriptionStyleModel",
     "state": {
      "_model_module": "@jupyter-widgets/controls",
      "_model_module_version": "1.5.0",
      "_model_name": "DescriptionStyleModel",
      "_view_count": null,
      "_view_module": "@jupyter-widgets/base",
      "_view_module_version": "1.2.0",
      "_view_name": "StyleView",
      "description_width": ""
     }
    },
    "bb0f3ca3d62d4a3e9d535f7c3d9cbc0f": {
     "model_module": "@jupyter-widgets/controls",
     "model_module_version": "1.5.0",
     "model_name": "HTMLModel",
     "state": {
      "_dom_classes": [],
      "_model_module": "@jupyter-widgets/controls",
      "_model_module_version": "1.5.0",
      "_model_name": "HTMLModel",
      "_view_count": null,
      "_view_module": "@jupyter-widgets/controls",
      "_view_module_version": "1.5.0",
      "_view_name": "HTMLView",
      "description": "",
      "description_tooltip": null,
      "layout": "IPY_MODEL_5e082b3a252d408683f560a8f8fa5051",
      "placeholder": "​",
      "style": "IPY_MODEL_6c3f5c3fa61142c39252c47497c25b9c",
      "value": " 29.0/29.0 [00:00&lt;00:00, 641B/s]"
     }
    },
    "bc1c4d2bc2434859af2e23c12c953ddc": {
     "model_module": "@jupyter-widgets/controls",
     "model_module_version": "1.5.0",
     "model_name": "HTMLModel",
     "state": {
      "_dom_classes": [],
      "_model_module": "@jupyter-widgets/controls",
      "_model_module_version": "1.5.0",
      "_model_name": "HTMLModel",
      "_view_count": null,
      "_view_module": "@jupyter-widgets/controls",
      "_view_module_version": "1.5.0",
      "_view_name": "HTMLView",
      "description": "",
      "description_tooltip": null,
      "layout": "IPY_MODEL_ccd49891978141fe94ecd9825adbbb71",
      "placeholder": "​",
      "style": "IPY_MODEL_0dead1f5d9534604af865c8fbb2e3921",
      "value": "Downloading: 100%"
     }
    },
    "bd61fa80f46b45a393c23be9ee50a578": {
     "model_module": "@jupyter-widgets/controls",
     "model_module_version": "1.5.0",
     "model_name": "ProgressStyleModel",
     "state": {
      "_model_module": "@jupyter-widgets/controls",
      "_model_module_version": "1.5.0",
      "_model_name": "ProgressStyleModel",
      "_view_count": null,
      "_view_module": "@jupyter-widgets/base",
      "_view_module_version": "1.2.0",
      "_view_name": "StyleView",
      "bar_color": null,
      "description_width": ""
     }
    },
    "c41249f9cb4d40ce818029abdf02b7b8": {
     "model_module": "@jupyter-widgets/base",
     "model_module_version": "1.2.0",
     "model_name": "LayoutModel",
     "state": {
      "_model_module": "@jupyter-widgets/base",
      "_model_module_version": "1.2.0",
      "_model_name": "LayoutModel",
      "_view_count": null,
      "_view_module": "@jupyter-widgets/base",
      "_view_module_version": "1.2.0",
      "_view_name": "LayoutView",
      "align_content": null,
      "align_items": null,
      "align_self": null,
      "border": null,
      "bottom": null,
      "display": null,
      "flex": null,
      "flex_flow": null,
      "grid_area": null,
      "grid_auto_columns": null,
      "grid_auto_flow": null,
      "grid_auto_rows": null,
      "grid_column": null,
      "grid_gap": null,
      "grid_row": null,
      "grid_template_areas": null,
      "grid_template_columns": null,
      "grid_template_rows": null,
      "height": null,
      "justify_content": null,
      "justify_items": null,
      "left": null,
      "margin": null,
      "max_height": null,
      "max_width": null,
      "min_height": null,
      "min_width": null,
      "object_fit": null,
      "object_position": null,
      "order": null,
      "overflow": null,
      "overflow_x": null,
      "overflow_y": null,
      "padding": null,
      "right": null,
      "top": null,
      "visibility": null,
      "width": null
     }
    },
    "c5ea08e233434cb5a3ed2722e3898b6b": {
     "model_module": "@jupyter-widgets/controls",
     "model_module_version": "1.5.0",
     "model_name": "ProgressStyleModel",
     "state": {
      "_model_module": "@jupyter-widgets/controls",
      "_model_module_version": "1.5.0",
      "_model_name": "ProgressStyleModel",
      "_view_count": null,
      "_view_module": "@jupyter-widgets/base",
      "_view_module_version": "1.2.0",
      "_view_name": "StyleView",
      "bar_color": null,
      "description_width": ""
     }
    },
    "ca43e30729b34558a3ff7242bda28e1a": {
     "model_module": "@jupyter-widgets/base",
     "model_module_version": "1.2.0",
     "model_name": "LayoutModel",
     "state": {
      "_model_module": "@jupyter-widgets/base",
      "_model_module_version": "1.2.0",
      "_model_name": "LayoutModel",
      "_view_count": null,
      "_view_module": "@jupyter-widgets/base",
      "_view_module_version": "1.2.0",
      "_view_name": "LayoutView",
      "align_content": null,
      "align_items": null,
      "align_self": null,
      "border": null,
      "bottom": null,
      "display": null,
      "flex": null,
      "flex_flow": null,
      "grid_area": null,
      "grid_auto_columns": null,
      "grid_auto_flow": null,
      "grid_auto_rows": null,
      "grid_column": null,
      "grid_gap": null,
      "grid_row": null,
      "grid_template_areas": null,
      "grid_template_columns": null,
      "grid_template_rows": null,
      "height": null,
      "justify_content": null,
      "justify_items": null,
      "left": null,
      "margin": null,
      "max_height": null,
      "max_width": null,
      "min_height": null,
      "min_width": null,
      "object_fit": null,
      "object_position": null,
      "order": null,
      "overflow": null,
      "overflow_x": null,
      "overflow_y": null,
      "padding": null,
      "right": null,
      "top": null,
      "visibility": null,
      "width": null
     }
    },
    "ccd49891978141fe94ecd9825adbbb71": {
     "model_module": "@jupyter-widgets/base",
     "model_module_version": "1.2.0",
     "model_name": "LayoutModel",
     "state": {
      "_model_module": "@jupyter-widgets/base",
      "_model_module_version": "1.2.0",
      "_model_name": "LayoutModel",
      "_view_count": null,
      "_view_module": "@jupyter-widgets/base",
      "_view_module_version": "1.2.0",
      "_view_name": "LayoutView",
      "align_content": null,
      "align_items": null,
      "align_self": null,
      "border": null,
      "bottom": null,
      "display": null,
      "flex": null,
      "flex_flow": null,
      "grid_area": null,
      "grid_auto_columns": null,
      "grid_auto_flow": null,
      "grid_auto_rows": null,
      "grid_column": null,
      "grid_gap": null,
      "grid_row": null,
      "grid_template_areas": null,
      "grid_template_columns": null,
      "grid_template_rows": null,
      "height": null,
      "justify_content": null,
      "justify_items": null,
      "left": null,
      "margin": null,
      "max_height": null,
      "max_width": null,
      "min_height": null,
      "min_width": null,
      "object_fit": null,
      "object_position": null,
      "order": null,
      "overflow": null,
      "overflow_x": null,
      "overflow_y": null,
      "padding": null,
      "right": null,
      "top": null,
      "visibility": null,
      "width": null
     }
    },
    "cee4b802cf28492cb68a7725208eba3e": {
     "model_module": "@jupyter-widgets/controls",
     "model_module_version": "1.5.0",
     "model_name": "DescriptionStyleModel",
     "state": {
      "_model_module": "@jupyter-widgets/controls",
      "_model_module_version": "1.5.0",
      "_model_name": "DescriptionStyleModel",
      "_view_count": null,
      "_view_module": "@jupyter-widgets/base",
      "_view_module_version": "1.2.0",
      "_view_name": "StyleView",
      "description_width": ""
     }
    },
    "cf1634c7b529422da63651f06de86e5f": {
     "model_module": "@jupyter-widgets/controls",
     "model_module_version": "1.5.0",
     "model_name": "FloatProgressModel",
     "state": {
      "_dom_classes": [],
      "_model_module": "@jupyter-widgets/controls",
      "_model_module_version": "1.5.0",
      "_model_name": "FloatProgressModel",
      "_view_count": null,
      "_view_module": "@jupyter-widgets/controls",
      "_view_module_version": "1.5.0",
      "_view_name": "ProgressView",
      "bar_style": "success",
      "description": "",
      "description_tooltip": null,
      "layout": "IPY_MODEL_67861c7b09a240c8b99a96376a815d06",
      "max": 29,
      "min": 0,
      "orientation": "horizontal",
      "style": "IPY_MODEL_a1a1e0a21c7d47f797dc4ee08ff8cc8a",
      "value": 29
     }
    },
    "d6bd8fbc4c73487092ce837afbe3d6ec": {
     "model_module": "@jupyter-widgets/base",
     "model_module_version": "1.2.0",
     "model_name": "LayoutModel",
     "state": {
      "_model_module": "@jupyter-widgets/base",
      "_model_module_version": "1.2.0",
      "_model_name": "LayoutModel",
      "_view_count": null,
      "_view_module": "@jupyter-widgets/base",
      "_view_module_version": "1.2.0",
      "_view_name": "LayoutView",
      "align_content": null,
      "align_items": null,
      "align_self": null,
      "border": null,
      "bottom": null,
      "display": null,
      "flex": null,
      "flex_flow": null,
      "grid_area": null,
      "grid_auto_columns": null,
      "grid_auto_flow": null,
      "grid_auto_rows": null,
      "grid_column": null,
      "grid_gap": null,
      "grid_row": null,
      "grid_template_areas": null,
      "grid_template_columns": null,
      "grid_template_rows": null,
      "height": null,
      "justify_content": null,
      "justify_items": null,
      "left": null,
      "margin": null,
      "max_height": null,
      "max_width": null,
      "min_height": null,
      "min_width": null,
      "object_fit": null,
      "object_position": null,
      "order": null,
      "overflow": null,
      "overflow_x": null,
      "overflow_y": null,
      "padding": null,
      "right": null,
      "top": null,
      "visibility": null,
      "width": null
     }
    },
    "d9f569a6787b4a63ae9e2d11e5d0c604": {
     "model_module": "@jupyter-widgets/controls",
     "model_module_version": "1.5.0",
     "model_name": "HTMLModel",
     "state": {
      "_dom_classes": [],
      "_model_module": "@jupyter-widgets/controls",
      "_model_module_version": "1.5.0",
      "_model_name": "HTMLModel",
      "_view_count": null,
      "_view_module": "@jupyter-widgets/controls",
      "_view_module_version": "1.5.0",
      "_view_name": "HTMLView",
      "description": "",
      "description_tooltip": null,
      "layout": "IPY_MODEL_18bbb0ba63564a49af007e17f7688727",
      "placeholder": "​",
      "style": "IPY_MODEL_b9b183417b84421baf112fc4eb58f96c",
      "value": " 1.32M/1.32M [00:01&lt;00:00, 1.32MB/s]"
     }
    },
    "de0c5e65d77d46b6bdc09a3b2d632148": {
     "model_module": "@jupyter-widgets/base",
     "model_module_version": "1.2.0",
     "model_name": "LayoutModel",
     "state": {
      "_model_module": "@jupyter-widgets/base",
      "_model_module_version": "1.2.0",
      "_model_name": "LayoutModel",
      "_view_count": null,
      "_view_module": "@jupyter-widgets/base",
      "_view_module_version": "1.2.0",
      "_view_name": "LayoutView",
      "align_content": null,
      "align_items": null,
      "align_self": null,
      "border": null,
      "bottom": null,
      "display": null,
      "flex": null,
      "flex_flow": null,
      "grid_area": null,
      "grid_auto_columns": null,
      "grid_auto_flow": null,
      "grid_auto_rows": null,
      "grid_column": null,
      "grid_gap": null,
      "grid_row": null,
      "grid_template_areas": null,
      "grid_template_columns": null,
      "grid_template_rows": null,
      "height": null,
      "justify_content": null,
      "justify_items": null,
      "left": null,
      "margin": null,
      "max_height": null,
      "max_width": null,
      "min_height": null,
      "min_width": null,
      "object_fit": null,
      "object_position": null,
      "order": null,
      "overflow": null,
      "overflow_x": null,
      "overflow_y": null,
      "padding": null,
      "right": null,
      "top": null,
      "visibility": null,
      "width": null
     }
    },
    "ec84876420f24eccba5bef39d5eaeaae": {
     "model_module": "@jupyter-widgets/controls",
     "model_module_version": "1.5.0",
     "model_name": "FloatProgressModel",
     "state": {
      "_dom_classes": [],
      "_model_module": "@jupyter-widgets/controls",
      "_model_module_version": "1.5.0",
      "_model_name": "FloatProgressModel",
      "_view_count": null,
      "_view_module": "@jupyter-widgets/controls",
      "_view_module_version": "1.5.0",
      "_view_name": "ProgressView",
      "bar_style": "success",
      "description": "",
      "description_tooltip": null,
      "layout": "IPY_MODEL_10025eca89f7423287b9521426b43e0b",
      "max": 760,
      "min": 0,
      "orientation": "horizontal",
      "style": "IPY_MODEL_0846c028e9994a5aaf54071b1fecf311",
      "value": 760
     }
    },
    "edc3cc095d97418b940be52037a34989": {
     "model_module": "@jupyter-widgets/controls",
     "model_module_version": "1.5.0",
     "model_name": "DescriptionStyleModel",
     "state": {
      "_model_module": "@jupyter-widgets/controls",
      "_model_module_version": "1.5.0",
      "_model_name": "DescriptionStyleModel",
      "_view_count": null,
      "_view_module": "@jupyter-widgets/base",
      "_view_module_version": "1.2.0",
      "_view_name": "StyleView",
      "description_width": ""
     }
    },
    "f585401a715c4b79b9030ac642a1b58e": {
     "model_module": "@jupyter-widgets/controls",
     "model_module_version": "1.5.0",
     "model_name": "FloatProgressModel",
     "state": {
      "_dom_classes": [],
      "_model_module": "@jupyter-widgets/controls",
      "_model_module_version": "1.5.0",
      "_model_name": "FloatProgressModel",
      "_view_count": null,
      "_view_module": "@jupyter-widgets/controls",
      "_view_module_version": "1.5.0",
      "_view_name": "ProgressView",
      "bar_style": "success",
      "description": "",
      "description_tooltip": null,
      "layout": "IPY_MODEL_a55e13549acf403da73af8c86ec37c37",
      "max": 798011,
      "min": 0,
      "orientation": "horizontal",
      "style": "IPY_MODEL_45c2cf19f55f486b8189cbfd025d5b4b",
      "value": 798011
     }
    },
    "f623932ccac240b2a1817c36f5b70b30": {
     "model_module": "@jupyter-widgets/controls",
     "model_module_version": "1.5.0",
     "model_name": "DescriptionStyleModel",
     "state": {
      "_model_module": "@jupyter-widgets/controls",
      "_model_module_version": "1.5.0",
      "_model_name": "DescriptionStyleModel",
      "_view_count": null,
      "_view_module": "@jupyter-widgets/base",
      "_view_module_version": "1.2.0",
      "_view_name": "StyleView",
      "description_width": ""
     }
    },
    "f861ea95f52047d59ffbbef118890c09": {
     "model_module": "@jupyter-widgets/controls",
     "model_module_version": "1.5.0",
     "model_name": "HBoxModel",
     "state": {
      "_dom_classes": [],
      "_model_module": "@jupyter-widgets/controls",
      "_model_module_version": "1.5.0",
      "_model_name": "HBoxModel",
      "_view_count": null,
      "_view_module": "@jupyter-widgets/controls",
      "_view_module_version": "1.5.0",
      "_view_name": "HBoxView",
      "box_style": "",
      "children": [
       "IPY_MODEL_2013c1df8ab446b5b187044e8761480c",
       "IPY_MODEL_4c3e9b11f2f944538df5293d0f8670f0",
       "IPY_MODEL_d9f569a6787b4a63ae9e2d11e5d0c604"
      ],
      "layout": "IPY_MODEL_ca43e30729b34558a3ff7242bda28e1a"
     }
    },
    "fa325e2c9c9e43d09ac54a6f465ff9ca": {
     "model_module": "@jupyter-widgets/controls",
     "model_module_version": "1.5.0",
     "model_name": "HTMLModel",
     "state": {
      "_dom_classes": [],
      "_model_module": "@jupyter-widgets/controls",
      "_model_module_version": "1.5.0",
      "_model_name": "HTMLModel",
      "_view_count": null,
      "_view_module": "@jupyter-widgets/controls",
      "_view_module_version": "1.5.0",
      "_view_name": "HTMLView",
      "description": "",
      "description_tooltip": null,
      "layout": "IPY_MODEL_de0c5e65d77d46b6bdc09a3b2d632148",
      "placeholder": "​",
      "style": "IPY_MODEL_121f91af99c64ed9bab06679f2417f5e",
      "value": " 779k/779k [00:00&lt;00:00, 659kB/s]"
     }
    }
   }
  }
 },
 "nbformat": 4,
 "nbformat_minor": 1
}
